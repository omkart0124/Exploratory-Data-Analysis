{
  "nbformat": 4,
  "nbformat_minor": 0,
  "metadata": {
    "colab": {
      "name": "ITV_Review_NLP.ipynb",
      "provenance": [],
      "collapsed_sections": [],
      "authorship_tag": "ABX9TyOqYXfDS2LWqTdw5lUrdxMc",
      "include_colab_link": true
    },
    "kernelspec": {
      "name": "python3",
      "display_name": "Python 3"
    },
    "language_info": {
      "name": "python"
    }
  },
  "cells": [
    {
      "cell_type": "markdown",
      "metadata": {
        "id": "view-in-github",
        "colab_type": "text"
      },
      "source": [
        "<a href=\"https://colab.research.google.com/github/omkart0124/Exploratory-Data-Analysis/blob/main/ITV_Review_NLP.ipynb\" target=\"_parent\"><img src=\"https://colab.research.google.com/assets/colab-badge.svg\" alt=\"Open In Colab\"/></a>"
      ]
    },
    {
      "cell_type": "code",
      "metadata": {
        "colab": {
          "base_uri": "https://localhost:8080/"
        },
        "id": "hPtNJLmK1DV-",
        "outputId": "45eefa2a-75ab-41a2-d73b-6214735874e9"
      },
      "source": [
        "import warnings\n",
        "import numpy as np\n",
        "import matplotlib.pyplot as plt\n",
        "import nltk\n",
        "nltk.download('punkt')\n",
        "nltk.download('wordnet')\n",
        "nltk.download('stopwords')\n",
        "\n",
        "from nltk.tokenize import word_tokenize\n",
        "from nltk.corpus import stopwords\n",
        "from string import punctuation\n",
        "\n",
        "from wordcloud import WordCloud\n",
        "from nltk.stem import WordNetLemmatizer\n",
        "from sklearn.feature_extraction.text import CountVectorizer,TfidfVectorizer\n",
        "import pandas as pd\n",
        "warnings.filterwarnings('ignore')"
      ],
      "execution_count": null,
      "outputs": [
        {
          "output_type": "stream",
          "text": [
            "[nltk_data] Downloading package punkt to /root/nltk_data...\n",
            "[nltk_data]   Unzipping tokenizers/punkt.zip.\n",
            "[nltk_data] Downloading package wordnet to /root/nltk_data...\n",
            "[nltk_data]   Unzipping corpora/wordnet.zip.\n",
            "[nltk_data] Downloading package stopwords to /root/nltk_data...\n",
            "[nltk_data]   Unzipping corpora/stopwords.zip.\n"
          ],
          "name": "stdout"
        }
      ]
    },
    {
      "cell_type": "code",
      "metadata": {
        "colab": {
          "base_uri": "https://localhost:8080/"
        },
        "id": "zQ5QlPad23DX",
        "outputId": "462a4d98-596b-420a-a244-13f9283c65c4"
      },
      "source": [
        "df = pd.read_csv(\"NLP CSV.csv\", encoding=\"latin-1\")\n",
        "df.head()"
      ],
      "execution_count": null,
      "outputs": [
        {
          "output_type": "execute_result",
          "data": {
            "text/html": [
              "<div>\n",
              "<style scoped>\n",
              "    .dataframe tbody tr th:only-of-type {\n",
              "        vertical-align: middle;\n",
              "    }\n",
              "\n",
              "    .dataframe tbody tr th {\n",
              "        vertical-align: top;\n",
              "    }\n",
              "\n",
              "    .dataframe thead th {\n",
              "        text-align: right;\n",
              "    }\n",
              "</style>\n",
              "<table border=\"1\" class=\"dataframe\">\n",
              "  <thead>\n",
              "    <tr style=\"text-align: right;\">\n",
              "      <th></th>\n",
              "      <th>Name</th>\n",
              "      <th>Time</th>\n",
              "      <th>Train-Test Data</th>\n",
              "      <th>Review</th>\n",
              "      <th>Unnamed: 4</th>\n",
              "    </tr>\n",
              "  </thead>\n",
              "  <tbody>\n",
              "    <tr>\n",
              "      <th>0</th>\n",
              "      <td>143Pallavi Karande</td>\n",
              "      <td>a month ago</td>\n",
              "      <td>New</td>\n",
              "      <td>I just attended the counselling session and it...</td>\n",
              "      <td>NaN</td>\n",
              "    </tr>\n",
              "    <tr>\n",
              "      <th>1</th>\n",
              "      <td>Abhinay Bhosale</td>\n",
              "      <td>2 months ago</td>\n",
              "      <td>New</td>\n",
              "      <td>Good Teaching staff with concepts cleared in t...</td>\n",
              "      <td>NaN</td>\n",
              "    </tr>\n",
              "    <tr>\n",
              "      <th>2</th>\n",
              "      <td>Adhithi Prabhu</td>\n",
              "      <td>3 months ago</td>\n",
              "      <td>Old</td>\n",
              "      <td>I joined IT Vedant for data science course.Tea...</td>\n",
              "      <td>NaN</td>\n",
              "    </tr>\n",
              "    <tr>\n",
              "      <th>3</th>\n",
              "      <td>Aditi Joshi</td>\n",
              "      <td>a year ago</td>\n",
              "      <td>Old</td>\n",
              "      <td>I have taken admission for python developer co...</td>\n",
              "      <td>NaN</td>\n",
              "    </tr>\n",
              "    <tr>\n",
              "      <th>4</th>\n",
              "      <td>Aditi Patade</td>\n",
              "      <td>a day ago</td>\n",
              "      <td>New</td>\n",
              "      <td>They've the best assistance anyone would recie...</td>\n",
              "      <td>NaN</td>\n",
              "    </tr>\n",
              "  </tbody>\n",
              "</table>\n",
              "</div>"
            ],
            "text/plain": [
              "                 Name  ... Unnamed: 4\n",
              "0  143Pallavi Karande  ...        NaN\n",
              "1     Abhinay Bhosale  ...        NaN\n",
              "2      Adhithi Prabhu  ...        NaN\n",
              "3         Aditi Joshi  ...        NaN\n",
              "4        Aditi Patade  ...        NaN\n",
              "\n",
              "[5 rows x 5 columns]"
            ]
          },
          "metadata": {
            "tags": []
          },
          "execution_count": 2
        }
      ]
    },
    {
      "cell_type": "code",
      "metadata": {
        "id": "gpEokuai27Ne"
      },
      "source": [
        "df.drop([\"Unnamed: 4\"],axis=1, inplace=True)\n",
        "df.drop([\"Name\"],axis=1, inplace=True)\n",
        "df.drop([\"Time\"],axis=1, inplace=True)"
      ],
      "execution_count": null,
      "outputs": []
    },
    {
      "cell_type": "code",
      "metadata": {
        "colab": {
          "base_uri": "https://localhost:8080/"
        },
        "id": "Q2Gqwb312-21",
        "outputId": "6232e258-cdcb-4470-a2d0-2782c3dae411"
      },
      "source": [
        "df.head(2)"
      ],
      "execution_count": null,
      "outputs": [
        {
          "output_type": "execute_result",
          "data": {
            "text/html": [
              "<div>\n",
              "<style scoped>\n",
              "    .dataframe tbody tr th:only-of-type {\n",
              "        vertical-align: middle;\n",
              "    }\n",
              "\n",
              "    .dataframe tbody tr th {\n",
              "        vertical-align: top;\n",
              "    }\n",
              "\n",
              "    .dataframe thead th {\n",
              "        text-align: right;\n",
              "    }\n",
              "</style>\n",
              "<table border=\"1\" class=\"dataframe\">\n",
              "  <thead>\n",
              "    <tr style=\"text-align: right;\">\n",
              "      <th></th>\n",
              "      <th>Train-Test Data</th>\n",
              "      <th>Review</th>\n",
              "    </tr>\n",
              "  </thead>\n",
              "  <tbody>\n",
              "    <tr>\n",
              "      <th>0</th>\n",
              "      <td>New</td>\n",
              "      <td>I just attended the counselling session and it...</td>\n",
              "    </tr>\n",
              "    <tr>\n",
              "      <th>1</th>\n",
              "      <td>New</td>\n",
              "      <td>Good Teaching staff with concepts cleared in t...</td>\n",
              "    </tr>\n",
              "  </tbody>\n",
              "</table>\n",
              "</div>"
            ],
            "text/plain": [
              "  Train-Test Data                                             Review\n",
              "0             New  I just attended the counselling session and it...\n",
              "1             New  Good Teaching staff with concepts cleared in t..."
            ]
          },
          "metadata": {
            "tags": []
          },
          "execution_count": 4
        }
      ]
    },
    {
      "cell_type": "code",
      "metadata": {
        "colab": {
          "base_uri": "https://localhost:8080/"
        },
        "id": "feJg9Tp03C4o",
        "outputId": "4f6738d5-369f-4862-d7e7-b1f7ff4680e3"
      },
      "source": [
        "wc = WordCloud(width=800, height=800, background_color='white', min_font_size=10)#creating wordcloud object\n",
        "wc.generate(\"\".join(df[df['Train-Test Data']=='New']['Review']))\n",
        "plt.figure(figsize=(6,6))\n",
        "plt.imshow(wc)\n",
        "plt.axis(\"off\")# turn off axis no need of axis\n",
        "plt.show()"
      ],
      "execution_count": null,
      "outputs": [
        {
          "output_type": "display_data",
          "data": {
            "image/png": "[encoded data removed]",
            "text/plain": [
              "<Figure size 432x432 with 1 Axes>"
            ]
          },
          "metadata": {
            "tags": [],
            "needs_background": "light"
          }
        }
      ]
    },
    {
      "cell_type": "code",
      "metadata": {
        "colab": {
          "base_uri": "https://localhost:8080/"
        },
        "id": "yDJHCHjR3EUs",
        "outputId": "7d987242-f476-4f15-9374-6f606b860788"
      },
      "source": [
        "wc = WordCloud(width=800, height=800, background_color='white', min_font_size=10)#creating wordcloud object\n",
        "wc.generate(\"\".join(df[df['Train-Test Data']=='Old']['Review']))#Here we give some index and that index going to generate some image\n",
        "\n",
        "\n",
        "plt.figure(figsize=(6,6))\n",
        "plt.imshow(wc)\n",
        "plt.axis(\"off\")# turn off axis no need of axis\n",
        "plt.show()"
      ],
      "execution_count": null,
      "outputs": [
        {
          "output_type": "display_data",
          "data": {
            "image/png": "[encoded data removed]",
            "text/plain": [
              "<Figure size 432x432 with 1 Axes>"
            ]
          },
          "metadata": {
            "tags": [],
            "needs_background": "light"
          }
        }
      ]
    },
    {
      "cell_type": "code",
      "metadata": {
        "id": "NPGzhx-H_b4a"
      },
      "source": [
        "#from sklearn.preprocessing import LabelEncoder\n",
        "\n",
        "#le = LabelEncoder()\n",
        "\n",
        "#d = df.apply(le.fit_transform,axis=0)\n",
        "#df['Train-Test Data'] = le.fit_transform(df['Train-Test Data'])\n",
        "#df['Review'] = le.fit_transform(df['Review'])"
      ],
      "execution_count": null,
      "outputs": []
    },
    {
      "cell_type": "code",
      "metadata": {
        "id": "O4iyIrUO3GP8"
      },
      "source": [
        "stopword=stopwords.words('english')\n",
        "punc=list(punctuation)"
      ],
      "execution_count": null,
      "outputs": []
    },
    {
      "cell_type": "code",
      "metadata": {
        "id": "Mquax2GAH3fo"
      },
      "source": [
        "stop=stopword+punc"
      ],
      "execution_count": null,
      "outputs": []
    },
    {
      "cell_type": "code",
      "metadata": {
        "id": "01QVTg9mH9W1"
      },
      "source": [
        "def clean_text(text):\n",
        "  tokens=word_tokenize(text.lower())\n",
        "  word_tokens=[x for x in tokens if x.isalpha()]\n",
        "  clean_tokens=[x for x in word_tokens if x not in stop]\n",
        "  lemma=WordNetLemmatizer()\n",
        "  lemma_token=[lemma.lemmatize(t) for t in clean_tokens]\n",
        "  return ' '.join(lemma_token)"
      ],
      "execution_count": null,
      "outputs": []
    },
    {
      "cell_type": "code",
      "metadata": {
        "id": "r5z96LN-_i2n"
      },
      "source": [
        "#def clean_text(text):\n",
        "#  tokens = word_tokenize(text.lower())    # that converted into lower case\n",
        "#  word_tokens = [t for t in tokens if t.isalpha()]   # this will help us to deal with pun. and no\n",
        "#  clean_tokens = [t for t in word_tokens if t not in stop]# Remove stop words\n",
        "#  lemma = WordNetLemmatizer()# Lemmitization it just handle plural\n",
        "#  lemma_tokens = [lemma.lemmatize(t) for t in clean_tokens]\n",
        "\n",
        "#  return \" \".join(lemma_tokens)"
      ],
      "execution_count": null,
      "outputs": []
    },
    {
      "cell_type": "code",
      "metadata": {
        "id": "fYBjtzYo45ny"
      },
      "source": [
        "#def clean_text(text):\n",
        "#  tokens=word_tokenize(text.lower())\n",
        "#  word_tokens=[x for x in tokens if x.isalpha()]\n",
        "#  clean_tokens=[x for x in word_tokens if x not in stop]\n",
        "#  lemma=WordNetLemmatizer()\n",
        "#  lemma_token=[lemma.lemmatize(t) for t in clean_tokens]\n",
        "#  return ' '.join(lemma_token)\n",
        "#def clean_text(text):\n",
        "#  tokens = word_tokenize(text.lower())    # that converted into lower case\n",
        "#  word_tokens = [t for t in tokens if t.isalpha()]   # this will help us to deal with pun. and no\n",
        "#  clean_tokens = [t for t in word_tokens if t not in stop]# Remove stop words\n",
        "#  lemma = WordNetLemmatizer()# Lemmitization it just handle plural\n",
        "#  lemma_tokens = [lemma.lemmatize(t) for t in clean_tokens]\n",
        "\n",
        "#  return \" \".join(lemma_tokens)"
      ],
      "execution_count": null,
      "outputs": []
    },
    {
      "cell_type": "code",
      "metadata": {
        "colab": {
          "base_uri": "https://localhost:8080/"
        },
        "id": "AXXtr84l48d5",
        "outputId": "b8dcfe21-4cfa-4dc7-84ce-2799b2c0f1d7"
      },
      "source": [
        "df['Review']=df['Review'].apply(clean_text)\n",
        "df['Review']"
      ],
      "execution_count": null,
      "outputs": [
        {
          "output_type": "execute_result",
          "data": {
            "text/plain": [
              "0     attended counselling session par head counsell...\n",
              "1     good teaching staff concept cleared first sess...\n",
              "2     joined vedant data science non teaching staff ...\n",
              "3     taken admission python developer course itveda...\n",
              "4     best assistance anyone would recieve regarded ...\n",
              "                            ...                        \n",
              "69    joined itvedant december enrolled course web d...\n",
              "70    joined python developer course itvedant andher...\n",
              "71    good institute enhance skill encouraging mento...\n",
              "72    itvedant one best software training institute ...\n",
              "73    enrolled data science basic course itvedant th...\n",
              "Name: Review, Length: 74, dtype: object"
            ]
          },
          "metadata": {
            "tags": []
          },
          "execution_count": 13
        }
      ]
    },
    {
      "cell_type": "code",
      "metadata": {
        "id": "wCZ4Gftg7cWv"
      },
      "source": [
        "from sklearn.preprocessing import LabelEncoder\n",
        "\n",
        "le = LabelEncoder()\n",
        "\n",
        "d = df.apply(le.fit_transform,axis=0)\n",
        "df['Train-Test Data'] = le.fit_transform(df['Train-Test Data'])\n",
        "#df['Review'] = le.fit_transform(df['Review'])"
      ],
      "execution_count": null,
      "outputs": []
    },
    {
      "cell_type": "code",
      "metadata": {
        "id": "uurj0x0u7p46"
      },
      "source": [
        "x = df['Review']\n",
        "y = df['Train-Test Data']"
      ],
      "execution_count": null,
      "outputs": []
    },
    {
      "cell_type": "code",
      "metadata": {
        "id": "HGJzBI2w5Em6"
      },
      "source": [
        "#x= np.array(df[['Review']]).reshape(-1,1)\n",
        "#y= np.array(df['Train-Test Data']).reshape(-1, 1)"
      ],
      "execution_count": null,
      "outputs": []
    },
    {
      "cell_type": "code",
      "metadata": {
        "colab": {
          "base_uri": "https://localhost:8080/"
        },
        "id": "pIjAnAk_jiAx",
        "outputId": "144444d2-c659-4202-9a52-dbce1acf0304"
      },
      "source": [
        "x.shape"
      ],
      "execution_count": null,
      "outputs": [
        {
          "output_type": "execute_result",
          "data": {
            "text/plain": [
              "(74,)"
            ]
          },
          "metadata": {
            "tags": []
          },
          "execution_count": 17
        }
      ]
    },
    {
      "cell_type": "code",
      "metadata": {
        "colab": {
          "base_uri": "https://localhost:8080/"
        },
        "id": "3Yh2nUBiKcIJ",
        "outputId": "bca4e114-28e5-42ee-acac-2698e21c157e"
      },
      "source": [
        "x"
      ],
      "execution_count": null,
      "outputs": [
        {
          "output_type": "execute_result",
          "data": {
            "text/plain": [
              "0     attended counselling session par head counsell...\n",
              "1     good teaching staff concept cleared first sess...\n",
              "2     joined vedant data science non teaching staff ...\n",
              "3     taken admission python developer course itveda...\n",
              "4     best assistance anyone would recieve regarded ...\n",
              "                            ...                        \n",
              "69    joined itvedant december enrolled course web d...\n",
              "70    joined python developer course itvedant andher...\n",
              "71    good institute enhance skill encouraging mento...\n",
              "72    itvedant one best software training institute ...\n",
              "73    enrolled data science basic course itvedant th...\n",
              "Name: Review, Length: 74, dtype: object"
            ]
          },
          "metadata": {
            "tags": []
          },
          "execution_count": 18
        }
      ]
    },
    {
      "cell_type": "code",
      "metadata": {
        "id": "xe5o-xwK5cqD"
      },
      "source": [
        "#sent_len=[]\n",
        "#for x in df['Review']:\n",
        "#  sent_len.append(len(word_tokenize(x)))\n",
        "#df['sent_len']=sent_len\n",
        "#df.head()"
      ],
      "execution_count": null,
      "outputs": []
    },
    {
      "cell_type": "code",
      "metadata": {
        "id": "XPrwyC7z5jLl"
      },
      "source": [
        "#np.quantile(sent_len,0.90)"
      ],
      "execution_count": null,
      "outputs": []
    },
    {
      "cell_type": "code",
      "metadata": {
        "id": "-tKXoprC5sB1"
      },
      "source": [
        "#max_len = 24"
      ],
      "execution_count": null,
      "outputs": []
    },
    {
      "cell_type": "code",
      "metadata": {
        "id": "OVzmtEDhhtQu"
      },
      "source": [
        "##y.shape"
      ],
      "execution_count": null,
      "outputs": []
    },
    {
      "cell_type": "code",
      "metadata": {
        "id": "bNRz3mDc501Z"
      },
      "source": [
        "from sklearn.model_selection import train_test_split\n",
        "from sklearn.linear_model import LinearRegression\n",
        "\n",
        "\n",
        "x_train,x_test,y_train,y_test=train_test_split(x,y,test_size=0.5)"
      ],
      "execution_count": null,
      "outputs": []
    },
    {
      "cell_type": "code",
      "metadata": {
        "id": "TH7SCaHZ52zV",
        "colab": {
          "base_uri": "https://localhost:8080/"
        },
        "outputId": "acbf4bea-681a-415c-9c71-bd9f55823735"
      },
      "source": [
        "sent_len=[]\n",
        "for x in df['Review']:\n",
        "  sent_len.append(len(word_tokenize(x)))\n",
        "df['sent_len']=sent_len\n",
        "df.head()"
      ],
      "execution_count": null,
      "outputs": [
        {
          "output_type": "execute_result",
          "data": {
            "text/html": [
              "<div>\n",
              "<style scoped>\n",
              "    .dataframe tbody tr th:only-of-type {\n",
              "        vertical-align: middle;\n",
              "    }\n",
              "\n",
              "    .dataframe tbody tr th {\n",
              "        vertical-align: top;\n",
              "    }\n",
              "\n",
              "    .dataframe thead th {\n",
              "        text-align: right;\n",
              "    }\n",
              "</style>\n",
              "<table border=\"1\" class=\"dataframe\">\n",
              "  <thead>\n",
              "    <tr style=\"text-align: right;\">\n",
              "      <th></th>\n",
              "      <th>Train-Test Data</th>\n",
              "      <th>Review</th>\n",
              "      <th>sent_len</th>\n",
              "    </tr>\n",
              "  </thead>\n",
              "  <tbody>\n",
              "    <tr>\n",
              "      <th>0</th>\n",
              "      <td>0</td>\n",
              "      <td>attended counselling session par head counsell...</td>\n",
              "      <td>22</td>\n",
              "    </tr>\n",
              "    <tr>\n",
              "      <th>1</th>\n",
              "      <td>0</td>\n",
              "      <td>good teaching staff concept cleared first sess...</td>\n",
              "      <td>19</td>\n",
              "    </tr>\n",
              "    <tr>\n",
              "      <th>2</th>\n",
              "      <td>1</td>\n",
              "      <td>joined vedant data science non teaching staff ...</td>\n",
              "      <td>19</td>\n",
              "    </tr>\n",
              "    <tr>\n",
              "      <th>3</th>\n",
              "      <td>1</td>\n",
              "      <td>taken admission python developer course itveda...</td>\n",
              "      <td>16</td>\n",
              "    </tr>\n",
              "    <tr>\n",
              "      <th>4</th>\n",
              "      <td>0</td>\n",
              "      <td>best assistance anyone would recieve regarded ...</td>\n",
              "      <td>11</td>\n",
              "    </tr>\n",
              "  </tbody>\n",
              "</table>\n",
              "</div>"
            ],
            "text/plain": [
              "   Train-Test Data                                             Review  sent_len\n",
              "0                0  attended counselling session par head counsell...        22\n",
              "1                0  good teaching staff concept cleared first sess...        19\n",
              "2                1  joined vedant data science non teaching staff ...        19\n",
              "3                1  taken admission python developer course itveda...        16\n",
              "4                0  best assistance anyone would recieve regarded ...        11"
            ]
          },
          "metadata": {
            "tags": []
          },
          "execution_count": 24
        }
      ]
    },
    {
      "cell_type": "code",
      "metadata": {
        "colab": {
          "base_uri": "https://localhost:8080/"
        },
        "id": "3mGEU6vwGmfa",
        "outputId": "a2cfd0eb-3d4f-4ce5-dfad-5a259d6a497b"
      },
      "source": [
        "np.quantile(sent_len,0.90)"
      ],
      "execution_count": null,
      "outputs": [
        {
          "output_type": "execute_result",
          "data": {
            "text/plain": [
              "24.0"
            ]
          },
          "metadata": {
            "tags": []
          },
          "execution_count": 25
        }
      ]
    },
    {
      "cell_type": "code",
      "metadata": {
        "id": "h-xeWWD6GtOR"
      },
      "source": [
        "max_len = 24"
      ],
      "execution_count": null,
      "outputs": []
    },
    {
      "cell_type": "code",
      "metadata": {
        "id": "4t3APE4xGwcz"
      },
      "source": [
        "from tensorflow.keras.layers import Dense\n",
        "from tensorflow.keras.models import Sequential\n",
        "from tensorflow.keras.preprocessing.text import Tokenizer\n",
        "from tensorflow.keras.preprocessing import sequence\n",
        "from tensorflow.keras.layers import (Dropout,LSTM,Embedding,SimpleRNN,GRU)"
      ],
      "execution_count": null,
      "outputs": []
    },
    {
      "cell_type": "code",
      "metadata": {
        "id": "AOeDGU1KGyf_"
      },
      "source": [
        "Token=Tokenizer(char_level=False,split=' ')\n",
        "Token.fit_on_texts(x_train)"
      ],
      "execution_count": null,
      "outputs": []
    },
    {
      "cell_type": "code",
      "metadata": {
        "colab": {
          "base_uri": "https://localhost:8080/"
        },
        "id": "nq1URmGJG0ks",
        "outputId": "049981fb-1b4b-4869-8e26-93c9ce17e7b0"
      },
      "source": [
        "vocal_len=len(Token.index_word)\n",
        "vocal_len"
      ],
      "execution_count": null,
      "outputs": [
        {
          "output_type": "execute_result",
          "data": {
            "text/plain": [
              "349"
            ]
          },
          "metadata": {
            "tags": []
          },
          "execution_count": 29
        }
      ]
    },
    {
      "cell_type": "code",
      "metadata": {
        "colab": {
          "base_uri": "https://localhost:8080/"
        },
        "id": "XVANJudjG2mD",
        "outputId": "7d248ac8-9cea-4a24-9709-23511dd22254"
      },
      "source": [
        "seq_train=Token.texts_to_sequences(x_train)\n",
        "seq_train"
      ],
      "execution_count": null,
      "outputs": [
        {
          "output_type": "execute_result",
          "data": {
            "text/plain": [
              "[[7, 5, 5, 31, 69, 125, 8, 9, 126, 2, 4, 13, 127, 128, 129, 32, 130, 131],\n",
              " [10,\n",
              "  44,\n",
              "  132,\n",
              "  16,\n",
              "  12,\n",
              "  70,\n",
              "  133,\n",
              "  134,\n",
              "  45,\n",
              "  135,\n",
              "  3,\n",
              "  136,\n",
              "  137,\n",
              "  11,\n",
              "  71,\n",
              "  138,\n",
              "  46,\n",
              "  17,\n",
              "  3,\n",
              "  18,\n",
              "  72],\n",
              " [3, 4, 33, 73, 19, 45, 70, 47, 48, 34, 139, 140, 20, 19, 141, 49, 142],\n",
              " [74, 31, 50, 143, 144, 145, 35, 146, 7, 147, 148, 25, 149, 3],\n",
              " [10, 44, 8, 9, 75, 7, 5, 150, 151, 76, 21, 36, 13, 6, 152, 153, 154, 76, 155],\n",
              " [156, 17, 37, 157, 51, 1, 52, 34, 38, 53, 16, 49, 158, 19, 45],\n",
              " [159,\n",
              "  21,\n",
              "  72,\n",
              "  1,\n",
              "  77,\n",
              "  53,\n",
              "  78,\n",
              "  79,\n",
              "  22,\n",
              "  80,\n",
              "  160,\n",
              "  54,\n",
              "  161,\n",
              "  38,\n",
              "  25,\n",
              "  1,\n",
              "  14,\n",
              "  162,\n",
              "  26,\n",
              "  163,\n",
              "  164,\n",
              "  14,\n",
              "  165,\n",
              "  166],\n",
              " [37, 167, 168, 169, 1, 81, 170, 55, 171, 56],\n",
              " [44, 3, 4, 82, 27, 172, 83, 11, 84, 85, 86, 6, 173, 174, 175, 57],\n",
              " [33, 18, 4, 12, 176, 8, 9, 87, 177, 8, 9, 178, 33, 2, 1, 28, 14],\n",
              " [10,\n",
              "  1,\n",
              "  179,\n",
              "  58,\n",
              "  180,\n",
              "  39,\n",
              "  78,\n",
              "  79,\n",
              "  22,\n",
              "  59,\n",
              "  40,\n",
              "  181,\n",
              "  182,\n",
              "  183,\n",
              "  40,\n",
              "  35,\n",
              "  88,\n",
              "  41,\n",
              "  5],\n",
              " [18,\n",
              "  31,\n",
              "  89,\n",
              "  25,\n",
              "  7,\n",
              "  5,\n",
              "  90,\n",
              "  91,\n",
              "  27,\n",
              "  184,\n",
              "  185,\n",
              "  186,\n",
              "  92,\n",
              "  5,\n",
              "  1,\n",
              "  28,\n",
              "  55,\n",
              "  187,\n",
              "  1,\n",
              "  14],\n",
              " [23, 93, 11, 7, 60, 94, 6, 23, 20, 188, 26, 69, 29, 189],\n",
              " [10,\n",
              "  1,\n",
              "  22,\n",
              "  95,\n",
              "  2,\n",
              "  96,\n",
              "  190,\n",
              "  3,\n",
              "  30,\n",
              "  191,\n",
              "  192,\n",
              "  41,\n",
              "  193,\n",
              "  40,\n",
              "  194,\n",
              "  41,\n",
              "  195,\n",
              "  97,\n",
              "  24,\n",
              "  73,\n",
              "  96,\n",
              "  2,\n",
              "  196],\n",
              " [10, 4, 21, 13, 4, 36, 28, 20, 197, 97, 6, 198, 5, 61, 47, 19],\n",
              " [3,\n",
              "  4,\n",
              "  8,\n",
              "  9,\n",
              "  98,\n",
              "  22,\n",
              "  199,\n",
              "  200,\n",
              "  15,\n",
              "  201,\n",
              "  202,\n",
              "  203,\n",
              "  12,\n",
              "  8,\n",
              "  9,\n",
              "  204,\n",
              "  42,\n",
              "  205,\n",
              "  206],\n",
              " [1,\n",
              "  46,\n",
              "  4,\n",
              "  207,\n",
              "  22,\n",
              "  2,\n",
              "  13,\n",
              "  1,\n",
              "  46,\n",
              "  4,\n",
              "  62,\n",
              "  208,\n",
              "  99,\n",
              "  209,\n",
              "  6,\n",
              "  29,\n",
              "  210,\n",
              "  24,\n",
              "  32,\n",
              "  211,\n",
              "  212,\n",
              "  213,\n",
              "  100,\n",
              "  214],\n",
              " [215,\n",
              "  216,\n",
              "  43,\n",
              "  217,\n",
              "  218,\n",
              "  219,\n",
              "  220,\n",
              "  221,\n",
              "  222,\n",
              "  48,\n",
              "  3,\n",
              "  88,\n",
              "  223,\n",
              "  101,\n",
              "  30,\n",
              "  224,\n",
              "  225,\n",
              "  226,\n",
              "  227,\n",
              "  82,\n",
              "  102,\n",
              "  228],\n",
              " [10,\n",
              "  12,\n",
              "  59,\n",
              "  2,\n",
              "  1,\n",
              "  229,\n",
              "  103,\n",
              "  33,\n",
              "  63,\n",
              "  58,\n",
              "  63,\n",
              "  230,\n",
              "  20,\n",
              "  231,\n",
              "  232,\n",
              "  233,\n",
              "  6,\n",
              "  30,\n",
              "  234,\n",
              "  235,\n",
              "  236,\n",
              "  237,\n",
              "  238,\n",
              "  104,\n",
              "  239,\n",
              "  6,\n",
              "  240,\n",
              "  241,\n",
              "  92,\n",
              "  61,\n",
              "  6,\n",
              "  242,\n",
              "  64,\n",
              "  105,\n",
              "  29,\n",
              "  243,\n",
              "  20,\n",
              "  244,\n",
              "  245,\n",
              "  106,\n",
              "  65,\n",
              "  246,\n",
              "  15,\n",
              "  42,\n",
              "  247,\n",
              "  16,\n",
              "  17,\n",
              "  37,\n",
              "  248,\n",
              "  105,\n",
              "  249,\n",
              "  47,\n",
              "  250,\n",
              "  63],\n",
              " [251,\n",
              "  24,\n",
              "  14,\n",
              "  252,\n",
              "  1,\n",
              "  107,\n",
              "  21,\n",
              "  108,\n",
              "  77,\n",
              "  253,\n",
              "  254,\n",
              "  109,\n",
              "  255,\n",
              "  56,\n",
              "  14,\n",
              "  54,\n",
              "  256,\n",
              "  28,\n",
              "  55,\n",
              "  257,\n",
              "  56,\n",
              "  110],\n",
              " [1,\n",
              "  3,\n",
              "  111,\n",
              "  258,\n",
              "  112,\n",
              "  66,\n",
              "  2,\n",
              "  62,\n",
              "  259,\n",
              "  5,\n",
              "  34,\n",
              "  23,\n",
              "  27,\n",
              "  260,\n",
              "  261,\n",
              "  262,\n",
              "  263,\n",
              "  14,\n",
              "  109,\n",
              "  62,\n",
              "  3],\n",
              " [17,\n",
              "  264,\n",
              "  4,\n",
              "  40,\n",
              "  35,\n",
              "  6,\n",
              "  265,\n",
              "  113,\n",
              "  266,\n",
              "  267,\n",
              "  15,\n",
              "  268,\n",
              "  269,\n",
              "  15,\n",
              "  85,\n",
              "  101,\n",
              "  84,\n",
              "  90,\n",
              "  270,\n",
              "  25,\n",
              "  3],\n",
              " [57, 36, 271, 272, 273, 274, 275, 27, 17, 65, 42, 1, 114, 115, 116, 117, 1],\n",
              " [11, 3, 276, 86, 29, 5, 7, 277, 26, 278, 15],\n",
              " [279,\n",
              "  39,\n",
              "  8,\n",
              "  9,\n",
              "  2,\n",
              "  1,\n",
              "  67,\n",
              "  280,\n",
              "  281,\n",
              "  282,\n",
              "  19,\n",
              "  283,\n",
              "  26,\n",
              "  27,\n",
              "  15,\n",
              "  284,\n",
              "  50,\n",
              "  285,\n",
              "  52,\n",
              "  3],\n",
              " [3,\n",
              "  58,\n",
              "  1,\n",
              "  10,\n",
              "  1,\n",
              "  286,\n",
              "  2,\n",
              "  23,\n",
              "  93,\n",
              "  11,\n",
              "  7,\n",
              "  287,\n",
              "  60,\n",
              "  94,\n",
              "  6,\n",
              "  23,\n",
              "  20,\n",
              "  288,\n",
              "  71,\n",
              "  289,\n",
              "  26,\n",
              "  290,\n",
              "  50,\n",
              "  29],\n",
              " [10,\n",
              "  1,\n",
              "  291,\n",
              "  292,\n",
              "  293,\n",
              "  12,\n",
              "  80,\n",
              "  2,\n",
              "  118,\n",
              "  119,\n",
              "  294,\n",
              "  18,\n",
              "  7,\n",
              "  5,\n",
              "  106,\n",
              "  295,\n",
              "  30,\n",
              "  51,\n",
              "  296,\n",
              "  67,\n",
              "  119,\n",
              "  297],\n",
              " [107, 120, 21, 3, 74, 298, 36],\n",
              " [39,\n",
              "  8,\n",
              "  9,\n",
              "  2,\n",
              "  28,\n",
              "  16,\n",
              "  87,\n",
              "  299,\n",
              "  2,\n",
              "  2,\n",
              "  300,\n",
              "  301,\n",
              "  66,\n",
              "  302,\n",
              "  60,\n",
              "  41,\n",
              "  303,\n",
              "  304,\n",
              "  66,\n",
              "  7,\n",
              "  11,\n",
              "  305,\n",
              "  306,\n",
              "  32],\n",
              " [307, 308, 12, 59, 2, 1, 54, 309, 25, 310, 43, 38, 311, 43, 312, 24],\n",
              " [104,\n",
              "  16,\n",
              "  12,\n",
              "  313,\n",
              "  110,\n",
              "  1,\n",
              "  13,\n",
              "  314,\n",
              "  75,\n",
              "  7,\n",
              "  5,\n",
              "  113,\n",
              "  315,\n",
              "  24,\n",
              "  24,\n",
              "  2,\n",
              "  99,\n",
              "  23,\n",
              "  316,\n",
              "  317,\n",
              "  318,\n",
              "  319,\n",
              "  320,\n",
              "  32,\n",
              "  321,\n",
              "  17,\n",
              "  65,\n",
              "  42,\n",
              "  1,\n",
              "  114,\n",
              "  115,\n",
              "  116,\n",
              "  117,\n",
              "  322,\n",
              "  18,\n",
              "  323,\n",
              "  37,\n",
              "  112,\n",
              "  324,\n",
              "  1],\n",
              " [121,\n",
              "  51,\n",
              "  1,\n",
              "  89,\n",
              "  102,\n",
              "  111,\n",
              "  83,\n",
              "  108,\n",
              "  325,\n",
              "  326,\n",
              "  327,\n",
              "  57,\n",
              "  328,\n",
              "  329,\n",
              "  330,\n",
              "  122,\n",
              "  1,\n",
              "  81,\n",
              "  67,\n",
              "  91,\n",
              "  331],\n",
              " [18, 123, 4, 332, 4, 333, 12, 123, 30, 334, 48, 11, 61],\n",
              " [10, 1, 335, 39, 2, 22, 95, 336, 98, 337, 338, 339, 52, 34, 38, 53, 16, 49],\n",
              " [103, 8, 9, 2, 1, 4, 13, 1, 4, 340, 341, 342, 343, 19],\n",
              " [3,\n",
              "  7,\n",
              "  5,\n",
              "  6,\n",
              "  64,\n",
              "  121,\n",
              "  43,\n",
              "  68,\n",
              "  35,\n",
              "  11,\n",
              "  120,\n",
              "  68,\n",
              "  100,\n",
              "  68,\n",
              "  344,\n",
              "  122,\n",
              "  15,\n",
              "  345,\n",
              "  346],\n",
              " [31, 124, 11, 347, 118, 348, 349, 124, 21, 13, 64, 6]]"
            ]
          },
          "metadata": {
            "tags": []
          },
          "execution_count": 30
        }
      ]
    },
    {
      "cell_type": "code",
      "metadata": {
        "colab": {
          "base_uri": "https://localhost:8080/"
        },
        "id": "7aHmHb_vMb02",
        "outputId": "30a2d6cd-3d79-443e-879b-a3803dcf9583"
      },
      "source": [
        "seq_pad_train=sequence.pad_sequences(seq_train)\n",
        "seq_pad_train"
      ],
      "execution_count": null,
      "outputs": [
        {
          "output_type": "execute_result",
          "data": {
            "text/plain": [
              "array([[  0,   0,   0, ...,  32, 130, 131],\n",
              "       [  0,   0,   0, ...,   3,  18,  72],\n",
              "       [  0,   0,   0, ..., 141,  49, 142],\n",
              "       ...,\n",
              "       [  0,   0,   0, ..., 342, 343,  19],\n",
              "       [  0,   0,   0, ...,  15, 345, 346],\n",
              "       [  0,   0,   0, ...,  13,  64,   6]], dtype=int32)"
            ]
          },
          "metadata": {
            "tags": []
          },
          "execution_count": 31
        }
      ]
    },
    {
      "cell_type": "code",
      "metadata": {
        "colab": {
          "base_uri": "https://localhost:8080/"
        },
        "id": "C4sIDW1pG6AJ",
        "outputId": "98b919ee-aa74-419b-cdef-6ccbf1c8ab4f"
      },
      "source": [
        "seq_test=Token.texts_to_sequences(x_test)\n",
        "seq_test"
      ],
      "execution_count": null,
      "outputs": [
        {
          "output_type": "execute_result",
          "data": {
            "text/plain": [
              "[[44, 34, 146, 7, 3, 160, 11, 198, 19, 15, 48, 29, 48, 3, 74],\n",
              " [103, 123, 12, 22, 17, 23, 84, 17, 27, 189, 19, 20, 311, 34],\n",
              " [13,\n",
              "  96,\n",
              "  1,\n",
              "  81,\n",
              "  137,\n",
              "  137,\n",
              "  259,\n",
              "  31,\n",
              "  207,\n",
              "  24,\n",
              "  38,\n",
              "  123,\n",
              "  81,\n",
              "  259,\n",
              "  48,\n",
              "  26,\n",
              "  159,\n",
              "  25,\n",
              "  37,\n",
              "  220,\n",
              "  1,\n",
              "  15,\n",
              "  130,\n",
              "  90,\n",
              "  2,\n",
              "  100,\n",
              "  87,\n",
              "  33,\n",
              "  18,\n",
              "  21,\n",
              "  13],\n",
              " [48, 7, 92, 18, 245, 19, 41],\n",
              " [21, 13, 23, 27, 24, 92, 27, 19, 13, 12, 8, 9, 21, 4, 3, 7, 5, 21, 92, 30],\n",
              " [10, 1, 22, 80, 2, 18, 7, 5, 113],\n",
              " [8, 9, 1, 4, 45, 70, 12, 11, 61, 253, 297, 176, 28, 55, 4],\n",
              " [18, 125, 106, 2, 32],\n",
              " [103, 12, 2, 1, 11, 77, 3, 304, 13, 12, 25, 3, 20, 183, 11, 106, 26, 147],\n",
              " [1, 15, 113, 36, 6, 2, 32, 11, 13, 303, 27, 15],\n",
              " [10, 1, 335, 39, 2, 12, 176, 36, 13, 1, 264, 84, 31, 92],\n",
              " [44, 34, 146, 7, 3, 160, 11, 198, 19, 15, 48, 29, 48, 3, 74],\n",
              " [3, 4, 262, 340, 102, 2, 77, 340, 17, 305],\n",
              " [4, 13, 7, 11, 297, 305, 74, 32, 14, 109, 110, 44, 259, 125, 26],\n",
              " [106, 317, 65, 1, 4, 77, 34, 123, 294, 160, 24, 259],\n",
              " [84,\n",
              "  7,\n",
              "  5,\n",
              "  341,\n",
              "  69,\n",
              "  75,\n",
              "  7,\n",
              "  5,\n",
              "  112,\n",
              "  73,\n",
              "  108,\n",
              "  278,\n",
              "  309,\n",
              "  99,\n",
              "  344,\n",
              "  100,\n",
              "  213,\n",
              "  130,\n",
              "  25],\n",
              " [37, 110, 1, 81, 170, 55, 59, 168, 169, 14, 81, 109, 262],\n",
              " [3, 323, 154, 289, 73, 123, 43, 32, 3],\n",
              " [39, 8, 9, 2, 1, 202, 106, 65, 279, 108, 8, 9, 2, 117],\n",
              " [33, 18, 4, 12, 120, 92, 18, 5],\n",
              " [105, 22, 95, 92, 3, 142, 184, 61, 61],\n",
              " [46, 111, 16, 22, 80, 19, 31, 123, 272, 315, 14, 73, 304, 194, 344, 17],\n",
              " [1, 18, 111, 36, 70, 177, 28, 3, 13, 331, 137, 24, 2, 18],\n",
              " [122, 11, 106, 65, 44, 259, 207, 329, 114, 6, 73],\n",
              " [54, 119, 24, 75, 57, 36, 45, 117, 44, 36, 22],\n",
              " [15, 1, 244, 212, 12, 12, 70, 196, 239, 36, 1, 3, 212, 244, 289, 266],\n",
              " [11, 92, 26, 277, 184, 7, 287, 262, 35, 184, 88, 6, 15],\n",
              " [21, 111, 16, 5, 3, 10, 1, 89, 8, 2, 300, 23, 11],\n",
              " [1, 21, 4, 37, 271, 6, 47, 35, 11, 341, 146, 7, 21, 48, 18, 72, 140],\n",
              " [18,\n",
              "  123,\n",
              "  4,\n",
              "  8,\n",
              "  9,\n",
              "  23,\n",
              "  316,\n",
              "  317,\n",
              "  318,\n",
              "  11,\n",
              "  259,\n",
              "  5,\n",
              "  317,\n",
              "  4,\n",
              "  8,\n",
              "  92,\n",
              "  277,\n",
              "  305,\n",
              "  19],\n",
              " [44, 4, 19, 45, 70, 262, 304, 194, 73, 112, 21, 37, 4, 345],\n",
              " [1, 18, 123, 4, 2, 1, 58, 180, 39, 12, 59, 40, 181, 182],\n",
              " [1, 18, 4, 16, 11, 317, 318, 113, 160, 75, 3, 266, 267, 5],\n",
              " [1, 18, 25, 112, 330, 333, 54, 256, 32, 161, 55, 59],\n",
              " [105, 19, 294, 10, 1, 4, 291, 39, 12, 80, 7, 5, 341, 32, 11],\n",
              " [1, 33, 18, 123, 4, 228, 7, 11],\n",
              " [39, 8, 9, 25, 44, 87, 105, 12, 204, 36, 32, 7, 5, 150, 289, 26]]"
            ]
          },
          "metadata": {
            "tags": []
          },
          "execution_count": 32
        }
      ]
    },
    {
      "cell_type": "code",
      "metadata": {
        "colab": {
          "base_uri": "https://localhost:8080/"
        },
        "id": "wL1eTLKNG-UV",
        "outputId": "5a121f44-62b7-4535-e194-135cf5104b79"
      },
      "source": [
        "seq_test=Token.texts_to_sequences(x_test)\n",
        "seq_test"
      ],
      "execution_count": null,
      "outputs": [
        {
          "output_type": "execute_result",
          "data": {
            "text/plain": [
              "[[44, 34, 146, 7, 3, 160, 11, 198, 19, 15, 48, 29, 48, 3, 74],\n",
              " [103, 123, 12, 22, 17, 23, 84, 17, 27, 189, 19, 20, 311, 34],\n",
              " [13,\n",
              "  96,\n",
              "  1,\n",
              "  81,\n",
              "  137,\n",
              "  137,\n",
              "  259,\n",
              "  31,\n",
              "  207,\n",
              "  24,\n",
              "  38,\n",
              "  123,\n",
              "  81,\n",
              "  259,\n",
              "  48,\n",
              "  26,\n",
              "  159,\n",
              "  25,\n",
              "  37,\n",
              "  220,\n",
              "  1,\n",
              "  15,\n",
              "  130,\n",
              "  90,\n",
              "  2,\n",
              "  100,\n",
              "  87,\n",
              "  33,\n",
              "  18,\n",
              "  21,\n",
              "  13],\n",
              " [48, 7, 92, 18, 245, 19, 41],\n",
              " [21, 13, 23, 27, 24, 92, 27, 19, 13, 12, 8, 9, 21, 4, 3, 7, 5, 21, 92, 30],\n",
              " [10, 1, 22, 80, 2, 18, 7, 5, 113],\n",
              " [8, 9, 1, 4, 45, 70, 12, 11, 61, 253, 297, 176, 28, 55, 4],\n",
              " [18, 125, 106, 2, 32],\n",
              " [103, 12, 2, 1, 11, 77, 3, 304, 13, 12, 25, 3, 20, 183, 11, 106, 26, 147],\n",
              " [1, 15, 113, 36, 6, 2, 32, 11, 13, 303, 27, 15],\n",
              " [10, 1, 335, 39, 2, 12, 176, 36, 13, 1, 264, 84, 31, 92],\n",
              " [44, 34, 146, 7, 3, 160, 11, 198, 19, 15, 48, 29, 48, 3, 74],\n",
              " [3, 4, 262, 340, 102, 2, 77, 340, 17, 305],\n",
              " [4, 13, 7, 11, 297, 305, 74, 32, 14, 109, 110, 44, 259, 125, 26],\n",
              " [106, 317, 65, 1, 4, 77, 34, 123, 294, 160, 24, 259],\n",
              " [84,\n",
              "  7,\n",
              "  5,\n",
              "  341,\n",
              "  69,\n",
              "  75,\n",
              "  7,\n",
              "  5,\n",
              "  112,\n",
              "  73,\n",
              "  108,\n",
              "  278,\n",
              "  309,\n",
              "  99,\n",
              "  344,\n",
              "  100,\n",
              "  213,\n",
              "  130,\n",
              "  25],\n",
              " [37, 110, 1, 81, 170, 55, 59, 168, 169, 14, 81, 109, 262],\n",
              " [3, 323, 154, 289, 73, 123, 43, 32, 3],\n",
              " [39, 8, 9, 2, 1, 202, 106, 65, 279, 108, 8, 9, 2, 117],\n",
              " [33, 18, 4, 12, 120, 92, 18, 5],\n",
              " [105, 22, 95, 92, 3, 142, 184, 61, 61],\n",
              " [46, 111, 16, 22, 80, 19, 31, 123, 272, 315, 14, 73, 304, 194, 344, 17],\n",
              " [1, 18, 111, 36, 70, 177, 28, 3, 13, 331, 137, 24, 2, 18],\n",
              " [122, 11, 106, 65, 44, 259, 207, 329, 114, 6, 73],\n",
              " [54, 119, 24, 75, 57, 36, 45, 117, 44, 36, 22],\n",
              " [15, 1, 244, 212, 12, 12, 70, 196, 239, 36, 1, 3, 212, 244, 289, 266],\n",
              " [11, 92, 26, 277, 184, 7, 287, 262, 35, 184, 88, 6, 15],\n",
              " [21, 111, 16, 5, 3, 10, 1, 89, 8, 2, 300, 23, 11],\n",
              " [1, 21, 4, 37, 271, 6, 47, 35, 11, 341, 146, 7, 21, 48, 18, 72, 140],\n",
              " [18,\n",
              "  123,\n",
              "  4,\n",
              "  8,\n",
              "  9,\n",
              "  23,\n",
              "  316,\n",
              "  317,\n",
              "  318,\n",
              "  11,\n",
              "  259,\n",
              "  5,\n",
              "  317,\n",
              "  4,\n",
              "  8,\n",
              "  92,\n",
              "  277,\n",
              "  305,\n",
              "  19],\n",
              " [44, 4, 19, 45, 70, 262, 304, 194, 73, 112, 21, 37, 4, 345],\n",
              " [1, 18, 123, 4, 2, 1, 58, 180, 39, 12, 59, 40, 181, 182],\n",
              " [1, 18, 4, 16, 11, 317, 318, 113, 160, 75, 3, 266, 267, 5],\n",
              " [1, 18, 25, 112, 330, 333, 54, 256, 32, 161, 55, 59],\n",
              " [105, 19, 294, 10, 1, 4, 291, 39, 12, 80, 7, 5, 341, 32, 11],\n",
              " [1, 33, 18, 123, 4, 228, 7, 11],\n",
              " [39, 8, 9, 25, 44, 87, 105, 12, 204, 36, 32, 7, 5, 150, 289, 26]]"
            ]
          },
          "metadata": {
            "tags": []
          },
          "execution_count": 33
        }
      ]
    },
    {
      "cell_type": "code",
      "metadata": {
        "colab": {
          "base_uri": "https://localhost:8080/"
        },
        "id": "KS5Q3UgNHAjX",
        "outputId": "1667f89f-87f4-431f-c78e-e5c8a9a9f745"
      },
      "source": [
        "seq_pad_test=sequence.pad_sequences(seq_test)\n",
        "seq_pad_test"
      ],
      "execution_count": null,
      "outputs": [
        {
          "output_type": "execute_result",
          "data": {
            "text/plain": [
              "array([[  0,   0,   0, ...,  48,   3,  74],\n",
              "       [  0,   0,   0, ...,  20, 311,  34],\n",
              "       [ 13,  96,   1, ...,  18,  21,  13],\n",
              "       ...,\n",
              "       [  0,   0,   0, ..., 341,  32,  11],\n",
              "       [  0,   0,   0, ..., 228,   7,  11],\n",
              "       [  0,   0,   0, ..., 150, 289,  26]], dtype=int32)"
            ]
          },
          "metadata": {
            "tags": []
          },
          "execution_count": 34
        }
      ]
    },
    {
      "cell_type": "code",
      "metadata": {
        "id": "-8AVJymaHC1j"
      },
      "source": [
        "#ANN\n",
        "model=Sequential()\n",
        "model.add(Embedding(vocal_len+1,23,input_length=max_len,mask_zero=True))\n",
        "model.add(SimpleRNN(25,activation='tanh'))\n",
        "model.add(Dense(20,activation='tanh'))\n",
        "model.add(Dropout(0.2))\n",
        "model.add(Dense(1,activation='sigmoid'))"
      ],
      "execution_count": null,
      "outputs": []
    },
    {
      "cell_type": "code",
      "metadata": {
        "colab": {
          "base_uri": "https://localhost:8080/"
        },
        "id": "pMmPf13hNG06",
        "outputId": "54b0a6a0-34e2-4fbe-ff06-062d72fc12dd"
      },
      "source": [
        "model.summary()"
      ],
      "execution_count": null,
      "outputs": [
        {
          "output_type": "stream",
          "text": [
            "Model: \"sequential\"\n",
            "_________________________________________________________________\n",
            "Layer (type)                 Output Shape              Param #   \n",
            "=================================================================\n",
            "embedding (Embedding)        (None, 24, 23)            8050      \n",
            "_________________________________________________________________\n",
            "simple_rnn (SimpleRNN)       (None, 25)                1225      \n",
            "_________________________________________________________________\n",
            "dense (Dense)                (None, 20)                520       \n",
            "_________________________________________________________________\n",
            "dropout (Dropout)            (None, 20)                0         \n",
            "_________________________________________________________________\n",
            "dense_1 (Dense)              (None, 1)                 21        \n",
            "=================================================================\n",
            "Total params: 9,816\n",
            "Trainable params: 9,816\n",
            "Non-trainable params: 0\n",
            "_________________________________________________________________\n"
          ],
          "name": "stdout"
        }
      ]
    },
    {
      "cell_type": "code",
      "metadata": {
        "id": "zeApdcxPHGI6"
      },
      "source": [
        "model.compile(loss='binary_crossentropy',optimizer='adam')"
      ],
      "execution_count": null,
      "outputs": []
    },
    {
      "cell_type": "code",
      "metadata": {
        "colab": {
          "base_uri": "https://localhost:8080/"
        },
        "id": "WI_cPu4eLs-5",
        "outputId": "ace50c7a-9225-4bf7-f75e-fe300620eabb"
      },
      "source": [
        "trained = model.fit(seq_pad_train,y_train,batch_size=35,epochs=20)"
      ],
      "execution_count": null,
      "outputs": [
        {
          "output_type": "stream",
          "text": [
            "Epoch 1/20\n",
            "WARNING:tensorflow:Model was constructed with shape (None, 24) for input KerasTensor(type_spec=TensorSpec(shape=(None, 24), dtype=tf.float32, name='embedding_input'), name='embedding_input', description=\"created by layer 'embedding_input'\"), but it was called on an input with incompatible shape (None, 54).\n",
            "WARNING:tensorflow:Model was constructed with shape (None, 24) for input KerasTensor(type_spec=TensorSpec(shape=(None, 24), dtype=tf.float32, name='embedding_input'), name='embedding_input', description=\"created by layer 'embedding_input'\"), but it was called on an input with incompatible shape (None, 54).\n",
            "2/2 [==============================] - 2s 25ms/step - loss: 0.7093\n",
            "Epoch 2/20\n",
            "2/2 [==============================] - 0s 23ms/step - loss: 0.6381\n",
            "Epoch 3/20\n",
            "2/2 [==============================] - 0s 22ms/step - loss: 0.5805\n",
            "Epoch 4/20\n",
            "2/2 [==============================] - 0s 21ms/step - loss: 0.5177\n",
            "Epoch 5/20\n",
            "2/2 [==============================] - 0s 22ms/step - loss: 0.4711\n",
            "Epoch 6/20\n",
            "2/2 [==============================] - 0s 26ms/step - loss: 0.4181\n",
            "Epoch 7/20\n",
            "2/2 [==============================] - 0s 21ms/step - loss: 0.3782\n",
            "Epoch 8/20\n",
            "2/2 [==============================] - 0s 22ms/step - loss: 0.3085\n",
            "Epoch 9/20\n",
            "2/2 [==============================] - 0s 22ms/step - loss: 0.2863\n",
            "Epoch 10/20\n",
            "2/2 [==============================] - 0s 22ms/step - loss: 0.2280\n",
            "Epoch 11/20\n",
            "2/2 [==============================] - 0s 21ms/step - loss: 0.1986\n",
            "Epoch 12/20\n",
            "2/2 [==============================] - 0s 21ms/step - loss: 0.1619\n",
            "Epoch 13/20\n",
            "2/2 [==============================] - 0s 23ms/step - loss: 0.1396\n",
            "Epoch 14/20\n",
            "2/2 [==============================] - 0s 23ms/step - loss: 0.1143\n",
            "Epoch 15/20\n",
            "2/2 [==============================] - 0s 30ms/step - loss: 0.0930\n",
            "Epoch 16/20\n",
            "2/2 [==============================] - 0s 21ms/step - loss: 0.0863\n",
            "Epoch 17/20\n",
            "2/2 [==============================] - 0s 21ms/step - loss: 0.0708\n",
            "Epoch 18/20\n",
            "2/2 [==============================] - 0s 22ms/step - loss: 0.0569\n",
            "Epoch 19/20\n",
            "2/2 [==============================] - 0s 21ms/step - loss: 0.0533\n",
            "Epoch 20/20\n",
            "2/2 [==============================] - 0s 21ms/step - loss: 0.0449\n"
          ],
          "name": "stdout"
        }
      ]
    },
    {
      "cell_type": "code",
      "metadata": {
        "colab": {
          "base_uri": "https://localhost:8080/"
        },
        "id": "gifqK-JMHJ5b",
        "outputId": "9600c4ed-bc5f-4a6a-8f42-09fc0dbed1b0"
      },
      "source": [
        "y_hat=model.predict(seq_pad_test)\n",
        "#y_hat"
      ],
      "execution_count": null,
      "outputs": [
        {
          "output_type": "stream",
          "text": [
            "WARNING:tensorflow:Model was constructed with shape (None, 24) for input KerasTensor(type_spec=TensorSpec(shape=(None, 24), dtype=tf.float32, name='embedding_input'), name='embedding_input', description=\"created by layer 'embedding_input'\"), but it was called on an input with incompatible shape (None, 31).\n"
          ],
          "name": "stdout"
        }
      ]
    },
    {
      "cell_type": "code",
      "metadata": {
        "id": "qbfh8lmuHLxS"
      },
      "source": [
        "y_hat1=np.where(y_hat>=0.5,1,0)\n",
        "#y_hat1"
      ],
      "execution_count": null,
      "outputs": []
    },
    {
      "cell_type": "code",
      "metadata": {
        "colab": {
          "base_uri": "https://localhost:8080/"
        },
        "id": "J6ZKpuTWHQSW",
        "outputId": "245a3207-c756-4a85-ce77-8c62d804fad9"
      },
      "source": [
        "from sklearn.metrics import classification_report\n",
        "from sklearn import metrics\n",
        "\n",
        "accuracy = (metrics.accuracy_score(y_test, y_hat1))\n",
        "print(classification_report(y_test,y_hat1))"
      ],
      "execution_count": null,
      "outputs": [
        {
          "output_type": "stream",
          "text": [
            "              precision    recall  f1-score   support\n",
            "\n",
            "           0       0.18      0.50      0.26         6\n",
            "           1       0.85      0.55      0.67        31\n",
            "\n",
            "    accuracy                           0.54        37\n",
            "   macro avg       0.51      0.52      0.46        37\n",
            "weighted avg       0.74      0.54      0.60        37\n",
            "\n"
          ],
          "name": "stdout"
        }
      ]
    },
    {
      "cell_type": "code",
      "metadata": {
        "id": "M_hYyH8IJ-U0"
      },
      "source": [
        ""
      ],
      "execution_count": null,
      "outputs": []
    },
    {
      "cell_type": "markdown",
      "metadata": {
        "id": "nyEYf9d9OWeM"
      },
      "source": [
        "##LSTM"
      ]
    },
    {
      "cell_type": "code",
      "metadata": {
        "id": "1vyNIomGOXxj"
      },
      "source": [
        ""
      ],
      "execution_count": null,
      "outputs": []
    },
    {
      "cell_type": "code",
      "metadata": {
        "colab": {
          "base_uri": "https://localhost:8080/"
        },
        "id": "6m1r9o3aOZMX",
        "outputId": "dc3ea575-d62d-41c3-84a4-81694ce1467f"
      },
      "source": [
        "model=Sequential()\n",
        "model.add(Embedding(vocal_len+1,23,input_length=max_len,mask_zero=True))\n",
        "model.add(LSTM(25,activation='tanh'))\n",
        "model.add(Dense(10,activation='tanh'))\n",
        "model.add(Dropout(0.2))\n",
        "model.add(Dense(1,activation='sigmoid'))\n",
        "model.compile(loss='binary_crossentropy',optimizer='adam')\n",
        "trained=model.fit(seq_pad_train,y_train,batch_size=35,epochs=30)\n",
        "y_hat=model.predict(seq_pad_test)\n",
        "y_hat1=np.where(y_hat>=0.5,1,0)\n",
        "print(classification_report(y_test,y_hat1))"
      ],
      "execution_count": null,
      "outputs": [
        {
          "output_type": "stream",
          "text": [
            "Epoch 1/30\n",
            "WARNING:tensorflow:Model was constructed with shape (None, 24) for input KerasTensor(type_spec=TensorSpec(shape=(None, 24), dtype=tf.float32, name='embedding_1_input'), name='embedding_1_input', description=\"created by layer 'embedding_1_input'\"), but it was called on an input with incompatible shape (None, 54).\n",
            "WARNING:tensorflow:Model was constructed with shape (None, 24) for input KerasTensor(type_spec=TensorSpec(shape=(None, 24), dtype=tf.float32, name='embedding_1_input'), name='embedding_1_input', description=\"created by layer 'embedding_1_input'\"), but it was called on an input with incompatible shape (None, 54).\n",
            "2/2 [==============================] - 4s 34ms/step - loss: 0.6904\n",
            "Epoch 2/30\n",
            "2/2 [==============================] - 0s 33ms/step - loss: 0.6849\n",
            "Epoch 3/30\n",
            "2/2 [==============================] - 0s 31ms/step - loss: 0.6785\n",
            "Epoch 4/30\n",
            "2/2 [==============================] - 0s 37ms/step - loss: 0.6709\n",
            "Epoch 5/30\n",
            "2/2 [==============================] - 0s 37ms/step - loss: 0.6667\n",
            "Epoch 6/30\n",
            "2/2 [==============================] - 0s 35ms/step - loss: 0.6595\n",
            "Epoch 7/30\n",
            "2/2 [==============================] - 0s 34ms/step - loss: 0.6528\n",
            "Epoch 8/30\n",
            "2/2 [==============================] - 0s 32ms/step - loss: 0.6437\n",
            "Epoch 9/30\n",
            "2/2 [==============================] - 0s 35ms/step - loss: 0.6467\n",
            "Epoch 10/30\n",
            "2/2 [==============================] - 0s 32ms/step - loss: 0.6263\n",
            "Epoch 11/30\n",
            "2/2 [==============================] - 0s 32ms/step - loss: 0.6169\n",
            "Epoch 12/30\n",
            "2/2 [==============================] - 0s 32ms/step - loss: 0.6103\n",
            "Epoch 13/30\n",
            "2/2 [==============================] - 0s 34ms/step - loss: 0.6002\n",
            "Epoch 14/30\n",
            "2/2 [==============================] - 0s 36ms/step - loss: 0.5959\n",
            "Epoch 15/30\n",
            "2/2 [==============================] - 0s 34ms/step - loss: 0.5674\n",
            "Epoch 16/30\n",
            "2/2 [==============================] - 0s 33ms/step - loss: 0.5523\n",
            "Epoch 17/30\n",
            "2/2 [==============================] - 0s 34ms/step - loss: 0.5402\n",
            "Epoch 18/30\n",
            "2/2 [==============================] - 0s 36ms/step - loss: 0.5175\n",
            "Epoch 19/30\n",
            "2/2 [==============================] - 0s 46ms/step - loss: 0.4795\n",
            "Epoch 20/30\n",
            "2/2 [==============================] - 0s 32ms/step - loss: 0.4568\n",
            "Epoch 21/30\n",
            "2/2 [==============================] - 0s 34ms/step - loss: 0.4225\n",
            "Epoch 22/30\n",
            "2/2 [==============================] - 0s 32ms/step - loss: 0.3910\n",
            "Epoch 23/30\n",
            "2/2 [==============================] - 0s 32ms/step - loss: 0.3573\n",
            "Epoch 24/30\n",
            "2/2 [==============================] - 0s 33ms/step - loss: 0.3349\n",
            "Epoch 25/30\n",
            "2/2 [==============================] - 0s 33ms/step - loss: 0.3030\n",
            "Epoch 26/30\n",
            "2/2 [==============================] - 0s 32ms/step - loss: 0.2873\n",
            "Epoch 27/30\n",
            "2/2 [==============================] - 0s 34ms/step - loss: 0.2623\n",
            "Epoch 28/30\n",
            "2/2 [==============================] - 0s 32ms/step - loss: 0.2217\n",
            "Epoch 29/30\n",
            "2/2 [==============================] - 0s 32ms/step - loss: 0.1925\n",
            "Epoch 30/30\n",
            "2/2 [==============================] - 0s 38ms/step - loss: 0.1772\n",
            "WARNING:tensorflow:Model was constructed with shape (None, 24) for input KerasTensor(type_spec=TensorSpec(shape=(None, 24), dtype=tf.float32, name='embedding_1_input'), name='embedding_1_input', description=\"created by layer 'embedding_1_input'\"), but it was called on an input with incompatible shape (None, 31).\n",
            "              precision    recall  f1-score   support\n",
            "\n",
            "           0       0.67      0.33      0.44         6\n",
            "           1       0.88      0.97      0.92        31\n",
            "\n",
            "    accuracy                           0.86        37\n",
            "   macro avg       0.77      0.65      0.68        37\n",
            "weighted avg       0.85      0.86      0.85        37\n",
            "\n"
          ],
          "name": "stdout"
        }
      ]
    },
    {
      "cell_type": "code",
      "metadata": {
        "id": "fX2D1jLhOmuj"
      },
      "source": [
        ""
      ],
      "execution_count": null,
      "outputs": []
    },
    {
      "cell_type": "markdown",
      "metadata": {
        "id": "OhXnf7yrOuwM"
      },
      "source": [
        "##GRU"
      ]
    },
    {
      "cell_type": "code",
      "metadata": {
        "colab": {
          "base_uri": "https://localhost:8080/"
        },
        "id": "ufo2SdpzOtjA",
        "outputId": "12c59da0-9de5-45b8-ddfa-bb48ef0e3e3f"
      },
      "source": [
        "model=Sequential()\n",
        "model.add(Embedding(vocal_len+1,23,input_length=max_len,mask_zero=True))\n",
        "model.add(GRU(15,activation='tanh'))\n",
        "model.add(Dense(15,activation='tanh'))\n",
        "model.add(Dropout(0.2))\n",
        "model.add(Dense(1,activation='sigmoid'))\n",
        "model.compile(loss='binary_crossentropy',optimizer='adam')\n",
        "trained=model.fit(seq_pad_train,y_train,batch_size=10,epochs=10)\n",
        "y_hat=model.predict(seq_pad_test)\n",
        "y_hat1=np.where(y_hat>=0.5,1,0)\n",
        "print(classification_report(y_test,y_hat1))"
      ],
      "execution_count": null,
      "outputs": [
        {
          "output_type": "stream",
          "text": [
            "Epoch 1/10\n",
            "WARNING:tensorflow:Model was constructed with shape (None, 24) for input KerasTensor(type_spec=TensorSpec(shape=(None, 24), dtype=tf.float32, name='embedding_2_input'), name='embedding_2_input', description=\"created by layer 'embedding_2_input'\"), but it was called on an input with incompatible shape (None, 54).\n",
            "WARNING:tensorflow:Model was constructed with shape (None, 24) for input KerasTensor(type_spec=TensorSpec(shape=(None, 24), dtype=tf.float32, name='embedding_2_input'), name='embedding_2_input', description=\"created by layer 'embedding_2_input'\"), but it was called on an input with incompatible shape (None, 54).\n",
            "4/4 [==============================] - 4s 29ms/step - loss: 0.6906\n",
            "Epoch 2/10\n",
            "4/4 [==============================] - 0s 29ms/step - loss: 0.6835\n",
            "Epoch 3/10\n",
            "4/4 [==============================] - 0s 33ms/step - loss: 0.6731\n",
            "Epoch 4/10\n",
            "4/4 [==============================] - 0s 32ms/step - loss: 0.6662\n",
            "Epoch 5/10\n",
            "4/4 [==============================] - 0s 32ms/step - loss: 0.6571\n",
            "Epoch 6/10\n",
            "4/4 [==============================] - 0s 31ms/step - loss: 0.6389\n",
            "Epoch 7/10\n",
            "4/4 [==============================] - 0s 32ms/step - loss: 0.6331\n",
            "Epoch 8/10\n",
            "4/4 [==============================] - 0s 30ms/step - loss: 0.6080\n",
            "Epoch 9/10\n",
            "4/4 [==============================] - 0s 31ms/step - loss: 0.5938\n",
            "Epoch 10/10\n",
            "4/4 [==============================] - 0s 32ms/step - loss: 0.5762\n",
            "WARNING:tensorflow:Model was constructed with shape (None, 24) for input KerasTensor(type_spec=TensorSpec(shape=(None, 24), dtype=tf.float32, name='embedding_2_input'), name='embedding_2_input', description=\"created by layer 'embedding_2_input'\"), but it was called on an input with incompatible shape (None, 31).\n",
            "              precision    recall  f1-score   support\n",
            "\n",
            "           0       0.00      0.00      0.00         6\n",
            "           1       0.84      1.00      0.91        31\n",
            "\n",
            "    accuracy                           0.84        37\n",
            "   macro avg       0.42      0.50      0.46        37\n",
            "weighted avg       0.70      0.84      0.76        37\n",
            "\n"
          ],
          "name": "stdout"
        }
      ]
    },
    {
      "cell_type": "code",
      "metadata": {
        "id": "BGmg_UzoO2oe"
      },
      "source": [
        "from sklearn.feature_extraction.text import TfidfVectorizer,CountVectorizer"
      ],
      "execution_count": null,
      "outputs": []
    },
    {
      "cell_type": "code",
      "metadata": {
        "id": "N0aYGxcJu5Lk"
      },
      "source": [
        "# Count Vectorization\n",
        "# model already clean thats why we ignore stopwords\n",
        "cv = CountVectorizer()\n",
        "x_train_cv = cv.fit_transform(x_train)# we transform x_train\n",
        "x_test_cv = cv.transform(x_test)"
      ],
      "execution_count": null,
      "outputs": []
    },
    {
      "cell_type": "code",
      "metadata": {
        "id": "rkJFNNrou-Yc"
      },
      "source": [
        "from sklearn.tree import DecisionTreeClassifier"
      ],
      "execution_count": null,
      "outputs": []
    },
    {
      "cell_type": "code",
      "metadata": {
        "colab": {
          "base_uri": "https://localhost:8080/"
        },
        "id": "hkVwJSmNvA-C",
        "outputId": "08f8a99c-6a97-444f-f25b-1885ec8485b1"
      },
      "source": [
        "dt = DecisionTreeClassifier()# DT using gini index by default\n",
        "dt.fit(x_train_cv, y_train)\n",
        "y_pred = dt.predict(x_test_cv)\n",
        "print(classification_report(y_test,y_pred))"
      ],
      "execution_count": null,
      "outputs": [
        {
          "output_type": "stream",
          "text": [
            "              precision    recall  f1-score   support\n",
            "\n",
            "           0       0.20      0.33      0.25         6\n",
            "           1       0.85      0.74      0.79        31\n",
            "\n",
            "    accuracy                           0.68        37\n",
            "   macro avg       0.53      0.54      0.52        37\n",
            "weighted avg       0.75      0.68      0.71        37\n",
            "\n"
          ],
          "name": "stdout"
        }
      ]
    },
    {
      "cell_type": "code",
      "metadata": {
        "id": "VglPHWIfvDCF"
      },
      "source": [
        "tf = TfidfVectorizer()\n",
        "x_train_tf = tf.fit_transform(x_train)# insted of cv we use object of tf\n",
        "x_test_tf = tf.transform(x_test)"
      ],
      "execution_count": null,
      "outputs": []
    },
    {
      "cell_type": "code",
      "metadata": {
        "colab": {
          "base_uri": "https://localhost:8080/"
        },
        "id": "kYkAH2pVvJAF",
        "outputId": "b7224c82-7fa2-4ef6-a590-a608984332fe"
      },
      "source": [
        "x_train_tf.toarray()"
      ],
      "execution_count": null,
      "outputs": [
        {
          "output_type": "execute_result",
          "data": {
            "text/plain": [
              "array([[0., 0., 0., ..., 0., 0., 0.],\n",
              "       [0., 0., 0., ..., 0., 0., 0.],\n",
              "       [0., 0., 0., ..., 0., 0., 0.],\n",
              "       ...,\n",
              "       [0., 0., 0., ..., 0., 0., 0.],\n",
              "       [0., 0., 0., ..., 0., 0., 0.],\n",
              "       [0., 0., 0., ..., 0., 0., 0.]])"
            ]
          },
          "metadata": {
            "tags": []
          },
          "execution_count": 49
        }
      ]
    },
    {
      "cell_type": "code",
      "metadata": {
        "colab": {
          "base_uri": "https://localhost:8080/"
        },
        "id": "bX6-4IiwvKub",
        "outputId": "540987ef-5ef2-4166-870b-0eec96af3101"
      },
      "source": [
        "dt = DecisionTreeClassifier()\n",
        "dt.fit(x_train_tf,y_train)\n",
        "y_pred = dt.predict(x_test_tf)\n",
        "print(classification_report(y_test,y_pred))"
      ],
      "execution_count": null,
      "outputs": [
        {
          "output_type": "stream",
          "text": [
            "              precision    recall  f1-score   support\n",
            "\n",
            "           0       0.25      0.33      0.29         6\n",
            "           1       0.86      0.81      0.83        31\n",
            "\n",
            "    accuracy                           0.73        37\n",
            "   macro avg       0.56      0.57      0.56        37\n",
            "weighted avg       0.76      0.73      0.74        37\n",
            "\n"
          ],
          "name": "stdout"
        }
      ]
    },
    {
      "cell_type": "code",
      "metadata": {
        "id": "_YFYbLBKvMs1"
      },
      "source": [
        "# ANN\n",
        "import tensorflow as tf\n",
        "from tensorflow.keras.models import Sequential\n",
        "from tensorflow.keras.layers import Dense"
      ],
      "execution_count": null,
      "outputs": []
    },
    {
      "cell_type": "code",
      "metadata": {
        "id": "8vdfhT6HvRi-"
      },
      "source": [
        "x_train_tf = x_train_tf.toarray()\n",
        "x_test_tf = x_test_tf.toarray()"
      ],
      "execution_count": null,
      "outputs": []
    },
    {
      "cell_type": "code",
      "metadata": {
        "colab": {
          "base_uri": "https://localhost:8080/"
        },
        "id": "n2J5snKWvS73",
        "outputId": "c8f9b2f4-0ce9-4c4d-d0e5-709d0e7a0d15"
      },
      "source": [
        "model1 = Sequential()\n",
        "model1.add(Dense(10, activation=\"relu\", input_shape=(x_train_cv.shape[1], )))\n",
        "model1.add(Dense(6, activation=\"relu\"))\n",
        "model1.add(Dense(1, activation=\"sigmoid\"))\n",
        "\n",
        "model1.compile(loss=\"binary_crossentropy\", optimizer=\"adam\")\n",
        "\n",
        "model1.fit(x_train_tf, y_train, batch_size=55, epochs=25)"
      ],
      "execution_count": null,
      "outputs": [
        {
          "output_type": "stream",
          "text": [
            "Epoch 1/25\n",
            "1/1 [==============================] - 0s 423ms/step - loss: 0.6905\n",
            "Epoch 2/25\n",
            "1/1 [==============================] - 0s 5ms/step - loss: 0.6880\n",
            "Epoch 3/25\n",
            "1/1 [==============================] - 0s 5ms/step - loss: 0.6856\n",
            "Epoch 4/25\n",
            "1/1 [==============================] - 0s 5ms/step - loss: 0.6834\n",
            "Epoch 5/25\n",
            "1/1 [==============================] - 0s 5ms/step - loss: 0.6813\n",
            "Epoch 6/25\n",
            "1/1 [==============================] - 0s 6ms/step - loss: 0.6792\n",
            "Epoch 7/25\n",
            "1/1 [==============================] - 0s 6ms/step - loss: 0.6770\n",
            "Epoch 8/25\n",
            "1/1 [==============================] - 0s 7ms/step - loss: 0.6750\n",
            "Epoch 9/25\n",
            "1/1 [==============================] - 0s 7ms/step - loss: 0.6730\n",
            "Epoch 10/25\n",
            "1/1 [==============================] - 0s 9ms/step - loss: 0.6709\n",
            "Epoch 11/25\n",
            "1/1 [==============================] - 0s 12ms/step - loss: 0.6689\n",
            "Epoch 12/25\n",
            "1/1 [==============================] - 0s 5ms/step - loss: 0.6668\n",
            "Epoch 13/25\n",
            "1/1 [==============================] - 0s 6ms/step - loss: 0.6647\n",
            "Epoch 14/25\n",
            "1/1 [==============================] - 0s 6ms/step - loss: 0.6625\n",
            "Epoch 15/25\n",
            "1/1 [==============================] - 0s 5ms/step - loss: 0.6602\n",
            "Epoch 16/25\n",
            "1/1 [==============================] - 0s 5ms/step - loss: 0.6579\n",
            "Epoch 17/25\n",
            "1/1 [==============================] - 0s 5ms/step - loss: 0.6555\n",
            "Epoch 18/25\n",
            "1/1 [==============================] - 0s 5ms/step - loss: 0.6531\n",
            "Epoch 19/25\n",
            "1/1 [==============================] - 0s 5ms/step - loss: 0.6506\n",
            "Epoch 20/25\n",
            "1/1 [==============================] - 0s 5ms/step - loss: 0.6481\n",
            "Epoch 21/25\n",
            "1/1 [==============================] - 0s 5ms/step - loss: 0.6456\n",
            "Epoch 22/25\n",
            "1/1 [==============================] - 0s 6ms/step - loss: 0.6430\n",
            "Epoch 23/25\n",
            "1/1 [==============================] - 0s 6ms/step - loss: 0.6403\n",
            "Epoch 24/25\n",
            "1/1 [==============================] - 0s 5ms/step - loss: 0.6377\n",
            "Epoch 25/25\n",
            "1/1 [==============================] - 0s 5ms/step - loss: 0.6350\n"
          ],
          "name": "stdout"
        },
        {
          "output_type": "execute_result",
          "data": {
            "text/plain": [
              "<tensorflow.python.keras.callbacks.History at 0x7fe6ddd39450>"
            ]
          },
          "metadata": {
            "tags": []
          },
          "execution_count": 53
        }
      ]
    },
    {
      "cell_type": "code",
      "metadata": {
        "id": "3eQAjzMBvV9l"
      },
      "source": [
        "y_hat = model1.predict(x_test_cv)"
      ],
      "execution_count": null,
      "outputs": []
    },
    {
      "cell_type": "code",
      "metadata": {
        "colab": {
          "base_uri": "https://localhost:8080/"
        },
        "id": "AcS6XYycvZIj",
        "outputId": "c22bb0c1-71ef-4bdc-d06b-2e82591a983e"
      },
      "source": [
        "y_hat = np.where(y_hat >=0.5,1,0)\n",
        "print(classification_report(y_test,y_hat))"
      ],
      "execution_count": null,
      "outputs": [
        {
          "output_type": "stream",
          "text": [
            "              precision    recall  f1-score   support\n",
            "\n",
            "           0       0.00      0.00      0.00         6\n",
            "           1       0.81      0.84      0.83        31\n",
            "\n",
            "    accuracy                           0.70        37\n",
            "   macro avg       0.41      0.42      0.41        37\n",
            "weighted avg       0.68      0.70      0.69        37\n",
            "\n"
          ],
          "name": "stdout"
        }
      ]
    },
    {
      "cell_type": "code",
      "metadata": {
        "id": "Le-UZtB1vbUs"
      },
      "source": [
        ""
      ],
      "execution_count": null,
      "outputs": []
    }
  ]
}