{
  "nbformat": 4,
  "nbformat_minor": 0,
  "metadata": {
    "colab": {
      "name": "Stroke-Deep Learning",
      "provenance": [],
      "collapsed_sections": [],
      "authorship_tag": "ABX9TyPkXKHT+kb7pu6JWRttrfgr",
      "include_colab_link": true
    },
    "kernelspec": {
      "name": "python3",
      "display_name": "Python 3"
    },
    "language_info": {
      "name": "python"
    }
  },
  "cells": [
    {
      "cell_type": "markdown",
      "metadata": {
        "id": "view-in-github",
        "colab_type": "text"
      },
      "source": [
        "<a href=\"https://colab.research.google.com/github/omkart0124/Exploratory-Data-Analysis/blob/main/Stroke_Deep_Learning.ipynb\" target=\"_parent\"><img src=\"https://colab.research.google.com/assets/colab-badge.svg\" alt=\"Open In Colab\"/></a>"
      ]
    },
    {
      "cell_type": "code",
      "metadata": {
        "id": "tHPFYzSyE6e2"
      },
      "source": [
        "import pandas as pd\n",
        "import numpy as np\n",
        "import matplotlib.pyplot as plt\n",
        "import tensorflow as tf\n",
        "\n",
        "from sklearn.model_selection import train_test_split\n",
        "from sklearn.preprocessing import StandardScaler \n",
        "from sklearn.metrics import roc_auc_score\n",
        "from sklearn.preprocessing import LabelEncoder"
      ],
      "execution_count": null,
      "outputs": []
    },
    {
      "cell_type": "code",
      "metadata": {
        "colab": {
          "base_uri": "https://localhost:8080/",
          "height": 195
        },
        "id": "-yjTFU-zJvJG",
        "outputId": "c3d70195-0f43-4313-c350-b8b46d49061b"
      },
      "source": [
        "df = pd.read_csv(\"stroke-data.csv\")\n",
        "df.head()"
      ],
      "execution_count": null,
      "outputs": [
        {
          "output_type": "execute_result",
          "data": {
            "text/html": [
              "<div>\n",
              "<style scoped>\n",
              "    .dataframe tbody tr th:only-of-type {\n",
              "        vertical-align: middle;\n",
              "    }\n",
              "\n",
              "    .dataframe tbody tr th {\n",
              "        vertical-align: top;\n",
              "    }\n",
              "\n",
              "    .dataframe thead th {\n",
              "        text-align: right;\n",
              "    }\n",
              "</style>\n",
              "<table border=\"1\" class=\"dataframe\">\n",
              "  <thead>\n",
              "    <tr style=\"text-align: right;\">\n",
              "      <th></th>\n",
              "      <th>id</th>\n",
              "      <th>gender</th>\n",
              "      <th>age</th>\n",
              "      <th>hypertension</th>\n",
              "      <th>heart_disease</th>\n",
              "      <th>ever_married</th>\n",
              "      <th>work_type</th>\n",
              "      <th>Residence_type</th>\n",
              "      <th>avg_glucose_level</th>\n",
              "      <th>bmi</th>\n",
              "      <th>smoking_status</th>\n",
              "      <th>stroke</th>\n",
              "    </tr>\n",
              "  </thead>\n",
              "  <tbody>\n",
              "    <tr>\n",
              "      <th>0</th>\n",
              "      <td>9046</td>\n",
              "      <td>Male</td>\n",
              "      <td>67.0</td>\n",
              "      <td>0</td>\n",
              "      <td>1</td>\n",
              "      <td>Yes</td>\n",
              "      <td>Private</td>\n",
              "      <td>Urban</td>\n",
              "      <td>228.69</td>\n",
              "      <td>36.6</td>\n",
              "      <td>formerly smoked</td>\n",
              "      <td>1</td>\n",
              "    </tr>\n",
              "    <tr>\n",
              "      <th>1</th>\n",
              "      <td>51676</td>\n",
              "      <td>Female</td>\n",
              "      <td>61.0</td>\n",
              "      <td>0</td>\n",
              "      <td>0</td>\n",
              "      <td>Yes</td>\n",
              "      <td>Self-employed</td>\n",
              "      <td>Rural</td>\n",
              "      <td>202.21</td>\n",
              "      <td>NaN</td>\n",
              "      <td>never smoked</td>\n",
              "      <td>1</td>\n",
              "    </tr>\n",
              "    <tr>\n",
              "      <th>2</th>\n",
              "      <td>31112</td>\n",
              "      <td>Male</td>\n",
              "      <td>80.0</td>\n",
              "      <td>0</td>\n",
              "      <td>1</td>\n",
              "      <td>Yes</td>\n",
              "      <td>Private</td>\n",
              "      <td>Rural</td>\n",
              "      <td>105.92</td>\n",
              "      <td>32.5</td>\n",
              "      <td>never smoked</td>\n",
              "      <td>1</td>\n",
              "    </tr>\n",
              "    <tr>\n",
              "      <th>3</th>\n",
              "      <td>60182</td>\n",
              "      <td>Female</td>\n",
              "      <td>49.0</td>\n",
              "      <td>0</td>\n",
              "      <td>0</td>\n",
              "      <td>Yes</td>\n",
              "      <td>Private</td>\n",
              "      <td>Urban</td>\n",
              "      <td>171.23</td>\n",
              "      <td>34.4</td>\n",
              "      <td>smokes</td>\n",
              "      <td>1</td>\n",
              "    </tr>\n",
              "    <tr>\n",
              "      <th>4</th>\n",
              "      <td>1665</td>\n",
              "      <td>Female</td>\n",
              "      <td>79.0</td>\n",
              "      <td>1</td>\n",
              "      <td>0</td>\n",
              "      <td>Yes</td>\n",
              "      <td>Self-employed</td>\n",
              "      <td>Rural</td>\n",
              "      <td>174.12</td>\n",
              "      <td>24.0</td>\n",
              "      <td>never smoked</td>\n",
              "      <td>1</td>\n",
              "    </tr>\n",
              "  </tbody>\n",
              "</table>\n",
              "</div>"
            ],
            "text/plain": [
              "      id  gender   age  ...   bmi   smoking_status stroke\n",
              "0   9046    Male  67.0  ...  36.6  formerly smoked      1\n",
              "1  51676  Female  61.0  ...   NaN     never smoked      1\n",
              "2  31112    Male  80.0  ...  32.5     never smoked      1\n",
              "3  60182  Female  49.0  ...  34.4           smokes      1\n",
              "4   1665  Female  79.0  ...  24.0     never smoked      1\n",
              "\n",
              "[5 rows x 12 columns]"
            ]
          },
          "metadata": {
            "tags": []
          },
          "execution_count": 150
        }
      ]
    },
    {
      "cell_type": "code",
      "metadata": {
        "colab": {
          "base_uri": "https://localhost:8080/"
        },
        "id": "1pFYk8_sJ54j",
        "outputId": "6b330a24-8bb1-4db6-ed64-3e90e685e7e3"
      },
      "source": [
        "df.dtypes"
      ],
      "execution_count": null,
      "outputs": [
        {
          "output_type": "execute_result",
          "data": {
            "text/plain": [
              "id                     int64\n",
              "gender                object\n",
              "age                  float64\n",
              "hypertension           int64\n",
              "heart_disease          int64\n",
              "ever_married          object\n",
              "work_type             object\n",
              "Residence_type        object\n",
              "avg_glucose_level    float64\n",
              "bmi                  float64\n",
              "smoking_status        object\n",
              "stroke                 int64\n",
              "dtype: object"
            ]
          },
          "metadata": {
            "tags": []
          },
          "execution_count": 151
        }
      ]
    },
    {
      "cell_type": "code",
      "metadata": {
        "id": "PX55mTwZJ-rY"
      },
      "source": [
        "df.drop(columns='id', axis=1, inplace=True)"
      ],
      "execution_count": null,
      "outputs": []
    },
    {
      "cell_type": "markdown",
      "metadata": {
        "id": "7mgH-TAmKxtA"
      },
      "source": [
        "As we can see in the above list of datatypes, columns named gender, ever_married, work_type, Residence_type, smoking_status all are of object data type which need to be converted to numerical values before providing them for training the model. So here we mapped them to numerical values such as 1 or 0."
      ]
    },
    {
      "cell_type": "code",
      "metadata": {
        "id": "_1An_ve1KjQz"
      },
      "source": [
        "#df[\"Residence_type\"] = df[\"Residence_type\"].apply(lambda x: 1 if x == \"Urban\" else 0)\n",
        "#df[\"ever_married\"] = df[\"Residence_type\"].apply(lambda x: 1 if x == \"Yes\" else 0)\n",
        "#df[\"gender\"] = df[\"gender\"].apply(lambda x: 1 if x == \"Male\" else 0)\n",
        "#df = pd.get_dummies(data=df, columns=['smoking_status', 'work_type'])"
      ],
      "execution_count": null,
      "outputs": []
    },
    {
      "cell_type": "code",
      "metadata": {
        "id": "qXHlECzoK8Bq"
      },
      "source": [
        "#df.head(2)"
      ],
      "execution_count": null,
      "outputs": []
    },
    {
      "cell_type": "code",
      "metadata": {
        "id": "Tl8RscNLK_9o"
      },
      "source": [
        "gender = pd.get_dummies(df[\"gender\"], drop_first=True)\n",
        "ever_married = pd.get_dummies(df[\"ever_married\"], drop_first=True)\n",
        "Residence_type = pd.get_dummies(df[\"Residence_type\"], drop_first=True)\n",
        "smoking_status = pd.get_dummies(df[\"smoking_status\"], drop_first=True)\n",
        "work_type = pd.get_dummies(df[\"work_type\"], drop_first=True)"
      ],
      "execution_count": null,
      "outputs": []
    },
    {
      "cell_type": "code",
      "metadata": {
        "id": "5am02yckL7Mj"
      },
      "source": [
        "# delete extra features\n",
        "df.drop([\"gender\", \"ever_married\",\"Residence_type\",\"smoking_status\",\"work_type\"], axis=1, inplace=True)"
      ],
      "execution_count": null,
      "outputs": []
    },
    {
      "cell_type": "code",
      "metadata": {
        "id": "J8wjvNWVMWqB"
      },
      "source": [
        "df1 = pd.concat([df, gender, ever_married, Residence_type ,smoking_status ,work_type,], axis=1)"
      ],
      "execution_count": null,
      "outputs": []
    },
    {
      "cell_type": "code",
      "metadata": {
        "colab": {
          "base_uri": "https://localhost:8080/",
          "height": 232
        },
        "id": "R951TTHyMZ5j",
        "outputId": "d3fffabe-b709-4508-ab7f-56a53b518a23"
      },
      "source": [
        "df1.head()"
      ],
      "execution_count": null,
      "outputs": [
        {
          "output_type": "execute_result",
          "data": {
            "text/html": [
              "<div>\n",
              "<style scoped>\n",
              "    .dataframe tbody tr th:only-of-type {\n",
              "        vertical-align: middle;\n",
              "    }\n",
              "\n",
              "    .dataframe tbody tr th {\n",
              "        vertical-align: top;\n",
              "    }\n",
              "\n",
              "    .dataframe thead th {\n",
              "        text-align: right;\n",
              "    }\n",
              "</style>\n",
              "<table border=\"1\" class=\"dataframe\">\n",
              "  <thead>\n",
              "    <tr style=\"text-align: right;\">\n",
              "      <th></th>\n",
              "      <th>age</th>\n",
              "      <th>hypertension</th>\n",
              "      <th>heart_disease</th>\n",
              "      <th>avg_glucose_level</th>\n",
              "      <th>bmi</th>\n",
              "      <th>stroke</th>\n",
              "      <th>Male</th>\n",
              "      <th>Other</th>\n",
              "      <th>Yes</th>\n",
              "      <th>Urban</th>\n",
              "      <th>formerly smoked</th>\n",
              "      <th>never smoked</th>\n",
              "      <th>smokes</th>\n",
              "      <th>Never_worked</th>\n",
              "      <th>Private</th>\n",
              "      <th>Self-employed</th>\n",
              "      <th>children</th>\n",
              "    </tr>\n",
              "  </thead>\n",
              "  <tbody>\n",
              "    <tr>\n",
              "      <th>0</th>\n",
              "      <td>67.0</td>\n",
              "      <td>0</td>\n",
              "      <td>1</td>\n",
              "      <td>228.69</td>\n",
              "      <td>36.6</td>\n",
              "      <td>1</td>\n",
              "      <td>1</td>\n",
              "      <td>0</td>\n",
              "      <td>1</td>\n",
              "      <td>1</td>\n",
              "      <td>1</td>\n",
              "      <td>0</td>\n",
              "      <td>0</td>\n",
              "      <td>0</td>\n",
              "      <td>1</td>\n",
              "      <td>0</td>\n",
              "      <td>0</td>\n",
              "    </tr>\n",
              "    <tr>\n",
              "      <th>1</th>\n",
              "      <td>61.0</td>\n",
              "      <td>0</td>\n",
              "      <td>0</td>\n",
              "      <td>202.21</td>\n",
              "      <td>NaN</td>\n",
              "      <td>1</td>\n",
              "      <td>0</td>\n",
              "      <td>0</td>\n",
              "      <td>1</td>\n",
              "      <td>0</td>\n",
              "      <td>0</td>\n",
              "      <td>1</td>\n",
              "      <td>0</td>\n",
              "      <td>0</td>\n",
              "      <td>0</td>\n",
              "      <td>1</td>\n",
              "      <td>0</td>\n",
              "    </tr>\n",
              "    <tr>\n",
              "      <th>2</th>\n",
              "      <td>80.0</td>\n",
              "      <td>0</td>\n",
              "      <td>1</td>\n",
              "      <td>105.92</td>\n",
              "      <td>32.5</td>\n",
              "      <td>1</td>\n",
              "      <td>1</td>\n",
              "      <td>0</td>\n",
              "      <td>1</td>\n",
              "      <td>0</td>\n",
              "      <td>0</td>\n",
              "      <td>1</td>\n",
              "      <td>0</td>\n",
              "      <td>0</td>\n",
              "      <td>1</td>\n",
              "      <td>0</td>\n",
              "      <td>0</td>\n",
              "    </tr>\n",
              "    <tr>\n",
              "      <th>3</th>\n",
              "      <td>49.0</td>\n",
              "      <td>0</td>\n",
              "      <td>0</td>\n",
              "      <td>171.23</td>\n",
              "      <td>34.4</td>\n",
              "      <td>1</td>\n",
              "      <td>0</td>\n",
              "      <td>0</td>\n",
              "      <td>1</td>\n",
              "      <td>1</td>\n",
              "      <td>0</td>\n",
              "      <td>0</td>\n",
              "      <td>1</td>\n",
              "      <td>0</td>\n",
              "      <td>1</td>\n",
              "      <td>0</td>\n",
              "      <td>0</td>\n",
              "    </tr>\n",
              "    <tr>\n",
              "      <th>4</th>\n",
              "      <td>79.0</td>\n",
              "      <td>1</td>\n",
              "      <td>0</td>\n",
              "      <td>174.12</td>\n",
              "      <td>24.0</td>\n",
              "      <td>1</td>\n",
              "      <td>0</td>\n",
              "      <td>0</td>\n",
              "      <td>1</td>\n",
              "      <td>0</td>\n",
              "      <td>0</td>\n",
              "      <td>1</td>\n",
              "      <td>0</td>\n",
              "      <td>0</td>\n",
              "      <td>0</td>\n",
              "      <td>1</td>\n",
              "      <td>0</td>\n",
              "    </tr>\n",
              "  </tbody>\n",
              "</table>\n",
              "</div>"
            ],
            "text/plain": [
              "    age  hypertension  heart_disease  ...  Private  Self-employed  children\n",
              "0  67.0             0              1  ...        1              0         0\n",
              "1  61.0             0              0  ...        0              1         0\n",
              "2  80.0             0              1  ...        1              0         0\n",
              "3  49.0             0              0  ...        1              0         0\n",
              "4  79.0             1              0  ...        0              1         0\n",
              "\n",
              "[5 rows x 17 columns]"
            ]
          },
          "metadata": {
            "tags": []
          },
          "execution_count": 158
        }
      ]
    },
    {
      "cell_type": "code",
      "metadata": {
        "colab": {
          "base_uri": "https://localhost:8080/"
        },
        "id": "XXlXtV8VMiZs",
        "outputId": "7a00471d-fba3-472a-fe1b-4f3a0e105e80"
      },
      "source": [
        "df1.isnull().sum()"
      ],
      "execution_count": null,
      "outputs": [
        {
          "output_type": "execute_result",
          "data": {
            "text/plain": [
              "age                    0\n",
              "hypertension           0\n",
              "heart_disease          0\n",
              "avg_glucose_level      0\n",
              "bmi                  201\n",
              "stroke                 0\n",
              "Male                   0\n",
              "Other                  0\n",
              "Yes                    0\n",
              "Urban                  0\n",
              "formerly smoked        0\n",
              "never smoked           0\n",
              "smokes                 0\n",
              "Never_worked           0\n",
              "Private                0\n",
              "Self-employed          0\n",
              "children               0\n",
              "dtype: int64"
            ]
          },
          "metadata": {
            "tags": []
          },
          "execution_count": 159
        }
      ]
    },
    {
      "cell_type": "markdown",
      "metadata": {
        "id": "oEM4AjlgN9of"
      },
      "source": [
        "we need to ensure that our dataset does not contain any null values. But as we can see above \"bmi\"column has null values which we have filled using mean of the column."
      ]
    },
    {
      "cell_type": "code",
      "metadata": {
        "id": "gVsU7gFnNFv9"
      },
      "source": [
        "df1['bmi'] = df1['bmi'].fillna(df1['bmi'].mean())"
      ],
      "execution_count": null,
      "outputs": []
    },
    {
      "cell_type": "code",
      "metadata": {
        "colab": {
          "base_uri": "https://localhost:8080/"
        },
        "id": "D6pz0UgEOD8F",
        "outputId": "d3260245-6e2e-48cb-beea-9b86fd64e614"
      },
      "source": [
        "df1.isnull().sum()"
      ],
      "execution_count": null,
      "outputs": [
        {
          "output_type": "execute_result",
          "data": {
            "text/plain": [
              "age                  0\n",
              "hypertension         0\n",
              "heart_disease        0\n",
              "avg_glucose_level    0\n",
              "bmi                  0\n",
              "stroke               0\n",
              "Male                 0\n",
              "Other                0\n",
              "Yes                  0\n",
              "Urban                0\n",
              "formerly smoked      0\n",
              "never smoked         0\n",
              "smokes               0\n",
              "Never_worked         0\n",
              "Private              0\n",
              "Self-employed        0\n",
              "children             0\n",
              "dtype: int64"
            ]
          },
          "metadata": {
            "tags": []
          },
          "execution_count": 161
        }
      ]
    },
    {
      "cell_type": "markdown",
      "metadata": {
        "id": "0xpU4n4ISgzd"
      },
      "source": [
        "##Train_Test_Split"
      ]
    },
    {
      "cell_type": "code",
      "metadata": {
        "id": "Lsqccz9hOIOC"
      },
      "source": [
        "x = df1.drop('stroke', axis='columns')\n",
        "y= df1['stroke']"
      ],
      "execution_count": null,
      "outputs": []
    },
    {
      "cell_type": "code",
      "metadata": {
        "id": "GeSA07wGY483"
      },
      "source": [
        "# scalling\n",
        "\n",
        "ss = StandardScaler()\n",
        "x = ss.fit_transform(x)"
      ],
      "execution_count": null,
      "outputs": []
    },
    {
      "cell_type": "code",
      "metadata": {
        "id": "fLa_ok8RY_qL"
      },
      "source": [
        "x_train, x_test, y_train, y_test = train_test_split(x, y, test_size=0.3)"
      ],
      "execution_count": null,
      "outputs": []
    },
    {
      "cell_type": "code",
      "metadata": {
        "colab": {
          "base_uri": "https://localhost:8080/"
        },
        "id": "gq1Lam71ZJWZ",
        "outputId": "61f4083b-f13a-4454-fc06-2f47f2a92334"
      },
      "source": [
        "x_train.shape"
      ],
      "execution_count": null,
      "outputs": [
        {
          "output_type": "execute_result",
          "data": {
            "text/plain": [
              "(3577, 16)"
            ]
          },
          "metadata": {
            "tags": []
          },
          "execution_count": 165
        }
      ]
    },
    {
      "cell_type": "code",
      "metadata": {
        "id": "iwSPnM4IZBtT"
      },
      "source": [
        "model = tf.keras.Sequential(\n",
        "    [tf.keras.layers.Dense(16, activation=\"relu\", input_shape=(x.shape[1],)),#---------------1st layer the number 15 denotes number of neurons\n",
        "     tf.keras.layers.Dense(25, activation=\"relu\"),#---------------2st layer 20 neurons\n",
        "     tf.keras.layers.Dense(1, activation=\"sigmoid\")]#--------------Output layer 1 neuron\n",
        ")"
      ],
      "execution_count": null,
      "outputs": []
    },
    {
      "cell_type": "code",
      "metadata": {
        "colab": {
          "base_uri": "https://localhost:8080/"
        },
        "id": "_NMQTbbHZTkh",
        "outputId": "32ecd0eb-6026-4478-8ad3-99acf11fbb23"
      },
      "source": [
        "model.summary ()\n",
        "\n",
        "# params : input parameter along with bias.\n",
        "# 16(No of features)+15(Neurons)+15(Bias)=255"
      ],
      "execution_count": null,
      "outputs": [
        {
          "output_type": "stream",
          "text": [
            "Model: \"sequential_5\"\n",
            "_________________________________________________________________\n",
            "Layer (type)                 Output Shape              Param #   \n",
            "=================================================================\n",
            "dense_15 (Dense)             (None, 16)                272       \n",
            "_________________________________________________________________\n",
            "dense_16 (Dense)             (None, 25)                425       \n",
            "_________________________________________________________________\n",
            "dense_17 (Dense)             (None, 1)                 26        \n",
            "=================================================================\n",
            "Total params: 723\n",
            "Trainable params: 723\n",
            "Non-trainable params: 0\n",
            "_________________________________________________________________\n"
          ],
          "name": "stdout"
        }
      ]
    },
    {
      "cell_type": "code",
      "metadata": {
        "id": "Sc7oMsScZXU3"
      },
      "source": [
        "model.compile(optimizer= 'adam', loss=\"binary_crossentropy\", metrics=['accuracy'])"
      ],
      "execution_count": null,
      "outputs": []
    },
    {
      "cell_type": "code",
      "metadata": {
        "colab": {
          "base_uri": "https://localhost:8080/"
        },
        "id": "TNzSDZldZZhU",
        "outputId": "b658274c-a2a2-4373-c150-4e36d3b75101"
      },
      "source": [
        "trained_model = model.fit(x_train, y_train, epochs=100, batch_size=20)"
      ],
      "execution_count": null,
      "outputs": [
        {
          "output_type": "stream",
          "text": [
            "Epoch 1/100\n",
            "179/179 [==============================] - 1s 1ms/step - loss: 0.5404 - accuracy: 0.7107\n",
            "Epoch 2/100\n",
            "179/179 [==============================] - 0s 1ms/step - loss: 0.1849 - accuracy: 0.9556\n",
            "Epoch 3/100\n",
            "179/179 [==============================] - 0s 983us/step - loss: 0.1965 - accuracy: 0.9466\n",
            "Epoch 4/100\n",
            "179/179 [==============================] - 0s 1ms/step - loss: 0.1717 - accuracy: 0.9516\n",
            "Epoch 5/100\n",
            "179/179 [==============================] - 0s 1ms/step - loss: 0.1577 - accuracy: 0.9542\n",
            "Epoch 6/100\n",
            "179/179 [==============================] - 0s 965us/step - loss: 0.1658 - accuracy: 0.9490\n",
            "Epoch 7/100\n",
            "179/179 [==============================] - 0s 1ms/step - loss: 0.1497 - accuracy: 0.9550\n",
            "Epoch 8/100\n",
            "179/179 [==============================] - 0s 1ms/step - loss: 0.1584 - accuracy: 0.9521\n",
            "Epoch 9/100\n",
            "179/179 [==============================] - 0s 1ms/step - loss: 0.1743 - accuracy: 0.9447\n",
            "Epoch 10/100\n",
            "179/179 [==============================] - 0s 1ms/step - loss: 0.1436 - accuracy: 0.9573\n",
            "Epoch 11/100\n",
            "179/179 [==============================] - 0s 995us/step - loss: 0.1581 - accuracy: 0.9486\n",
            "Epoch 12/100\n",
            "179/179 [==============================] - 0s 1ms/step - loss: 0.1433 - accuracy: 0.9538\n",
            "Epoch 13/100\n",
            "179/179 [==============================] - 0s 1ms/step - loss: 0.1435 - accuracy: 0.9550\n",
            "Epoch 14/100\n",
            "179/179 [==============================] - 0s 1ms/step - loss: 0.1596 - accuracy: 0.9464\n",
            "Epoch 15/100\n",
            "179/179 [==============================] - 0s 1ms/step - loss: 0.1540 - accuracy: 0.9500\n",
            "Epoch 16/100\n",
            "179/179 [==============================] - 0s 1ms/step - loss: 0.1457 - accuracy: 0.9514\n",
            "Epoch 17/100\n",
            "179/179 [==============================] - 0s 1ms/step - loss: 0.1507 - accuracy: 0.9520\n",
            "Epoch 18/100\n",
            "179/179 [==============================] - 0s 1ms/step - loss: 0.1402 - accuracy: 0.9565\n",
            "Epoch 19/100\n",
            "179/179 [==============================] - 0s 1ms/step - loss: 0.1502 - accuracy: 0.9531\n",
            "Epoch 20/100\n",
            "179/179 [==============================] - 0s 1ms/step - loss: 0.1516 - accuracy: 0.9527\n",
            "Epoch 21/100\n",
            "179/179 [==============================] - 0s 1ms/step - loss: 0.1565 - accuracy: 0.9505\n",
            "Epoch 22/100\n",
            "179/179 [==============================] - 0s 1ms/step - loss: 0.1578 - accuracy: 0.9452\n",
            "Epoch 23/100\n",
            "179/179 [==============================] - 0s 1ms/step - loss: 0.1541 - accuracy: 0.9483\n",
            "Epoch 24/100\n",
            "179/179 [==============================] - 0s 1ms/step - loss: 0.1515 - accuracy: 0.9507\n",
            "Epoch 25/100\n",
            "179/179 [==============================] - 0s 1ms/step - loss: 0.1537 - accuracy: 0.9498\n",
            "Epoch 26/100\n",
            "179/179 [==============================] - 0s 1ms/step - loss: 0.1467 - accuracy: 0.9530\n",
            "Epoch 27/100\n",
            "179/179 [==============================] - 0s 1ms/step - loss: 0.1536 - accuracy: 0.9492\n",
            "Epoch 28/100\n",
            "179/179 [==============================] - 0s 1ms/step - loss: 0.1408 - accuracy: 0.9551\n",
            "Epoch 29/100\n",
            "179/179 [==============================] - 0s 1ms/step - loss: 0.1510 - accuracy: 0.9510\n",
            "Epoch 30/100\n",
            "179/179 [==============================] - 0s 1ms/step - loss: 0.1378 - accuracy: 0.9535\n",
            "Epoch 31/100\n",
            "179/179 [==============================] - 0s 1ms/step - loss: 0.1377 - accuracy: 0.9567\n",
            "Epoch 32/100\n",
            "179/179 [==============================] - 0s 1ms/step - loss: 0.1423 - accuracy: 0.9521\n",
            "Epoch 33/100\n",
            "179/179 [==============================] - 0s 1ms/step - loss: 0.1406 - accuracy: 0.9524\n",
            "Epoch 34/100\n",
            "179/179 [==============================] - 0s 1ms/step - loss: 0.1346 - accuracy: 0.9543\n",
            "Epoch 35/100\n",
            "179/179 [==============================] - 0s 1ms/step - loss: 0.1428 - accuracy: 0.9537\n",
            "Epoch 36/100\n",
            "179/179 [==============================] - 0s 1ms/step - loss: 0.1362 - accuracy: 0.9550\n",
            "Epoch 37/100\n",
            "179/179 [==============================] - 0s 1ms/step - loss: 0.1433 - accuracy: 0.9494\n",
            "Epoch 38/100\n",
            "179/179 [==============================] - 0s 1ms/step - loss: 0.1357 - accuracy: 0.9557\n",
            "Epoch 39/100\n",
            "179/179 [==============================] - 0s 1ms/step - loss: 0.1321 - accuracy: 0.9551\n",
            "Epoch 40/100\n",
            "179/179 [==============================] - 0s 1ms/step - loss: 0.1466 - accuracy: 0.9486\n",
            "Epoch 41/100\n",
            "179/179 [==============================] - 0s 1ms/step - loss: 0.1388 - accuracy: 0.9533\n",
            "Epoch 42/100\n",
            "179/179 [==============================] - 0s 1ms/step - loss: 0.1582 - accuracy: 0.9434\n",
            "Epoch 43/100\n",
            "179/179 [==============================] - 0s 1ms/step - loss: 0.1212 - accuracy: 0.9596\n",
            "Epoch 44/100\n",
            "179/179 [==============================] - 0s 1ms/step - loss: 0.1339 - accuracy: 0.9546\n",
            "Epoch 45/100\n",
            "179/179 [==============================] - 0s 1ms/step - loss: 0.1353 - accuracy: 0.9531\n",
            "Epoch 46/100\n",
            "179/179 [==============================] - 0s 1ms/step - loss: 0.1395 - accuracy: 0.9513\n",
            "Epoch 47/100\n",
            "179/179 [==============================] - 0s 1ms/step - loss: 0.1264 - accuracy: 0.9573\n",
            "Epoch 48/100\n",
            "179/179 [==============================] - 0s 1ms/step - loss: 0.1454 - accuracy: 0.9543\n",
            "Epoch 49/100\n",
            "179/179 [==============================] - 0s 1ms/step - loss: 0.1444 - accuracy: 0.9494\n",
            "Epoch 50/100\n",
            "179/179 [==============================] - 0s 1ms/step - loss: 0.1451 - accuracy: 0.9480\n",
            "Epoch 51/100\n",
            "179/179 [==============================] - 0s 1ms/step - loss: 0.1289 - accuracy: 0.9569\n",
            "Epoch 52/100\n",
            "179/179 [==============================] - 0s 1ms/step - loss: 0.1258 - accuracy: 0.9558\n",
            "Epoch 53/100\n",
            "179/179 [==============================] - 0s 1ms/step - loss: 0.1283 - accuracy: 0.9554\n",
            "Epoch 54/100\n",
            "179/179 [==============================] - 0s 1ms/step - loss: 0.1307 - accuracy: 0.9528\n",
            "Epoch 55/100\n",
            "179/179 [==============================] - 0s 1ms/step - loss: 0.1381 - accuracy: 0.9516\n",
            "Epoch 56/100\n",
            "179/179 [==============================] - 0s 1ms/step - loss: 0.1262 - accuracy: 0.9534\n",
            "Epoch 57/100\n",
            "179/179 [==============================] - 0s 1ms/step - loss: 0.1298 - accuracy: 0.9550\n",
            "Epoch 58/100\n",
            "179/179 [==============================] - 0s 1ms/step - loss: 0.1217 - accuracy: 0.9586\n",
            "Epoch 59/100\n",
            "179/179 [==============================] - 0s 1ms/step - loss: 0.1365 - accuracy: 0.9502\n",
            "Epoch 60/100\n",
            "179/179 [==============================] - 0s 1ms/step - loss: 0.1324 - accuracy: 0.9554\n",
            "Epoch 61/100\n",
            "179/179 [==============================] - 0s 1ms/step - loss: 0.1325 - accuracy: 0.9537\n",
            "Epoch 62/100\n",
            "179/179 [==============================] - 0s 1ms/step - loss: 0.1191 - accuracy: 0.9598\n",
            "Epoch 63/100\n",
            "179/179 [==============================] - 0s 1ms/step - loss: 0.1435 - accuracy: 0.9486\n",
            "Epoch 64/100\n",
            "179/179 [==============================] - 0s 1ms/step - loss: 0.1412 - accuracy: 0.9505\n",
            "Epoch 65/100\n",
            "179/179 [==============================] - 0s 1ms/step - loss: 0.1316 - accuracy: 0.9512\n",
            "Epoch 66/100\n",
            "179/179 [==============================] - 0s 1ms/step - loss: 0.1282 - accuracy: 0.9550\n",
            "Epoch 67/100\n",
            "179/179 [==============================] - 0s 1ms/step - loss: 0.1224 - accuracy: 0.9602\n",
            "Epoch 68/100\n",
            "179/179 [==============================] - 0s 1ms/step - loss: 0.1344 - accuracy: 0.9519\n",
            "Epoch 69/100\n",
            "179/179 [==============================] - 0s 1ms/step - loss: 0.1414 - accuracy: 0.9519\n",
            "Epoch 70/100\n",
            "179/179 [==============================] - 0s 1ms/step - loss: 0.1213 - accuracy: 0.9549\n",
            "Epoch 71/100\n",
            "179/179 [==============================] - 0s 1ms/step - loss: 0.1393 - accuracy: 0.9510\n",
            "Epoch 72/100\n",
            "179/179 [==============================] - 0s 1ms/step - loss: 0.1382 - accuracy: 0.9521\n",
            "Epoch 73/100\n",
            "179/179 [==============================] - 0s 1ms/step - loss: 0.1169 - accuracy: 0.9597\n",
            "Epoch 74/100\n",
            "179/179 [==============================] - 0s 1ms/step - loss: 0.1244 - accuracy: 0.9602\n",
            "Epoch 75/100\n",
            "179/179 [==============================] - 0s 1ms/step - loss: 0.1297 - accuracy: 0.9528\n",
            "Epoch 76/100\n",
            "179/179 [==============================] - 0s 1ms/step - loss: 0.1214 - accuracy: 0.9574\n",
            "Epoch 77/100\n",
            "179/179 [==============================] - 0s 1ms/step - loss: 0.1175 - accuracy: 0.9604\n",
            "Epoch 78/100\n",
            "179/179 [==============================] - 0s 1ms/step - loss: 0.1219 - accuracy: 0.9557\n",
            "Epoch 79/100\n",
            "179/179 [==============================] - 0s 1ms/step - loss: 0.1204 - accuracy: 0.9554\n",
            "Epoch 80/100\n",
            "179/179 [==============================] - 0s 1ms/step - loss: 0.1243 - accuracy: 0.9544\n",
            "Epoch 81/100\n",
            "179/179 [==============================] - 0s 1ms/step - loss: 0.1158 - accuracy: 0.9621\n",
            "Epoch 82/100\n",
            "179/179 [==============================] - 0s 1ms/step - loss: 0.1183 - accuracy: 0.9607\n",
            "Epoch 83/100\n",
            "179/179 [==============================] - 0s 1ms/step - loss: 0.1059 - accuracy: 0.9638\n",
            "Epoch 84/100\n",
            "179/179 [==============================] - 0s 1ms/step - loss: 0.1280 - accuracy: 0.9511\n",
            "Epoch 85/100\n",
            "179/179 [==============================] - 0s 1ms/step - loss: 0.1250 - accuracy: 0.9532\n",
            "Epoch 86/100\n",
            "179/179 [==============================] - 0s 1ms/step - loss: 0.1295 - accuracy: 0.9561\n",
            "Epoch 87/100\n",
            "179/179 [==============================] - 0s 1ms/step - loss: 0.1181 - accuracy: 0.9567\n",
            "Epoch 88/100\n",
            "179/179 [==============================] - 0s 1ms/step - loss: 0.1316 - accuracy: 0.9559\n",
            "Epoch 89/100\n",
            "179/179 [==============================] - 0s 1ms/step - loss: 0.1143 - accuracy: 0.9600\n",
            "Epoch 90/100\n",
            "179/179 [==============================] - 0s 1ms/step - loss: 0.1204 - accuracy: 0.9580\n",
            "Epoch 91/100\n",
            "179/179 [==============================] - 0s 1ms/step - loss: 0.1203 - accuracy: 0.9570\n",
            "Epoch 92/100\n",
            "179/179 [==============================] - 0s 1ms/step - loss: 0.1066 - accuracy: 0.9609\n",
            "Epoch 93/100\n",
            "179/179 [==============================] - 0s 1ms/step - loss: 0.1285 - accuracy: 0.9476\n",
            "Epoch 94/100\n",
            "179/179 [==============================] - 0s 1ms/step - loss: 0.1259 - accuracy: 0.9541\n",
            "Epoch 95/100\n",
            "179/179 [==============================] - 0s 1ms/step - loss: 0.1161 - accuracy: 0.9603\n",
            "Epoch 96/100\n",
            "179/179 [==============================] - 0s 1ms/step - loss: 0.1303 - accuracy: 0.9516\n",
            "Epoch 97/100\n",
            "179/179 [==============================] - 0s 1ms/step - loss: 0.1159 - accuracy: 0.9594\n",
            "Epoch 98/100\n",
            "179/179 [==============================] - 0s 1ms/step - loss: 0.1109 - accuracy: 0.9578\n",
            "Epoch 99/100\n",
            "179/179 [==============================] - 0s 1ms/step - loss: 0.1180 - accuracy: 0.9574\n",
            "Epoch 100/100\n",
            "179/179 [==============================] - 0s 1ms/step - loss: 0.1245 - accuracy: 0.9551\n"
          ],
          "name": "stdout"
        }
      ]
    },
    {
      "cell_type": "code",
      "metadata": {
        "colab": {
          "base_uri": "https://localhost:8080/"
        },
        "id": "Avi6NVHoZcDq",
        "outputId": "0ad28bbf-02de-4843-eab0-d9228b2d5104"
      },
      "source": [
        "y_hat = model.predict(x_test)\n",
        "y_hat"
      ],
      "execution_count": null,
      "outputs": [
        {
          "output_type": "execute_result",
          "data": {
            "text/plain": [
              "array([[0.00031951],\n",
              "       [0.00065061],\n",
              "       [0.03360289],\n",
              "       ...,\n",
              "       [0.00016311],\n",
              "       [0.03863752],\n",
              "       [0.03170586]], dtype=float32)"
            ]
          },
          "metadata": {
            "tags": []
          },
          "execution_count": 170
        }
      ]
    },
    {
      "cell_type": "code",
      "metadata": {
        "colab": {
          "base_uri": "https://localhost:8080/"
        },
        "id": "6S3Q78AXZzn5",
        "outputId": "a9cf0668-8d53-48bf-d962-d446b5f03ed9"
      },
      "source": [
        "y_hat1 = np.where(y_hat >= 0.5, 1, 0)\n",
        "y_hat1.flatten()"
      ],
      "execution_count": null,
      "outputs": [
        {
          "output_type": "execute_result",
          "data": {
            "text/plain": [
              "array([0, 0, 0, ..., 0, 0, 0])"
            ]
          },
          "metadata": {
            "tags": []
          },
          "execution_count": 171
        }
      ]
    },
    {
      "cell_type": "code",
      "metadata": {
        "colab": {
          "base_uri": "https://localhost:8080/"
        },
        "id": "LdzsW4-4VCIw",
        "outputId": "a3e6807b-1400-4e72-e94c-5309b4c74a22"
      },
      "source": [
        "roc_auc_score(y_test, y_hat1)"
      ],
      "execution_count": null,
      "outputs": [
        {
          "output_type": "execute_result",
          "data": {
            "text/plain": [
              "0.5347146323842692"
            ]
          },
          "metadata": {
            "tags": []
          },
          "execution_count": 172
        }
      ]
    },
    {
      "cell_type": "code",
      "metadata": {
        "id": "QAYijfkYZ_Mg"
      },
      "source": [
        "from sklearn.metrics import confusion_matrix , classification_report\n",
        "from sklearn.metrics import (accuracy_score, precision_score, recall_score, f1_score)"
      ],
      "execution_count": null,
      "outputs": []
    },
    {
      "cell_type": "code",
      "metadata": {
        "colab": {
          "base_uri": "https://localhost:8080/"
        },
        "id": "MXoDsNdxaDse",
        "outputId": "83894a93-78ad-46e2-a2a2-abc12eab5068"
      },
      "source": [
        "confusion_matrix(y_test,y_hat1)"
      ],
      "execution_count": null,
      "outputs": [
        {
          "output_type": "execute_result",
          "data": {
            "text/plain": [
              "array([[1442,   17],\n",
              "       [  68,    6]])"
            ]
          },
          "metadata": {
            "tags": []
          },
          "execution_count": 174
        }
      ]
    },
    {
      "cell_type": "code",
      "metadata": {
        "colab": {
          "base_uri": "https://localhost:8080/"
        },
        "id": "fm4axig7aF8b",
        "outputId": "ffbd5127-b66b-4792-aa06-71a67681a4df"
      },
      "source": [
        "print(accuracy_score(y_test, y_hat1))"
      ],
      "execution_count": null,
      "outputs": [
        {
          "output_type": "stream",
          "text": [
            "0.9445531637312459\n"
          ],
          "name": "stdout"
        }
      ]
    },
    {
      "cell_type": "code",
      "metadata": {
        "id": "E1h6sf8OaKon"
      },
      "source": [
        ""
      ],
      "execution_count": null,
      "outputs": []
    }
  ]
}