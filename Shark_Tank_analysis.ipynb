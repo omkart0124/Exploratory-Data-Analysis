{
  "nbformat": 4,
  "nbformat_minor": 0,
  "metadata": {
    "colab": {
      "provenance": [],
      "collapsed_sections": [],
      "authorship_tag": "ABX9TyNxcKfFnmykUrxrOMilSyez",
      "include_colab_link": true
    },
    "kernelspec": {
      "name": "python3",
      "display_name": "Python 3"
    },
    "language_info": {
      "name": "python"
    }
  },
  "cells": [
    {
      "cell_type": "markdown",
      "metadata": {
        "id": "view-in-github",
        "colab_type": "text"
      },
      "source": [
        "<a href=\"https://colab.research.google.com/github/omkart0124/Exploratory-Data-Analysis/blob/main/Shark_Tank_analysis.ipynb\" target=\"_parent\"><img src=\"https://colab.research.google.com/assets/colab-badge.svg\" alt=\"Open In Colab\"/></a>"
      ]
    },
    {
      "cell_type": "code",
      "execution_count": null,
      "metadata": {
        "id": "P8Y6QZ0nuh66"
      },
      "outputs": [],
      "source": [
        "import numpy as np\n",
        "import pandas as pd\n",
        "import matplotlib.pyplot as plt\n",
        "import seaborn as sns\n",
        "import warnings\n",
        "warnings.filterwarnings('ignore')"
      ]
    },
    {
      "cell_type": "code",
      "source": [
        "df=pd.read_csv('Shark Tank India Dataset.csv')\n",
        "df.head()"
      ],
      "metadata": {
        "id": "gZEfuj_nw42N",
        "colab": {
          "base_uri": "https://localhost:8080/",
          "height": 456
        },
        "outputId": "4ee929c6-9b0b-4c72-a828-57003c5612ff"
      },
      "execution_count": null,
      "outputs": [
        {
          "output_type": "execute_result",
          "data": {
            "text/plain": [
              "   episode_number  pitch_number           brand_name  \\\n",
              "0               1             1  BluePine Industries   \n",
              "1               1             2        Booz scooters   \n",
              "2               1             3  Heart up my Sleeves   \n",
              "3               2             4           Tagz Foods   \n",
              "4               2             5       Head and Heart   \n",
              "\n",
              "                                            idea  deal  pitcher_ask_amount  \\\n",
              "0                                   Frozen Momos     1                50.0   \n",
              "1  Renting e-bike for mobility in private spaces     1                40.0   \n",
              "2                             Detachable Sleeves     1                25.0   \n",
              "3                           Healthy Potato Chips     1                70.0   \n",
              "4                       Brain Development Course     0                50.0   \n",
              "\n",
              "   ask_equity  ask_valuation  deal_amount  deal_equity  ...  ashneer_deal  \\\n",
              "0         5.0        1000.00         75.0        16.00  ...             1   \n",
              "1        15.0         266.67         40.0        50.00  ...             1   \n",
              "2        10.0         250.00         25.0        30.00  ...             0   \n",
              "3         1.0        7000.00         70.0         2.75  ...             1   \n",
              "4         5.0        1000.00          0.0         0.00  ...             0   \n",
              "\n",
              "   anupam_deal  aman_deal  namita_deal  vineeta_deal  peyush_deal  \\\n",
              "0            0          1            0             1            0   \n",
              "1            0          0            0             1            0   \n",
              "2            1          0            0             1            0   \n",
              "3            0          0            0             0            0   \n",
              "4            0          0            0             0            0   \n",
              "\n",
              "   ghazal_deal  total_sharks_invested  amount_per_shark  equity_per_shark  \n",
              "0            0                      3              25.0          5.333333  \n",
              "1            0                      2              20.0         25.000000  \n",
              "2            0                      2              12.5         15.000000  \n",
              "3            0                      1              70.0          2.750000  \n",
              "4            0                      0               0.0          0.000000  \n",
              "\n",
              "[5 rows x 28 columns]"
            ],
            "text/html": [
              "\n",
              "  <div id=\"df-851d844a-5af5-4700-9a5b-14c4ed4efea0\">\n",
              "    <div class=\"colab-df-container\">\n",
              "      <div>\n",
              "<style scoped>\n",
              "    .dataframe tbody tr th:only-of-type {\n",
              "        vertical-align: middle;\n",
              "    }\n",
              "\n",
              "    .dataframe tbody tr th {\n",
              "        vertical-align: top;\n",
              "    }\n",
              "\n",
              "    .dataframe thead th {\n",
              "        text-align: right;\n",
              "    }\n",
              "</style>\n",
              "<table border=\"1\" class=\"dataframe\">\n",
              "  <thead>\n",
              "    <tr style=\"text-align: right;\">\n",
              "      <th></th>\n",
              "      <th>episode_number</th>\n",
              "      <th>pitch_number</th>\n",
              "      <th>brand_name</th>\n",
              "      <th>idea</th>\n",
              "      <th>deal</th>\n",
              "      <th>pitcher_ask_amount</th>\n",
              "      <th>ask_equity</th>\n",
              "      <th>ask_valuation</th>\n",
              "      <th>deal_amount</th>\n",
              "      <th>deal_equity</th>\n",
              "      <th>...</th>\n",
              "      <th>ashneer_deal</th>\n",
              "      <th>anupam_deal</th>\n",
              "      <th>aman_deal</th>\n",
              "      <th>namita_deal</th>\n",
              "      <th>vineeta_deal</th>\n",
              "      <th>peyush_deal</th>\n",
              "      <th>ghazal_deal</th>\n",
              "      <th>total_sharks_invested</th>\n",
              "      <th>amount_per_shark</th>\n",
              "      <th>equity_per_shark</th>\n",
              "    </tr>\n",
              "  </thead>\n",
              "  <tbody>\n",
              "    <tr>\n",
              "      <th>0</th>\n",
              "      <td>1</td>\n",
              "      <td>1</td>\n",
              "      <td>BluePine Industries</td>\n",
              "      <td>Frozen Momos</td>\n",
              "      <td>1</td>\n",
              "      <td>50.0</td>\n",
              "      <td>5.0</td>\n",
              "      <td>1000.00</td>\n",
              "      <td>75.0</td>\n",
              "      <td>16.00</td>\n",
              "      <td>...</td>\n",
              "      <td>1</td>\n",
              "      <td>0</td>\n",
              "      <td>1</td>\n",
              "      <td>0</td>\n",
              "      <td>1</td>\n",
              "      <td>0</td>\n",
              "      <td>0</td>\n",
              "      <td>3</td>\n",
              "      <td>25.0</td>\n",
              "      <td>5.333333</td>\n",
              "    </tr>\n",
              "    <tr>\n",
              "      <th>1</th>\n",
              "      <td>1</td>\n",
              "      <td>2</td>\n",
              "      <td>Booz scooters</td>\n",
              "      <td>Renting e-bike for mobility in private spaces</td>\n",
              "      <td>1</td>\n",
              "      <td>40.0</td>\n",
              "      <td>15.0</td>\n",
              "      <td>266.67</td>\n",
              "      <td>40.0</td>\n",
              "      <td>50.00</td>\n",
              "      <td>...</td>\n",
              "      <td>1</td>\n",
              "      <td>0</td>\n",
              "      <td>0</td>\n",
              "      <td>0</td>\n",
              "      <td>1</td>\n",
              "      <td>0</td>\n",
              "      <td>0</td>\n",
              "      <td>2</td>\n",
              "      <td>20.0</td>\n",
              "      <td>25.000000</td>\n",
              "    </tr>\n",
              "    <tr>\n",
              "      <th>2</th>\n",
              "      <td>1</td>\n",
              "      <td>3</td>\n",
              "      <td>Heart up my Sleeves</td>\n",
              "      <td>Detachable Sleeves</td>\n",
              "      <td>1</td>\n",
              "      <td>25.0</td>\n",
              "      <td>10.0</td>\n",
              "      <td>250.00</td>\n",
              "      <td>25.0</td>\n",
              "      <td>30.00</td>\n",
              "      <td>...</td>\n",
              "      <td>0</td>\n",
              "      <td>1</td>\n",
              "      <td>0</td>\n",
              "      <td>0</td>\n",
              "      <td>1</td>\n",
              "      <td>0</td>\n",
              "      <td>0</td>\n",
              "      <td>2</td>\n",
              "      <td>12.5</td>\n",
              "      <td>15.000000</td>\n",
              "    </tr>\n",
              "    <tr>\n",
              "      <th>3</th>\n",
              "      <td>2</td>\n",
              "      <td>4</td>\n",
              "      <td>Tagz Foods</td>\n",
              "      <td>Healthy Potato Chips</td>\n",
              "      <td>1</td>\n",
              "      <td>70.0</td>\n",
              "      <td>1.0</td>\n",
              "      <td>7000.00</td>\n",
              "      <td>70.0</td>\n",
              "      <td>2.75</td>\n",
              "      <td>...</td>\n",
              "      <td>1</td>\n",
              "      <td>0</td>\n",
              "      <td>0</td>\n",
              "      <td>0</td>\n",
              "      <td>0</td>\n",
              "      <td>0</td>\n",
              "      <td>0</td>\n",
              "      <td>1</td>\n",
              "      <td>70.0</td>\n",
              "      <td>2.750000</td>\n",
              "    </tr>\n",
              "    <tr>\n",
              "      <th>4</th>\n",
              "      <td>2</td>\n",
              "      <td>5</td>\n",
              "      <td>Head and Heart</td>\n",
              "      <td>Brain Development Course</td>\n",
              "      <td>0</td>\n",
              "      <td>50.0</td>\n",
              "      <td>5.0</td>\n",
              "      <td>1000.00</td>\n",
              "      <td>0.0</td>\n",
              "      <td>0.00</td>\n",
              "      <td>...</td>\n",
              "      <td>0</td>\n",
              "      <td>0</td>\n",
              "      <td>0</td>\n",
              "      <td>0</td>\n",
              "      <td>0</td>\n",
              "      <td>0</td>\n",
              "      <td>0</td>\n",
              "      <td>0</td>\n",
              "      <td>0.0</td>\n",
              "      <td>0.000000</td>\n",
              "    </tr>\n",
              "  </tbody>\n",
              "</table>\n",
              "<p>5 rows × 28 columns</p>\n",
              "</div>\n",
              "      <button class=\"colab-df-convert\" onclick=\"convertToInteractive('df-851d844a-5af5-4700-9a5b-14c4ed4efea0')\"\n",
              "              title=\"Convert this dataframe to an interactive table.\"\n",
              "              style=\"display:none;\">\n",
              "        \n",
              "  <svg xmlns=\"http://www.w3.org/2000/svg\" height=\"24px\"viewBox=\"0 0 24 24\"\n",
              "       width=\"24px\">\n",
              "    <path d=\"M0 0h24v24H0V0z\" fill=\"none\"/>\n",
              "    <path d=\"M18.56 5.44l.94 2.06.94-2.06 2.06-.94-2.06-.94-.94-2.06-.94 2.06-2.06.94zm-11 1L8.5 8.5l.94-2.06 2.06-.94-2.06-.94L8.5 2.5l-.94 2.06-2.06.94zm10 10l.94 2.06.94-2.06 2.06-.94-2.06-.94-.94-2.06-.94 2.06-2.06.94z\"/><path d=\"M17.41 7.96l-1.37-1.37c-.4-.4-.92-.59-1.43-.59-.52 0-1.04.2-1.43.59L10.3 9.45l-7.72 7.72c-.78.78-.78 2.05 0 2.83L4 21.41c.39.39.9.59 1.41.59.51 0 1.02-.2 1.41-.59l7.78-7.78 2.81-2.81c.8-.78.8-2.07 0-2.86zM5.41 20L4 18.59l7.72-7.72 1.47 1.35L5.41 20z\"/>\n",
              "  </svg>\n",
              "      </button>\n",
              "      \n",
              "  <style>\n",
              "    .colab-df-container {\n",
              "      display:flex;\n",
              "      flex-wrap:wrap;\n",
              "      gap: 12px;\n",
              "    }\n",
              "\n",
              "    .colab-df-convert {\n",
              "      background-color: #E8F0FE;\n",
              "      border: none;\n",
              "      border-radius: 50%;\n",
              "      cursor: pointer;\n",
              "      display: none;\n",
              "      fill: #1967D2;\n",
              "      height: 32px;\n",
              "      padding: 0 0 0 0;\n",
              "      width: 32px;\n",
              "    }\n",
              "\n",
              "    .colab-df-convert:hover {\n",
              "      background-color: #E2EBFA;\n",
              "      box-shadow: 0px 1px 2px rgba(60, 64, 67, 0.3), 0px 1px 3px 1px rgba(60, 64, 67, 0.15);\n",
              "      fill: #174EA6;\n",
              "    }\n",
              "\n",
              "    [theme=dark] .colab-df-convert {\n",
              "      background-color: #3B4455;\n",
              "      fill: #D2E3FC;\n",
              "    }\n",
              "\n",
              "    [theme=dark] .colab-df-convert:hover {\n",
              "      background-color: #434B5C;\n",
              "      box-shadow: 0px 1px 3px 1px rgba(0, 0, 0, 0.15);\n",
              "      filter: drop-shadow(0px 1px 2px rgba(0, 0, 0, 0.3));\n",
              "      fill: #FFFFFF;\n",
              "    }\n",
              "  </style>\n",
              "\n",
              "      <script>\n",
              "        const buttonEl =\n",
              "          document.querySelector('#df-851d844a-5af5-4700-9a5b-14c4ed4efea0 button.colab-df-convert');\n",
              "        buttonEl.style.display =\n",
              "          google.colab.kernel.accessAllowed ? 'block' : 'none';\n",
              "\n",
              "        async function convertToInteractive(key) {\n",
              "          const element = document.querySelector('#df-851d844a-5af5-4700-9a5b-14c4ed4efea0');\n",
              "          const dataTable =\n",
              "            await google.colab.kernel.invokeFunction('convertToInteractive',\n",
              "                                                     [key], {});\n",
              "          if (!dataTable) return;\n",
              "\n",
              "          const docLinkHtml = 'Like what you see? Visit the ' +\n",
              "            '<a target=\"_blank\" href=https://colab.research.google.com/notebooks/data_table.ipynb>data table notebook</a>'\n",
              "            + ' to learn more about interactive tables.';\n",
              "          element.innerHTML = '';\n",
              "          dataTable['output_type'] = 'display_data';\n",
              "          await google.colab.output.renderOutput(dataTable, element);\n",
              "          const docLink = document.createElement('div');\n",
              "          docLink.innerHTML = docLinkHtml;\n",
              "          element.appendChild(docLink);\n",
              "        }\n",
              "      </script>\n",
              "    </div>\n",
              "  </div>\n",
              "  "
            ]
          },
          "metadata": {},
          "execution_count": 3
        }
      ]
    },
    {
      "cell_type": "code",
      "source": [
        "df.shape"
      ],
      "metadata": {
        "colab": {
          "base_uri": "https://localhost:8080/"
        },
        "id": "Qn5R1T88Vs6I",
        "outputId": "e0dc0ccd-6065-469e-f4c2-f199594f0838"
      },
      "execution_count": null,
      "outputs": [
        {
          "output_type": "execute_result",
          "data": {
            "text/plain": [
              "(117, 28)"
            ]
          },
          "metadata": {},
          "execution_count": 4
        }
      ]
    },
    {
      "cell_type": "code",
      "source": [
        "df.columns"
      ],
      "metadata": {
        "colab": {
          "base_uri": "https://localhost:8080/"
        },
        "id": "APYRyQXOXPkv",
        "outputId": "2cec3733-6790-4ac0-e95f-7b398c2611f5"
      },
      "execution_count": null,
      "outputs": [
        {
          "output_type": "execute_result",
          "data": {
            "text/plain": [
              "Index(['episode_number', 'pitch_number', 'brand_name', 'idea', 'deal',\n",
              "       'pitcher_ask_amount', 'ask_equity', 'ask_valuation', 'deal_amount',\n",
              "       'deal_equity', 'deal_valuation', 'ashneer_present', 'anupam_present',\n",
              "       'aman_present', 'namita_present', 'vineeta_present', 'peyush_present',\n",
              "       'ghazal_present', 'ashneer_deal', 'anupam_deal', 'aman_deal',\n",
              "       'namita_deal', 'vineeta_deal', 'peyush_deal', 'ghazal_deal',\n",
              "       'total_sharks_invested', 'amount_per_shark', 'equity_per_shark'],\n",
              "      dtype='object')"
            ]
          },
          "metadata": {},
          "execution_count": 5
        }
      ]
    },
    {
      "cell_type": "code",
      "source": [
        "df.info()#---------------8 Float...2 Objects and 17 Int"
      ],
      "metadata": {
        "colab": {
          "base_uri": "https://localhost:8080/"
        },
        "id": "QHTx2ktLXW_l",
        "outputId": "10381e3c-0770-4636-f843-8383c9b9a39a"
      },
      "execution_count": null,
      "outputs": [
        {
          "output_type": "stream",
          "name": "stdout",
          "text": [
            "<class 'pandas.core.frame.DataFrame'>\n",
            "RangeIndex: 117 entries, 0 to 116\n",
            "Data columns (total 28 columns):\n",
            " #   Column                 Non-Null Count  Dtype  \n",
            "---  ------                 --------------  -----  \n",
            " 0   episode_number         117 non-null    int64  \n",
            " 1   pitch_number           117 non-null    int64  \n",
            " 2   brand_name             117 non-null    object \n",
            " 3   idea                   117 non-null    object \n",
            " 4   deal                   117 non-null    int64  \n",
            " 5   pitcher_ask_amount     117 non-null    float64\n",
            " 6   ask_equity             117 non-null    float64\n",
            " 7   ask_valuation          117 non-null    float64\n",
            " 8   deal_amount            117 non-null    float64\n",
            " 9   deal_equity            117 non-null    float64\n",
            " 10  deal_valuation         117 non-null    float64\n",
            " 11  ashneer_present        117 non-null    int64  \n",
            " 12  anupam_present         117 non-null    int64  \n",
            " 13  aman_present           117 non-null    int64  \n",
            " 14  namita_present         117 non-null    int64  \n",
            " 15  vineeta_present        117 non-null    int64  \n",
            " 16  peyush_present         117 non-null    int64  \n",
            " 17  ghazal_present         117 non-null    int64  \n",
            " 18  ashneer_deal           117 non-null    int64  \n",
            " 19  anupam_deal            117 non-null    int64  \n",
            " 20  aman_deal              117 non-null    int64  \n",
            " 21  namita_deal            117 non-null    int64  \n",
            " 22  vineeta_deal           117 non-null    int64  \n",
            " 23  peyush_deal            117 non-null    int64  \n",
            " 24  ghazal_deal            117 non-null    int64  \n",
            " 25  total_sharks_invested  117 non-null    int64  \n",
            " 26  amount_per_shark       117 non-null    float64\n",
            " 27  equity_per_shark       117 non-null    float64\n",
            "dtypes: float64(8), int64(18), object(2)\n",
            "memory usage: 25.7+ KB\n"
          ]
        }
      ]
    },
    {
      "cell_type": "code",
      "source": [
        "#df.describe()"
      ],
      "metadata": {
        "id": "uW6UbxgwXtsT"
      },
      "execution_count": null,
      "outputs": []
    },
    {
      "cell_type": "code",
      "source": [
        "df.isnull().sum()#--------------from the output , we can say that the data is simple as it does not have missing values"
      ],
      "metadata": {
        "colab": {
          "base_uri": "https://localhost:8080/"
        },
        "id": "6ahOCNRnYo2j",
        "outputId": "5598bef5-1df6-4d76-d849-efc7a9cc93fc"
      },
      "execution_count": null,
      "outputs": [
        {
          "output_type": "execute_result",
          "data": {
            "text/plain": [
              "episode_number           0\n",
              "pitch_number             0\n",
              "brand_name               0\n",
              "idea                     0\n",
              "deal                     0\n",
              "pitcher_ask_amount       0\n",
              "ask_equity               0\n",
              "ask_valuation            0\n",
              "deal_amount              0\n",
              "deal_equity              0\n",
              "deal_valuation           0\n",
              "ashneer_present          0\n",
              "anupam_present           0\n",
              "aman_present             0\n",
              "namita_present           0\n",
              "vineeta_present          0\n",
              "peyush_present           0\n",
              "ghazal_present           0\n",
              "ashneer_deal             0\n",
              "anupam_deal              0\n",
              "aman_deal                0\n",
              "namita_deal              0\n",
              "vineeta_deal             0\n",
              "peyush_deal              0\n",
              "ghazal_deal              0\n",
              "total_sharks_invested    0\n",
              "amount_per_shark         0\n",
              "equity_per_shark         0\n",
              "dtype: int64"
            ]
          },
          "metadata": {},
          "execution_count": 8
        }
      ]
    },
    {
      "cell_type": "markdown",
      "source": [
        "1- Ashneer Grover:\n",
        "\n",
        "Managing Director and Co-founder of BharatPe\n",
        "\n",
        "\n",
        "2- Aman Gupta:\n",
        "\n",
        "Co-founder and Chief Marketing Officer of boAt\n",
        "\n",
        "3- Anupam Mittal:\n",
        "\n",
        "Founder and CEO of Shaadi.com and People Group\n",
        "\n",
        "\n",
        "4- Ghazal Alagh:\n",
        "\n",
        "Co-founder and Chief Mama of MamaEarth\n",
        "\n",
        "\n",
        "5- Namita Thapar:\n",
        "\n",
        "Executive Director of Emcure Pharmaceuticals\n",
        "\n",
        "\n",
        "6- Peyush Bansal\n",
        "\n",
        "Co-founder and CEO of Lenskart\n",
        "\n",
        "\n",
        "7- Vineeta Singh\n",
        "\n",
        "CEO and co-founder of SUGAR Cosmetics"
      ],
      "metadata": {
        "id": "MaH-bNyQx9jq"
      }
    },
    {
      "cell_type": "markdown",
      "source": [
        "Present : was present during the pitching ; 1 - YES, 0 - NO\n",
        "\n",
        "\n",
        "Deal :  is a part of Final Deal ; 1 - YES, 0 - NO"
      ],
      "metadata": {
        "id": "NYeushYT0nNa"
      }
    },
    {
      "cell_type": "code",
      "source": [
        "df.columns[11:17]#---------------- names of sharks participated"
      ],
      "metadata": {
        "colab": {
          "base_uri": "https://localhost:8080/"
        },
        "id": "ERNp2iAA2lO7",
        "outputId": "5713ff69-68cd-41b5-a9d0-1e090b1e0f8a"
      },
      "execution_count": null,
      "outputs": [
        {
          "output_type": "execute_result",
          "data": {
            "text/plain": [
              "Index(['ashneer_present', 'anupam_present', 'aman_present', 'namita_present',\n",
              "       'vineeta_present', 'peyush_present'],\n",
              "      dtype='object')"
            ]
          },
          "metadata": {},
          "execution_count": 32
        }
      ]
    },
    {
      "cell_type": "code",
      "source": [
        "len(df.columns[11:17])#---------------No of sharks participated"
      ],
      "metadata": {
        "colab": {
          "base_uri": "https://localhost:8080/"
        },
        "id": "rKE-vnkc2k_l",
        "outputId": "d27d48ac-080a-41f1-d8fc-08e28652288c"
      },
      "execution_count": null,
      "outputs": [
        {
          "output_type": "execute_result",
          "data": {
            "text/plain": [
              "6"
            ]
          },
          "metadata": {},
          "execution_count": 33
        }
      ]
    },
    {
      "cell_type": "code",
      "source": [
        "df[\"brand_name\"].nunique()# ----------------- no of entrepreneurs were present"
      ],
      "metadata": {
        "colab": {
          "base_uri": "https://localhost:8080/"
        },
        "id": "ncUoomnV3kiE",
        "outputId": "a44f2eab-86f3-470d-c142-8c0cc405bf4f"
      },
      "execution_count": null,
      "outputs": [
        {
          "output_type": "execute_result",
          "data": {
            "text/plain": [
              "117"
            ]
          },
          "metadata": {},
          "execution_count": 34
        }
      ]
    },
    {
      "cell_type": "code",
      "source": [
        "for i in df.columns[18:25]:\n",
        "    s=df[i].sum()\n",
        "    print(i ,\" deal count : \",s)# -------------------- No of times each investors invest in the deal"
      ],
      "metadata": {
        "colab": {
          "base_uri": "https://localhost:8080/"
        },
        "id": "DDDzOQGZ35LX",
        "outputId": "273651fc-1e49-4c13-a455-539bfa8cb5c4"
      },
      "execution_count": null,
      "outputs": [
        {
          "output_type": "stream",
          "name": "stdout",
          "text": [
            "ashneer_deal  deal count :  21\n",
            "anupam_deal  deal count :  24\n",
            "aman_deal  deal count :  28\n",
            "namita_deal  deal count :  22\n",
            "vineeta_deal  deal count :  15\n",
            "peyush_deal  deal count :  27\n",
            "ghazal_deal  deal count :  7\n"
          ]
        }
      ]
    },
    {
      "cell_type": "code",
      "source": [
        "l=[]\n",
        "for i in df.columns[18:25]:\n",
        "    x=df[df[i]==1]\n",
        "    s=x[\"amount_per_shark\"].sum()\n",
        "    l.append(s)\n",
        "    print(i,\"invested \",s,\"amount\")\n",
        "\n",
        "    \n",
        "#--Amount Invested each shark"
      ],
      "metadata": {
        "colab": {
          "base_uri": "https://localhost:8080/"
        },
        "id": "uRKwVFLs35H5",
        "outputId": "a5509bb2-c186-409a-b8a1-1faa405f6abd"
      },
      "execution_count": null,
      "outputs": [
        {
          "output_type": "stream",
          "name": "stdout",
          "text": [
            "ashneer_deal invested  494.33333333 amount\n",
            "anupam_deal invested  533.83360253 amount\n",
            "aman_deal invested  887.500016693 amount\n",
            "namita_deal invested  648.333602533 amount\n",
            "vineeta_deal invested  328.3333333300001 amount\n",
            "peyush_deal invested  719.6669191630001 amount\n",
            "ghazal_deal invested  130.0002525 amount\n"
          ]
        }
      ]
    },
    {
      "cell_type": "code",
      "source": [
        "l=[]\n",
        "for i in df.columns[18:25]:\n",
        "    x=df[df[i]==1]\n",
        "    s=x[\"equity_per_shark\"].sum()\n",
        "    l.append(s)\n",
        "    print(i,\"gets total \",s,\"equity\")\n",
        "\n",
        "    #----Total equity for each shark"
      ],
      "metadata": {
        "colab": {
          "base_uri": "https://localhost:8080/"
        },
        "id": "wcEsQQuQ35FA",
        "outputId": "12f3e622-8174-4dd6-fe34-14a00ce29cec"
      },
      "execution_count": null,
      "outputs": [
        {
          "output_type": "stream",
          "name": "stdout",
          "text": [
            "ashneer_deal gets total  93.249999999 equity\n",
            "anupam_deal gets total  166.35 equity\n",
            "aman_deal gets total  160.263333334 equity\n",
            "namita_deal gets total  134.78333333400002 equity\n",
            "vineeta_deal gets total  131.533333333 equity\n",
            "peyush_deal gets total  315.84999999999997 equity\n",
            "ghazal_deal gets total  46.7 equity\n"
          ]
        }
      ]
    },
    {
      "cell_type": "code",
      "source": [
        "df1=df[df[\"deal\"]==1]\n",
        "df1[[\"brand_name\",\"idea\"]]#------------Total 65 deals are accepted with there names and ideas"
      ],
      "metadata": {
        "colab": {
          "base_uri": "https://localhost:8080/",
          "height": 424
        },
        "id": "VKiamWq77_28",
        "outputId": "3dc65891-3a6e-4c11-d3ad-022721ff3028"
      },
      "execution_count": null,
      "outputs": [
        {
          "output_type": "execute_result",
          "data": {
            "text/plain": [
              "              brand_name                                           idea\n",
              "0    BluePine Industries                                   Frozen Momos\n",
              "1          Booz scooters  Renting e-bike for mobility in private spaces\n",
              "2    Heart up my Sleeves                             Detachable Sleeves\n",
              "3             Tagz Foods                           Healthy Potato Chips\n",
              "7              Peeschute                           Disposable Urine Bag\n",
              "..                   ...                                            ...\n",
              "106        Colour Me Mad                                        Insoles\n",
              "108           Tweek Labs                                     Sportswear\n",
              "109               Proxgy                                             VR\n",
              "110   Nomad Food Project                                     Bacon Jams\n",
              "114        Jain Shikanji                                       Lemonade\n",
              "\n",
              "[65 rows x 2 columns]"
            ],
            "text/html": [
              "\n",
              "  <div id=\"df-0f2b55a6-4343-484c-aea6-3d3f9808fadc\">\n",
              "    <div class=\"colab-df-container\">\n",
              "      <div>\n",
              "<style scoped>\n",
              "    .dataframe tbody tr th:only-of-type {\n",
              "        vertical-align: middle;\n",
              "    }\n",
              "\n",
              "    .dataframe tbody tr th {\n",
              "        vertical-align: top;\n",
              "    }\n",
              "\n",
              "    .dataframe thead th {\n",
              "        text-align: right;\n",
              "    }\n",
              "</style>\n",
              "<table border=\"1\" class=\"dataframe\">\n",
              "  <thead>\n",
              "    <tr style=\"text-align: right;\">\n",
              "      <th></th>\n",
              "      <th>brand_name</th>\n",
              "      <th>idea</th>\n",
              "    </tr>\n",
              "  </thead>\n",
              "  <tbody>\n",
              "    <tr>\n",
              "      <th>0</th>\n",
              "      <td>BluePine Industries</td>\n",
              "      <td>Frozen Momos</td>\n",
              "    </tr>\n",
              "    <tr>\n",
              "      <th>1</th>\n",
              "      <td>Booz scooters</td>\n",
              "      <td>Renting e-bike for mobility in private spaces</td>\n",
              "    </tr>\n",
              "    <tr>\n",
              "      <th>2</th>\n",
              "      <td>Heart up my Sleeves</td>\n",
              "      <td>Detachable Sleeves</td>\n",
              "    </tr>\n",
              "    <tr>\n",
              "      <th>3</th>\n",
              "      <td>Tagz Foods</td>\n",
              "      <td>Healthy Potato Chips</td>\n",
              "    </tr>\n",
              "    <tr>\n",
              "      <th>7</th>\n",
              "      <td>Peeschute</td>\n",
              "      <td>Disposable Urine Bag</td>\n",
              "    </tr>\n",
              "    <tr>\n",
              "      <th>...</th>\n",
              "      <td>...</td>\n",
              "      <td>...</td>\n",
              "    </tr>\n",
              "    <tr>\n",
              "      <th>106</th>\n",
              "      <td>Colour Me Mad</td>\n",
              "      <td>Insoles</td>\n",
              "    </tr>\n",
              "    <tr>\n",
              "      <th>108</th>\n",
              "      <td>Tweek Labs</td>\n",
              "      <td>Sportswear</td>\n",
              "    </tr>\n",
              "    <tr>\n",
              "      <th>109</th>\n",
              "      <td>Proxgy</td>\n",
              "      <td>VR</td>\n",
              "    </tr>\n",
              "    <tr>\n",
              "      <th>110</th>\n",
              "      <td>Nomad Food Project</td>\n",
              "      <td>Bacon Jams</td>\n",
              "    </tr>\n",
              "    <tr>\n",
              "      <th>114</th>\n",
              "      <td>Jain Shikanji</td>\n",
              "      <td>Lemonade</td>\n",
              "    </tr>\n",
              "  </tbody>\n",
              "</table>\n",
              "<p>65 rows × 2 columns</p>\n",
              "</div>\n",
              "      <button class=\"colab-df-convert\" onclick=\"convertToInteractive('df-0f2b55a6-4343-484c-aea6-3d3f9808fadc')\"\n",
              "              title=\"Convert this dataframe to an interactive table.\"\n",
              "              style=\"display:none;\">\n",
              "        \n",
              "  <svg xmlns=\"http://www.w3.org/2000/svg\" height=\"24px\"viewBox=\"0 0 24 24\"\n",
              "       width=\"24px\">\n",
              "    <path d=\"M0 0h24v24H0V0z\" fill=\"none\"/>\n",
              "    <path d=\"M18.56 5.44l.94 2.06.94-2.06 2.06-.94-2.06-.94-.94-2.06-.94 2.06-2.06.94zm-11 1L8.5 8.5l.94-2.06 2.06-.94-2.06-.94L8.5 2.5l-.94 2.06-2.06.94zm10 10l.94 2.06.94-2.06 2.06-.94-2.06-.94-.94-2.06-.94 2.06-2.06.94z\"/><path d=\"M17.41 7.96l-1.37-1.37c-.4-.4-.92-.59-1.43-.59-.52 0-1.04.2-1.43.59L10.3 9.45l-7.72 7.72c-.78.78-.78 2.05 0 2.83L4 21.41c.39.39.9.59 1.41.59.51 0 1.02-.2 1.41-.59l7.78-7.78 2.81-2.81c.8-.78.8-2.07 0-2.86zM5.41 20L4 18.59l7.72-7.72 1.47 1.35L5.41 20z\"/>\n",
              "  </svg>\n",
              "      </button>\n",
              "      \n",
              "  <style>\n",
              "    .colab-df-container {\n",
              "      display:flex;\n",
              "      flex-wrap:wrap;\n",
              "      gap: 12px;\n",
              "    }\n",
              "\n",
              "    .colab-df-convert {\n",
              "      background-color: #E8F0FE;\n",
              "      border: none;\n",
              "      border-radius: 50%;\n",
              "      cursor: pointer;\n",
              "      display: none;\n",
              "      fill: #1967D2;\n",
              "      height: 32px;\n",
              "      padding: 0 0 0 0;\n",
              "      width: 32px;\n",
              "    }\n",
              "\n",
              "    .colab-df-convert:hover {\n",
              "      background-color: #E2EBFA;\n",
              "      box-shadow: 0px 1px 2px rgba(60, 64, 67, 0.3), 0px 1px 3px 1px rgba(60, 64, 67, 0.15);\n",
              "      fill: #174EA6;\n",
              "    }\n",
              "\n",
              "    [theme=dark] .colab-df-convert {\n",
              "      background-color: #3B4455;\n",
              "      fill: #D2E3FC;\n",
              "    }\n",
              "\n",
              "    [theme=dark] .colab-df-convert:hover {\n",
              "      background-color: #434B5C;\n",
              "      box-shadow: 0px 1px 3px 1px rgba(0, 0, 0, 0.15);\n",
              "      filter: drop-shadow(0px 1px 2px rgba(0, 0, 0, 0.3));\n",
              "      fill: #FFFFFF;\n",
              "    }\n",
              "  </style>\n",
              "\n",
              "      <script>\n",
              "        const buttonEl =\n",
              "          document.querySelector('#df-0f2b55a6-4343-484c-aea6-3d3f9808fadc button.colab-df-convert');\n",
              "        buttonEl.style.display =\n",
              "          google.colab.kernel.accessAllowed ? 'block' : 'none';\n",
              "\n",
              "        async function convertToInteractive(key) {\n",
              "          const element = document.querySelector('#df-0f2b55a6-4343-484c-aea6-3d3f9808fadc');\n",
              "          const dataTable =\n",
              "            await google.colab.kernel.invokeFunction('convertToInteractive',\n",
              "                                                     [key], {});\n",
              "          if (!dataTable) return;\n",
              "\n",
              "          const docLinkHtml = 'Like what you see? Visit the ' +\n",
              "            '<a target=\"_blank\" href=https://colab.research.google.com/notebooks/data_table.ipynb>data table notebook</a>'\n",
              "            + ' to learn more about interactive tables.';\n",
              "          element.innerHTML = '';\n",
              "          dataTable['output_type'] = 'display_data';\n",
              "          await google.colab.output.renderOutput(dataTable, element);\n",
              "          const docLink = document.createElement('div');\n",
              "          docLink.innerHTML = docLinkHtml;\n",
              "          element.appendChild(docLink);\n",
              "        }\n",
              "      </script>\n",
              "    </div>\n",
              "  </div>\n",
              "  "
            ]
          },
          "metadata": {},
          "execution_count": 39
        }
      ]
    },
    {
      "cell_type": "code",
      "source": [],
      "metadata": {
        "id": "luaXjpS67_za"
      },
      "execution_count": null,
      "outputs": []
    },
    {
      "cell_type": "code",
      "source": [
        "df['deal'].value_counts()#----How Many deals done"
      ],
      "metadata": {
        "colab": {
          "base_uri": "https://localhost:8080/"
        },
        "id": "Per_5_lwbjHH",
        "outputId": "1dd0e803-f209-4c97-aef1-2e6fb9bcd5ad"
      },
      "execution_count": null,
      "outputs": [
        {
          "output_type": "execute_result",
          "data": {
            "text/plain": [
              "1    65\n",
              "0    52\n",
              "Name: deal, dtype: int64"
            ]
          },
          "metadata": {},
          "execution_count": 9
        }
      ]
    },
    {
      "cell_type": "code",
      "source": [
        "df['aman_present'].value_counts()#------ How many times aman was present in pitching and so on"
      ],
      "metadata": {
        "colab": {
          "base_uri": "https://localhost:8080/"
        },
        "id": "GVtRDSSzb11q",
        "outputId": "f0b9166e-ebd7-4bb4-de32-837264df0e21"
      },
      "execution_count": null,
      "outputs": [
        {
          "output_type": "execute_result",
          "data": {
            "text/plain": [
              "1    98\n",
              "0    19\n",
              "Name: aman_present, dtype: int64"
            ]
          },
          "metadata": {},
          "execution_count": 10
        }
      ]
    },
    {
      "cell_type": "code",
      "source": [
        "df['anupam_present'].value_counts()"
      ],
      "metadata": {
        "colab": {
          "base_uri": "https://localhost:8080/"
        },
        "id": "teqODPb0cSQv",
        "outputId": "77ad0bec-9e64-443e-91dd-0629bb3d7f84"
      },
      "execution_count": null,
      "outputs": [
        {
          "output_type": "execute_result",
          "data": {
            "text/plain": [
              "1    117\n",
              "Name: anupam_present, dtype: int64"
            ]
          },
          "metadata": {},
          "execution_count": 11
        }
      ]
    },
    {
      "cell_type": "code",
      "source": [
        "df['ashneer_present'].value_counts()"
      ],
      "metadata": {
        "colab": {
          "base_uri": "https://localhost:8080/"
        },
        "id": "YS3oUN59cevs",
        "outputId": "3ad11d25-57ad-4925-9c49-cc10e04c8236"
      },
      "execution_count": null,
      "outputs": [
        {
          "output_type": "execute_result",
          "data": {
            "text/plain": [
              "1    98\n",
              "0    19\n",
              "Name: ashneer_present, dtype: int64"
            ]
          },
          "metadata": {},
          "execution_count": 12
        }
      ]
    },
    {
      "cell_type": "code",
      "source": [
        "df['ghazal_present'].value_counts()"
      ],
      "metadata": {
        "colab": {
          "base_uri": "https://localhost:8080/"
        },
        "id": "cdSx7yN6cvoJ",
        "outputId": "84892ec1-69f3-4987-c138-cd11c70c5b16"
      },
      "execution_count": null,
      "outputs": [
        {
          "output_type": "execute_result",
          "data": {
            "text/plain": [
              "0    91\n",
              "1    26\n",
              "Name: ghazal_present, dtype: int64"
            ]
          },
          "metadata": {},
          "execution_count": 13
        }
      ]
    },
    {
      "cell_type": "code",
      "source": [
        "df['peyush_present'].value_counts()"
      ],
      "metadata": {
        "colab": {
          "base_uri": "https://localhost:8080/"
        },
        "id": "79qYDkyqdESx",
        "outputId": "4857e753-d3a0-467c-a9a6-73520970c49f"
      },
      "execution_count": null,
      "outputs": [
        {
          "output_type": "execute_result",
          "data": {
            "text/plain": [
              "1    88\n",
              "0    29\n",
              "Name: peyush_present, dtype: int64"
            ]
          },
          "metadata": {},
          "execution_count": 14
        }
      ]
    },
    {
      "cell_type": "code",
      "source": [
        "df['namita_present'].value_counts()"
      ],
      "metadata": {
        "colab": {
          "base_uri": "https://localhost:8080/"
        },
        "id": "6ZzXCmcsgp_y",
        "outputId": "5c1c952b-1eba-4016-9331-7f3cd2caf53b"
      },
      "execution_count": null,
      "outputs": [
        {
          "output_type": "execute_result",
          "data": {
            "text/plain": [
              "1    106\n",
              "0     11\n",
              "Name: namita_present, dtype: int64"
            ]
          },
          "metadata": {},
          "execution_count": 15
        }
      ]
    },
    {
      "cell_type": "code",
      "source": [
        "aman_present = len(df[df.aman_present == 1])#---len of present of each shark\n",
        "anupam_present = len(df[df.anupam_present == 1])\n",
        "ashneer_present = len(df[df.ashneer_present == 1])\n",
        "ghazal_present = len(df[df.ghazal_present == 1])\n",
        "namita_present = len(df[df.namita_present == 1])\n",
        "peyush_present = len(df[df.peyush_present == 1])\n",
        "vineeta_present = len(df[df.vineeta_present == 1])"
      ],
      "metadata": {
        "id": "CBxIF8PsiyaV"
      },
      "execution_count": null,
      "outputs": []
    },
    {
      "cell_type": "code",
      "source": [
        "fig = plt.figure(figsize=(10,5))\n",
        "present = [aman_present,anupam_present,ashneer_present,ghazal_present,\n",
        "           namita_present,peyush_present,vineeta_present]\n",
        "          \n",
        "names=['Aman','Anupam','Ashneer','Ghazal','Namita','Peyush','Vineeta']\n",
        "plt.bar(names,present,color='black',width=0.5)\n",
        "plt.xlabel(\"Candidates Names\")\n",
        "plt.ylabel(\"Candidate Presents\")\n",
        "plt.title(\"Present VS Names\")\n",
        "plt.show()"
      ],
      "metadata": {
        "colab": {
          "base_uri": "https://localhost:8080/",
          "height": 350
        },
        "id": "7Sr1tq1Tqg1Y",
        "outputId": "b02e76eb-ce5c-4bdb-d2f8-9596bddf7cd0"
      },
      "execution_count": null,
      "outputs": [
        {
          "output_type": "display_data",
          "data": {
            "text/plain": [
              "<Figure size 720x360 with 1 Axes>"
            ],
            "image/png": "[encoded data removed]"
          },
          "metadata": {
            "needs_background": "light"
          }
        }
      ]
    },
    {
      "cell_type": "code",
      "source": [
        "plt.pie(present,labels=names,radius=2.0,autopct='%0.1f%%')\n",
        "plt.suptitle(\"Percentage of Shanks present\", x=0.55,y=1.15,color='grey')\n",
        "plt.show()"
      ],
      "metadata": {
        "colab": {
          "base_uri": "https://localhost:8080/",
          "height": 407
        },
        "id": "2GcHZ-fusyRj",
        "outputId": "81877a2c-b488-4b39-8cc9-6a3909838205"
      },
      "execution_count": null,
      "outputs": [
        {
          "output_type": "display_data",
          "data": {
            "text/plain": [
              "<Figure size 432x288 with 1 Axes>"
            ],
            "image/png": "[encoded data removed]"
          },
          "metadata": {}
        }
      ]
    },
    {
      "cell_type": "code",
      "source": [
        "df['aman_deal'].value_counts()#----No of deals done by Aman"
      ],
      "metadata": {
        "colab": {
          "base_uri": "https://localhost:8080/"
        },
        "id": "JryQ7jv2tdNM",
        "outputId": "62a6fe97-7cf7-4754-e8b7-265aa34efaf5"
      },
      "execution_count": null,
      "outputs": [
        {
          "output_type": "execute_result",
          "data": {
            "text/plain": [
              "0    89\n",
              "1    28\n",
              "Name: aman_deal, dtype: int64"
            ]
          },
          "metadata": {},
          "execution_count": 19
        }
      ]
    },
    {
      "cell_type": "code",
      "source": [
        "df['anupam_deal'].value_counts()"
      ],
      "metadata": {
        "colab": {
          "base_uri": "https://localhost:8080/"
        },
        "id": "vKvTXpSMtr-m",
        "outputId": "99bb3891-4670-49b8-f583-e445c31137d1"
      },
      "execution_count": null,
      "outputs": [
        {
          "output_type": "execute_result",
          "data": {
            "text/plain": [
              "0    93\n",
              "1    24\n",
              "Name: anupam_deal, dtype: int64"
            ]
          },
          "metadata": {},
          "execution_count": 20
        }
      ]
    },
    {
      "cell_type": "code",
      "source": [
        "df['ashneer_deal'].value_counts()"
      ],
      "metadata": {
        "colab": {
          "base_uri": "https://localhost:8080/"
        },
        "id": "pciwqF6Et7Uv",
        "outputId": "a1dda401-c446-4a71-fba3-ce2be79518e8"
      },
      "execution_count": null,
      "outputs": [
        {
          "output_type": "execute_result",
          "data": {
            "text/plain": [
              "0    96\n",
              "1    21\n",
              "Name: ashneer_deal, dtype: int64"
            ]
          },
          "metadata": {},
          "execution_count": 21
        }
      ]
    },
    {
      "cell_type": "code",
      "source": [
        "df['ghazal_deal'].value_counts()"
      ],
      "metadata": {
        "colab": {
          "base_uri": "https://localhost:8080/"
        },
        "id": "2w_cQjA6uHMv",
        "outputId": "302fda5f-5c23-4b39-9d3e-734ffe16903e"
      },
      "execution_count": null,
      "outputs": [
        {
          "output_type": "execute_result",
          "data": {
            "text/plain": [
              "0    110\n",
              "1      7\n",
              "Name: ghazal_deal, dtype: int64"
            ]
          },
          "metadata": {},
          "execution_count": 22
        }
      ]
    },
    {
      "cell_type": "code",
      "source": [
        "df['namita_deal'].value_counts()"
      ],
      "metadata": {
        "colab": {
          "base_uri": "https://localhost:8080/"
        },
        "id": "09Vy8IBnuKj0",
        "outputId": "e65da323-12e1-4551-def0-982084c8b40b"
      },
      "execution_count": null,
      "outputs": [
        {
          "output_type": "execute_result",
          "data": {
            "text/plain": [
              "0    95\n",
              "1    22\n",
              "Name: namita_deal, dtype: int64"
            ]
          },
          "metadata": {},
          "execution_count": 23
        }
      ]
    },
    {
      "cell_type": "code",
      "source": [
        "df['peyush_deal'].value_counts()"
      ],
      "metadata": {
        "colab": {
          "base_uri": "https://localhost:8080/"
        },
        "id": "JEway299uOvZ",
        "outputId": "bb442421-a9dd-4798-c8ef-389bde4327c5"
      },
      "execution_count": null,
      "outputs": [
        {
          "output_type": "execute_result",
          "data": {
            "text/plain": [
              "0    90\n",
              "1    27\n",
              "Name: peyush_deal, dtype: int64"
            ]
          },
          "metadata": {},
          "execution_count": 24
        }
      ]
    },
    {
      "cell_type": "code",
      "source": [
        "df['vineeta_deal'].value_counts()"
      ],
      "metadata": {
        "colab": {
          "base_uri": "https://localhost:8080/"
        },
        "id": "a5u0zJZauSnH",
        "outputId": "0325321a-b9a4-4fbe-88c4-f74143480834"
      },
      "execution_count": null,
      "outputs": [
        {
          "output_type": "execute_result",
          "data": {
            "text/plain": [
              "0    102\n",
              "1     15\n",
              "Name: vineeta_deal, dtype: int64"
            ]
          },
          "metadata": {},
          "execution_count": 25
        }
      ]
    },
    {
      "cell_type": "code",
      "source": [
        "aman_deal = len(df[df.aman_deal == 1])# ---Len of aman's deal\n",
        "anupam_deal = len(df[df.anupam_deal == 1])\n",
        "ashneer_deal = len(df[df.ashneer_deal == 1])\n",
        "ghazal_deal = len(df[df.ghazal_deal == 1])\n",
        "namita_deal = len(df[df.namita_deal == 1])\n",
        "peyush_deal = len(df[df.peyush_deal == 1])\n",
        "vineeta_deal = len(df[df.vineeta_deal == 1])"
      ],
      "metadata": {
        "id": "USxvsyBXuWu1"
      },
      "execution_count": null,
      "outputs": []
    },
    {
      "cell_type": "code",
      "source": [
        "fig = plt.figure(figsize=(10,5))\n",
        "Deal = [aman_deal,anupam_deal,ashneer_deal,ghazal_deal,\n",
        "           namita_deal,peyush_deal,vineeta_deal]\n",
        "          \n",
        "names=['Aman','Anupam','Ashneer','Ghazal','Namita','Peyush','Vineeta']\n",
        "plt.bar(names,Deal,color='grey',width=0.5)\n",
        "plt.xlabel(\"Candidates Names\")\n",
        "plt.ylabel(\"Candidate Dels\")\n",
        "plt.title(\"Deals VS Names\")\n",
        "plt.show()"
      ],
      "metadata": {
        "colab": {
          "base_uri": "https://localhost:8080/",
          "height": 350
        },
        "id": "LmEbgfY1u6U2",
        "outputId": "6fdc3a77-cf53-4cdd-f85d-726ea59023a9"
      },
      "execution_count": null,
      "outputs": [
        {
          "output_type": "display_data",
          "data": {
            "text/plain": [
              "<Figure size 720x360 with 1 Axes>"
            ],
            "image/png": "[encoded data removed]"
          },
          "metadata": {
            "needs_background": "light"
          }
        }
      ]
    },
    {
      "cell_type": "code",
      "source": [
        "plt.pie(Deal,labels=names,radius=2.0,autopct='%0.1f%%')\n",
        "plt.suptitle(\"Percentage of Sharks Deals done\", x=0.55,y=1.15,color='grey')\n",
        "plt.show()"
      ],
      "metadata": {
        "colab": {
          "base_uri": "https://localhost:8080/",
          "height": 411
        },
        "id": "5u6nkxU_vVux",
        "outputId": "82c22262-2dfd-435d-e574-387897b72c8a"
      },
      "execution_count": null,
      "outputs": [
        {
          "output_type": "display_data",
          "data": {
            "text/plain": [
              "<Figure size 432x288 with 1 Axes>"
            ],
            "image/png": "[encoded data removed]"
          },
          "metadata": {}
        }
      ]
    },
    {
      "cell_type": "code",
      "source": [
        "aman_present = (aman_deal/aman_present)*100\n",
        "anupam_present = (anupam_deal/anupam_present)*100\n",
        "ashneer_present = (ashneer_deal/ashneer_present)*100\n",
        "ghazal_present = (ghazal_deal/ghazal_present)*100\n",
        "namita_present = (namita_deal/namita_present)*100\n",
        "peyush_present = (peyush_deal/peyush_present)*100\n",
        "vineeta_present = (vineeta_deal/vineeta_present)*100"
      ],
      "metadata": {
        "id": "z73EUL6pxJxw"
      },
      "execution_count": null,
      "outputs": []
    },
    {
      "cell_type": "code",
      "source": [
        "fig = plt.figure(figsize=(10,5))\n",
        "Percentage = [aman_present,anupam_present,ashneer_present,ghazal_present,\n",
        "           namita_present,peyush_present,vineeta_present]\n",
        "          \n",
        "Names=['Aman','Anupam','Ashneer','Ghazal','Namita','Peyush','Vineeta']\n",
        "plt.bar(Names,Percentage,color='blue',width=0.5)\n",
        "plt.xlabel(\"Sharks Names\")\n",
        "plt.ylabel(\"Candidate Presents\")\n",
        "plt.title(\"Present VS Names\")\n",
        "plt.show()"
      ],
      "metadata": {
        "colab": {
          "base_uri": "https://localhost:8080/",
          "height": 350
        },
        "id": "U_SVVVnv107-",
        "outputId": "74e04bcd-0f80-44f0-b88a-906ef7a9030c"
      },
      "execution_count": null,
      "outputs": [
        {
          "output_type": "display_data",
          "data": {
            "text/plain": [
              "<Figure size 720x360 with 1 Axes>"
            ],
            "image/png": "[encoded data removed]"
          },
          "metadata": {
            "needs_background": "light"
          }
        }
      ]
    },
    {
      "cell_type": "code",
      "source": [
        "plt.pie(Percentage,labels=names,radius=2.0,autopct='%0.1f%%')\n",
        "plt.show()"
      ],
      "metadata": {
        "colab": {
          "base_uri": "https://localhost:8080/",
          "height": 418
        },
        "id": "kJO00epf2KHZ",
        "outputId": "42ffe7fe-19c7-45d7-9df4-9917d3028912"
      },
      "execution_count": null,
      "outputs": [
        {
          "output_type": "display_data",
          "data": {
            "text/plain": [
              "<Figure size 432x288 with 1 Axes>"
            ],
            "image/png": "[encoded data removed]"
          },
          "metadata": {}
        }
      ]
    },
    {
      "cell_type": "code",
      "source": [],
      "metadata": {
        "id": "VQ_mHUVm2Zoc"
      },
      "execution_count": null,
      "outputs": []
    },
    {
      "cell_type": "markdown",
      "source": [
        "Creating a new dataset of successfull deals"
      ],
      "metadata": {
        "id": "W1eJ418n_MXQ"
      }
    },
    {
      "cell_type": "code",
      "source": [
        "df1=df[df[\"deal\"]==1]\n",
        "df1"
      ],
      "metadata": {
        "colab": {
          "base_uri": "https://localhost:8080/",
          "height": 713
        },
        "id": "OrwveGAY_TXU",
        "outputId": "8fa8fe90-0900-4bb6-cbc9-5d58f168dc50"
      },
      "execution_count": null,
      "outputs": [
        {
          "output_type": "execute_result",
          "data": {
            "text/plain": [
              "     episode_number  pitch_number           brand_name  \\\n",
              "0                 1             1  BluePine Industries   \n",
              "1                 1             2        Booz scooters   \n",
              "2                 1             3  Heart up my Sleeves   \n",
              "3                 2             4           Tagz Foods   \n",
              "7                 3             8            Peeschute   \n",
              "..              ...           ...                  ...   \n",
              "106              33           107        Colour Me Mad   \n",
              "108              33           109           Tweek Labs   \n",
              "109              33           110               Proxgy   \n",
              "110              34           111   Nomad Food Project   \n",
              "114              35           115        Jain Shikanji   \n",
              "\n",
              "                                              idea  deal  pitcher_ask_amount  \\\n",
              "0                                     Frozen Momos     1                50.0   \n",
              "1    Renting e-bike for mobility in private spaces     1                40.0   \n",
              "2                               Detachable Sleeves     1                25.0   \n",
              "3                             Healthy Potato Chips     1                70.0   \n",
              "7                             Disposable Urine Bag     1                75.0   \n",
              "..                                             ...   ...                 ...   \n",
              "106                                        Insoles     1                40.0   \n",
              "108                                     Sportswear     1                40.0   \n",
              "109                                             VR     1                35.0   \n",
              "110                                     Bacon Jams     1                40.0   \n",
              "114                                       Lemonade     1                40.0   \n",
              "\n",
              "     ask_equity  ask_valuation  deal_amount  deal_equity  ...  ashneer_deal  \\\n",
              "0           5.0        1000.00         75.0        16.00  ...             1   \n",
              "1          15.0         266.67         40.0        50.00  ...             1   \n",
              "2          10.0         250.00         25.0        30.00  ...             0   \n",
              "3           1.0        7000.00         70.0         2.75  ...             1   \n",
              "7           4.0        1875.00         75.0         6.00  ...             0   \n",
              "..          ...            ...          ...          ...  ...           ...   \n",
              "106        10.0         400.00         40.0        25.00  ...             0   \n",
              "108         2.0        2000.00         60.0        10.00  ...             1   \n",
              "109         1.0        3500.00         10.0        10.00  ...             1   \n",
              "110        10.0         400.00         40.0        20.00  ...             1   \n",
              "114         8.0         500.00         40.0        30.00  ...             1   \n",
              "\n",
              "     anupam_deal  aman_deal  namita_deal  vineeta_deal  peyush_deal  \\\n",
              "0              0          1            0             1            0   \n",
              "1              0          0            0             1            0   \n",
              "2              1          0            0             1            0   \n",
              "3              0          0            0             0            0   \n",
              "7              0          1            0             0            0   \n",
              "..           ...        ...          ...           ...          ...   \n",
              "106            0          0            1             0            0   \n",
              "108            1          0            0             0            1   \n",
              "109            0          0            0             0            1   \n",
              "110            0          0            1             1            0   \n",
              "114            1          1            0             1            0   \n",
              "\n",
              "     ghazal_deal  total_sharks_invested  amount_per_shark  equity_per_shark  \n",
              "0              0                      3              25.0          5.333333  \n",
              "1              0                      2              20.0         25.000000  \n",
              "2              0                      2              12.5         15.000000  \n",
              "3              0                      1              70.0          2.750000  \n",
              "7              0                      1              75.0          6.000000  \n",
              "..           ...                    ...               ...               ...  \n",
              "106            0                      1              40.0         25.000000  \n",
              "108            0                      3              20.0          3.333333  \n",
              "109            0                      2               5.0          5.000000  \n",
              "110            1                      4              10.0          5.000000  \n",
              "114            0                      4              10.0          7.500000  \n",
              "\n",
              "[65 rows x 28 columns]"
            ],
            "text/html": [
              "\n",
              "  <div id=\"df-8ba64648-4e98-4036-be99-d4cff6efe8ef\">\n",
              "    <div class=\"colab-df-container\">\n",
              "      <div>\n",
              "<style scoped>\n",
              "    .dataframe tbody tr th:only-of-type {\n",
              "        vertical-align: middle;\n",
              "    }\n",
              "\n",
              "    .dataframe tbody tr th {\n",
              "        vertical-align: top;\n",
              "    }\n",
              "\n",
              "    .dataframe thead th {\n",
              "        text-align: right;\n",
              "    }\n",
              "</style>\n",
              "<table border=\"1\" class=\"dataframe\">\n",
              "  <thead>\n",
              "    <tr style=\"text-align: right;\">\n",
              "      <th></th>\n",
              "      <th>episode_number</th>\n",
              "      <th>pitch_number</th>\n",
              "      <th>brand_name</th>\n",
              "      <th>idea</th>\n",
              "      <th>deal</th>\n",
              "      <th>pitcher_ask_amount</th>\n",
              "      <th>ask_equity</th>\n",
              "      <th>ask_valuation</th>\n",
              "      <th>deal_amount</th>\n",
              "      <th>deal_equity</th>\n",
              "      <th>...</th>\n",
              "      <th>ashneer_deal</th>\n",
              "      <th>anupam_deal</th>\n",
              "      <th>aman_deal</th>\n",
              "      <th>namita_deal</th>\n",
              "      <th>vineeta_deal</th>\n",
              "      <th>peyush_deal</th>\n",
              "      <th>ghazal_deal</th>\n",
              "      <th>total_sharks_invested</th>\n",
              "      <th>amount_per_shark</th>\n",
              "      <th>equity_per_shark</th>\n",
              "    </tr>\n",
              "  </thead>\n",
              "  <tbody>\n",
              "    <tr>\n",
              "      <th>0</th>\n",
              "      <td>1</td>\n",
              "      <td>1</td>\n",
              "      <td>BluePine Industries</td>\n",
              "      <td>Frozen Momos</td>\n",
              "      <td>1</td>\n",
              "      <td>50.0</td>\n",
              "      <td>5.0</td>\n",
              "      <td>1000.00</td>\n",
              "      <td>75.0</td>\n",
              "      <td>16.00</td>\n",
              "      <td>...</td>\n",
              "      <td>1</td>\n",
              "      <td>0</td>\n",
              "      <td>1</td>\n",
              "      <td>0</td>\n",
              "      <td>1</td>\n",
              "      <td>0</td>\n",
              "      <td>0</td>\n",
              "      <td>3</td>\n",
              "      <td>25.0</td>\n",
              "      <td>5.333333</td>\n",
              "    </tr>\n",
              "    <tr>\n",
              "      <th>1</th>\n",
              "      <td>1</td>\n",
              "      <td>2</td>\n",
              "      <td>Booz scooters</td>\n",
              "      <td>Renting e-bike for mobility in private spaces</td>\n",
              "      <td>1</td>\n",
              "      <td>40.0</td>\n",
              "      <td>15.0</td>\n",
              "      <td>266.67</td>\n",
              "      <td>40.0</td>\n",
              "      <td>50.00</td>\n",
              "      <td>...</td>\n",
              "      <td>1</td>\n",
              "      <td>0</td>\n",
              "      <td>0</td>\n",
              "      <td>0</td>\n",
              "      <td>1</td>\n",
              "      <td>0</td>\n",
              "      <td>0</td>\n",
              "      <td>2</td>\n",
              "      <td>20.0</td>\n",
              "      <td>25.000000</td>\n",
              "    </tr>\n",
              "    <tr>\n",
              "      <th>2</th>\n",
              "      <td>1</td>\n",
              "      <td>3</td>\n",
              "      <td>Heart up my Sleeves</td>\n",
              "      <td>Detachable Sleeves</td>\n",
              "      <td>1</td>\n",
              "      <td>25.0</td>\n",
              "      <td>10.0</td>\n",
              "      <td>250.00</td>\n",
              "      <td>25.0</td>\n",
              "      <td>30.00</td>\n",
              "      <td>...</td>\n",
              "      <td>0</td>\n",
              "      <td>1</td>\n",
              "      <td>0</td>\n",
              "      <td>0</td>\n",
              "      <td>1</td>\n",
              "      <td>0</td>\n",
              "      <td>0</td>\n",
              "      <td>2</td>\n",
              "      <td>12.5</td>\n",
              "      <td>15.000000</td>\n",
              "    </tr>\n",
              "    <tr>\n",
              "      <th>3</th>\n",
              "      <td>2</td>\n",
              "      <td>4</td>\n",
              "      <td>Tagz Foods</td>\n",
              "      <td>Healthy Potato Chips</td>\n",
              "      <td>1</td>\n",
              "      <td>70.0</td>\n",
              "      <td>1.0</td>\n",
              "      <td>7000.00</td>\n",
              "      <td>70.0</td>\n",
              "      <td>2.75</td>\n",
              "      <td>...</td>\n",
              "      <td>1</td>\n",
              "      <td>0</td>\n",
              "      <td>0</td>\n",
              "      <td>0</td>\n",
              "      <td>0</td>\n",
              "      <td>0</td>\n",
              "      <td>0</td>\n",
              "      <td>1</td>\n",
              "      <td>70.0</td>\n",
              "      <td>2.750000</td>\n",
              "    </tr>\n",
              "    <tr>\n",
              "      <th>7</th>\n",
              "      <td>3</td>\n",
              "      <td>8</td>\n",
              "      <td>Peeschute</td>\n",
              "      <td>Disposable Urine Bag</td>\n",
              "      <td>1</td>\n",
              "      <td>75.0</td>\n",
              "      <td>4.0</td>\n",
              "      <td>1875.00</td>\n",
              "      <td>75.0</td>\n",
              "      <td>6.00</td>\n",
              "      <td>...</td>\n",
              "      <td>0</td>\n",
              "      <td>0</td>\n",
              "      <td>1</td>\n",
              "      <td>0</td>\n",
              "      <td>0</td>\n",
              "      <td>0</td>\n",
              "      <td>0</td>\n",
              "      <td>1</td>\n",
              "      <td>75.0</td>\n",
              "      <td>6.000000</td>\n",
              "    </tr>\n",
              "    <tr>\n",
              "      <th>...</th>\n",
              "      <td>...</td>\n",
              "      <td>...</td>\n",
              "      <td>...</td>\n",
              "      <td>...</td>\n",
              "      <td>...</td>\n",
              "      <td>...</td>\n",
              "      <td>...</td>\n",
              "      <td>...</td>\n",
              "      <td>...</td>\n",
              "      <td>...</td>\n",
              "      <td>...</td>\n",
              "      <td>...</td>\n",
              "      <td>...</td>\n",
              "      <td>...</td>\n",
              "      <td>...</td>\n",
              "      <td>...</td>\n",
              "      <td>...</td>\n",
              "      <td>...</td>\n",
              "      <td>...</td>\n",
              "      <td>...</td>\n",
              "      <td>...</td>\n",
              "    </tr>\n",
              "    <tr>\n",
              "      <th>106</th>\n",
              "      <td>33</td>\n",
              "      <td>107</td>\n",
              "      <td>Colour Me Mad</td>\n",
              "      <td>Insoles</td>\n",
              "      <td>1</td>\n",
              "      <td>40.0</td>\n",
              "      <td>10.0</td>\n",
              "      <td>400.00</td>\n",
              "      <td>40.0</td>\n",
              "      <td>25.00</td>\n",
              "      <td>...</td>\n",
              "      <td>0</td>\n",
              "      <td>0</td>\n",
              "      <td>0</td>\n",
              "      <td>1</td>\n",
              "      <td>0</td>\n",
              "      <td>0</td>\n",
              "      <td>0</td>\n",
              "      <td>1</td>\n",
              "      <td>40.0</td>\n",
              "      <td>25.000000</td>\n",
              "    </tr>\n",
              "    <tr>\n",
              "      <th>108</th>\n",
              "      <td>33</td>\n",
              "      <td>109</td>\n",
              "      <td>Tweek Labs</td>\n",
              "      <td>Sportswear</td>\n",
              "      <td>1</td>\n",
              "      <td>40.0</td>\n",
              "      <td>2.0</td>\n",
              "      <td>2000.00</td>\n",
              "      <td>60.0</td>\n",
              "      <td>10.00</td>\n",
              "      <td>...</td>\n",
              "      <td>1</td>\n",
              "      <td>1</td>\n",
              "      <td>0</td>\n",
              "      <td>0</td>\n",
              "      <td>0</td>\n",
              "      <td>1</td>\n",
              "      <td>0</td>\n",
              "      <td>3</td>\n",
              "      <td>20.0</td>\n",
              "      <td>3.333333</td>\n",
              "    </tr>\n",
              "    <tr>\n",
              "      <th>109</th>\n",
              "      <td>33</td>\n",
              "      <td>110</td>\n",
              "      <td>Proxgy</td>\n",
              "      <td>VR</td>\n",
              "      <td>1</td>\n",
              "      <td>35.0</td>\n",
              "      <td>1.0</td>\n",
              "      <td>3500.00</td>\n",
              "      <td>10.0</td>\n",
              "      <td>10.00</td>\n",
              "      <td>...</td>\n",
              "      <td>1</td>\n",
              "      <td>0</td>\n",
              "      <td>0</td>\n",
              "      <td>0</td>\n",
              "      <td>0</td>\n",
              "      <td>1</td>\n",
              "      <td>0</td>\n",
              "      <td>2</td>\n",
              "      <td>5.0</td>\n",
              "      <td>5.000000</td>\n",
              "    </tr>\n",
              "    <tr>\n",
              "      <th>110</th>\n",
              "      <td>34</td>\n",
              "      <td>111</td>\n",
              "      <td>Nomad Food Project</td>\n",
              "      <td>Bacon Jams</td>\n",
              "      <td>1</td>\n",
              "      <td>40.0</td>\n",
              "      <td>10.0</td>\n",
              "      <td>400.00</td>\n",
              "      <td>40.0</td>\n",
              "      <td>20.00</td>\n",
              "      <td>...</td>\n",
              "      <td>1</td>\n",
              "      <td>0</td>\n",
              "      <td>0</td>\n",
              "      <td>1</td>\n",
              "      <td>1</td>\n",
              "      <td>0</td>\n",
              "      <td>1</td>\n",
              "      <td>4</td>\n",
              "      <td>10.0</td>\n",
              "      <td>5.000000</td>\n",
              "    </tr>\n",
              "    <tr>\n",
              "      <th>114</th>\n",
              "      <td>35</td>\n",
              "      <td>115</td>\n",
              "      <td>Jain Shikanji</td>\n",
              "      <td>Lemonade</td>\n",
              "      <td>1</td>\n",
              "      <td>40.0</td>\n",
              "      <td>8.0</td>\n",
              "      <td>500.00</td>\n",
              "      <td>40.0</td>\n",
              "      <td>30.00</td>\n",
              "      <td>...</td>\n",
              "      <td>1</td>\n",
              "      <td>1</td>\n",
              "      <td>1</td>\n",
              "      <td>0</td>\n",
              "      <td>1</td>\n",
              "      <td>0</td>\n",
              "      <td>0</td>\n",
              "      <td>4</td>\n",
              "      <td>10.0</td>\n",
              "      <td>7.500000</td>\n",
              "    </tr>\n",
              "  </tbody>\n",
              "</table>\n",
              "<p>65 rows × 28 columns</p>\n",
              "</div>\n",
              "      <button class=\"colab-df-convert\" onclick=\"convertToInteractive('df-8ba64648-4e98-4036-be99-d4cff6efe8ef')\"\n",
              "              title=\"Convert this dataframe to an interactive table.\"\n",
              "              style=\"display:none;\">\n",
              "        \n",
              "  <svg xmlns=\"http://www.w3.org/2000/svg\" height=\"24px\"viewBox=\"0 0 24 24\"\n",
              "       width=\"24px\">\n",
              "    <path d=\"M0 0h24v24H0V0z\" fill=\"none\"/>\n",
              "    <path d=\"M18.56 5.44l.94 2.06.94-2.06 2.06-.94-2.06-.94-.94-2.06-.94 2.06-2.06.94zm-11 1L8.5 8.5l.94-2.06 2.06-.94-2.06-.94L8.5 2.5l-.94 2.06-2.06.94zm10 10l.94 2.06.94-2.06 2.06-.94-2.06-.94-.94-2.06-.94 2.06-2.06.94z\"/><path d=\"M17.41 7.96l-1.37-1.37c-.4-.4-.92-.59-1.43-.59-.52 0-1.04.2-1.43.59L10.3 9.45l-7.72 7.72c-.78.78-.78 2.05 0 2.83L4 21.41c.39.39.9.59 1.41.59.51 0 1.02-.2 1.41-.59l7.78-7.78 2.81-2.81c.8-.78.8-2.07 0-2.86zM5.41 20L4 18.59l7.72-7.72 1.47 1.35L5.41 20z\"/>\n",
              "  </svg>\n",
              "      </button>\n",
              "      \n",
              "  <style>\n",
              "    .colab-df-container {\n",
              "      display:flex;\n",
              "      flex-wrap:wrap;\n",
              "      gap: 12px;\n",
              "    }\n",
              "\n",
              "    .colab-df-convert {\n",
              "      background-color: #E8F0FE;\n",
              "      border: none;\n",
              "      border-radius: 50%;\n",
              "      cursor: pointer;\n",
              "      display: none;\n",
              "      fill: #1967D2;\n",
              "      height: 32px;\n",
              "      padding: 0 0 0 0;\n",
              "      width: 32px;\n",
              "    }\n",
              "\n",
              "    .colab-df-convert:hover {\n",
              "      background-color: #E2EBFA;\n",
              "      box-shadow: 0px 1px 2px rgba(60, 64, 67, 0.3), 0px 1px 3px 1px rgba(60, 64, 67, 0.15);\n",
              "      fill: #174EA6;\n",
              "    }\n",
              "\n",
              "    [theme=dark] .colab-df-convert {\n",
              "      background-color: #3B4455;\n",
              "      fill: #D2E3FC;\n",
              "    }\n",
              "\n",
              "    [theme=dark] .colab-df-convert:hover {\n",
              "      background-color: #434B5C;\n",
              "      box-shadow: 0px 1px 3px 1px rgba(0, 0, 0, 0.15);\n",
              "      filter: drop-shadow(0px 1px 2px rgba(0, 0, 0, 0.3));\n",
              "      fill: #FFFFFF;\n",
              "    }\n",
              "  </style>\n",
              "\n",
              "      <script>\n",
              "        const buttonEl =\n",
              "          document.querySelector('#df-8ba64648-4e98-4036-be99-d4cff6efe8ef button.colab-df-convert');\n",
              "        buttonEl.style.display =\n",
              "          google.colab.kernel.accessAllowed ? 'block' : 'none';\n",
              "\n",
              "        async function convertToInteractive(key) {\n",
              "          const element = document.querySelector('#df-8ba64648-4e98-4036-be99-d4cff6efe8ef');\n",
              "          const dataTable =\n",
              "            await google.colab.kernel.invokeFunction('convertToInteractive',\n",
              "                                                     [key], {});\n",
              "          if (!dataTable) return;\n",
              "\n",
              "          const docLinkHtml = 'Like what you see? Visit the ' +\n",
              "            '<a target=\"_blank\" href=https://colab.research.google.com/notebooks/data_table.ipynb>data table notebook</a>'\n",
              "            + ' to learn more about interactive tables.';\n",
              "          element.innerHTML = '';\n",
              "          dataTable['output_type'] = 'display_data';\n",
              "          await google.colab.output.renderOutput(dataTable, element);\n",
              "          const docLink = document.createElement('div');\n",
              "          docLink.innerHTML = docLinkHtml;\n",
              "          element.appendChild(docLink);\n",
              "        }\n",
              "      </script>\n",
              "    </div>\n",
              "  </div>\n",
              "  "
            ]
          },
          "metadata": {},
          "execution_count": 41
        }
      ]
    },
    {
      "cell_type": "code",
      "source": [
        "#----Highest amount of deal\n",
        "\n",
        "\n",
        "print(\"maximum deal amount\",x[x[\"deal_amount\"]==x[\"deal_amount\"].max()][\"deal_amount\"])"
      ],
      "metadata": {
        "colab": {
          "base_uri": "https://localhost:8080/"
        },
        "id": "WnGwZLhE_Vwc",
        "outputId": "434f9541-3821-4a1a-f439-c085260d1671"
      },
      "execution_count": null,
      "outputs": [
        {
          "output_type": "stream",
          "name": "stdout",
          "text": [
            "maximum deal amount 79    100.0\n",
            "88    100.0\n",
            "Name: deal_amount, dtype: float64\n"
          ]
        }
      ]
    },
    {
      "cell_type": "code",
      "source": [
        "df1[df1[\"deal_amount\"]==df1[\"deal_amount\"].max()]#----------all details of highest deal"
      ],
      "metadata": {
        "colab": {
          "base_uri": "https://localhost:8080/",
          "height": 191
        },
        "id": "H762yvBs_fZn",
        "outputId": "5c8f4a37-d6e9-48f1-8c97-4b9b76e45ae4"
      },
      "execution_count": null,
      "outputs": [
        {
          "output_type": "execute_result",
          "data": {
            "text/plain": [
              "    episode_number  pitch_number     brand_name        idea  deal  \\\n",
              "50              17            51  Aas Vidyalaya  EdTech App     1   \n",
              "\n",
              "    pitcher_ask_amount  ask_equity  ask_valuation  deal_amount  deal_equity  \\\n",
              "50               150.0         3.0         5000.0        150.0         15.0   \n",
              "\n",
              "    ...  ashneer_deal  anupam_deal  aman_deal  namita_deal  vineeta_deal  \\\n",
              "50  ...             1            0          0            1             0   \n",
              "\n",
              "    peyush_deal  ghazal_deal  total_sharks_invested  amount_per_shark  \\\n",
              "50            1            0                      3              50.0   \n",
              "\n",
              "    equity_per_shark  \n",
              "50               5.0  \n",
              "\n",
              "[1 rows x 28 columns]"
            ],
            "text/html": [
              "\n",
              "  <div id=\"df-b163f6f7-1de8-4c02-a09f-85edb68bb410\">\n",
              "    <div class=\"colab-df-container\">\n",
              "      <div>\n",
              "<style scoped>\n",
              "    .dataframe tbody tr th:only-of-type {\n",
              "        vertical-align: middle;\n",
              "    }\n",
              "\n",
              "    .dataframe tbody tr th {\n",
              "        vertical-align: top;\n",
              "    }\n",
              "\n",
              "    .dataframe thead th {\n",
              "        text-align: right;\n",
              "    }\n",
              "</style>\n",
              "<table border=\"1\" class=\"dataframe\">\n",
              "  <thead>\n",
              "    <tr style=\"text-align: right;\">\n",
              "      <th></th>\n",
              "      <th>episode_number</th>\n",
              "      <th>pitch_number</th>\n",
              "      <th>brand_name</th>\n",
              "      <th>idea</th>\n",
              "      <th>deal</th>\n",
              "      <th>pitcher_ask_amount</th>\n",
              "      <th>ask_equity</th>\n",
              "      <th>ask_valuation</th>\n",
              "      <th>deal_amount</th>\n",
              "      <th>deal_equity</th>\n",
              "      <th>...</th>\n",
              "      <th>ashneer_deal</th>\n",
              "      <th>anupam_deal</th>\n",
              "      <th>aman_deal</th>\n",
              "      <th>namita_deal</th>\n",
              "      <th>vineeta_deal</th>\n",
              "      <th>peyush_deal</th>\n",
              "      <th>ghazal_deal</th>\n",
              "      <th>total_sharks_invested</th>\n",
              "      <th>amount_per_shark</th>\n",
              "      <th>equity_per_shark</th>\n",
              "    </tr>\n",
              "  </thead>\n",
              "  <tbody>\n",
              "    <tr>\n",
              "      <th>50</th>\n",
              "      <td>17</td>\n",
              "      <td>51</td>\n",
              "      <td>Aas Vidyalaya</td>\n",
              "      <td>EdTech App</td>\n",
              "      <td>1</td>\n",
              "      <td>150.0</td>\n",
              "      <td>3.0</td>\n",
              "      <td>5000.0</td>\n",
              "      <td>150.0</td>\n",
              "      <td>15.0</td>\n",
              "      <td>...</td>\n",
              "      <td>1</td>\n",
              "      <td>0</td>\n",
              "      <td>0</td>\n",
              "      <td>1</td>\n",
              "      <td>0</td>\n",
              "      <td>1</td>\n",
              "      <td>0</td>\n",
              "      <td>3</td>\n",
              "      <td>50.0</td>\n",
              "      <td>5.0</td>\n",
              "    </tr>\n",
              "  </tbody>\n",
              "</table>\n",
              "<p>1 rows × 28 columns</p>\n",
              "</div>\n",
              "      <button class=\"colab-df-convert\" onclick=\"convertToInteractive('df-b163f6f7-1de8-4c02-a09f-85edb68bb410')\"\n",
              "              title=\"Convert this dataframe to an interactive table.\"\n",
              "              style=\"display:none;\">\n",
              "        \n",
              "  <svg xmlns=\"http://www.w3.org/2000/svg\" height=\"24px\"viewBox=\"0 0 24 24\"\n",
              "       width=\"24px\">\n",
              "    <path d=\"M0 0h24v24H0V0z\" fill=\"none\"/>\n",
              "    <path d=\"M18.56 5.44l.94 2.06.94-2.06 2.06-.94-2.06-.94-.94-2.06-.94 2.06-2.06.94zm-11 1L8.5 8.5l.94-2.06 2.06-.94-2.06-.94L8.5 2.5l-.94 2.06-2.06.94zm10 10l.94 2.06.94-2.06 2.06-.94-2.06-.94-.94-2.06-.94 2.06-2.06.94z\"/><path d=\"M17.41 7.96l-1.37-1.37c-.4-.4-.92-.59-1.43-.59-.52 0-1.04.2-1.43.59L10.3 9.45l-7.72 7.72c-.78.78-.78 2.05 0 2.83L4 21.41c.39.39.9.59 1.41.59.51 0 1.02-.2 1.41-.59l7.78-7.78 2.81-2.81c.8-.78.8-2.07 0-2.86zM5.41 20L4 18.59l7.72-7.72 1.47 1.35L5.41 20z\"/>\n",
              "  </svg>\n",
              "      </button>\n",
              "      \n",
              "  <style>\n",
              "    .colab-df-container {\n",
              "      display:flex;\n",
              "      flex-wrap:wrap;\n",
              "      gap: 12px;\n",
              "    }\n",
              "\n",
              "    .colab-df-convert {\n",
              "      background-color: #E8F0FE;\n",
              "      border: none;\n",
              "      border-radius: 50%;\n",
              "      cursor: pointer;\n",
              "      display: none;\n",
              "      fill: #1967D2;\n",
              "      height: 32px;\n",
              "      padding: 0 0 0 0;\n",
              "      width: 32px;\n",
              "    }\n",
              "\n",
              "    .colab-df-convert:hover {\n",
              "      background-color: #E2EBFA;\n",
              "      box-shadow: 0px 1px 2px rgba(60, 64, 67, 0.3), 0px 1px 3px 1px rgba(60, 64, 67, 0.15);\n",
              "      fill: #174EA6;\n",
              "    }\n",
              "\n",
              "    [theme=dark] .colab-df-convert {\n",
              "      background-color: #3B4455;\n",
              "      fill: #D2E3FC;\n",
              "    }\n",
              "\n",
              "    [theme=dark] .colab-df-convert:hover {\n",
              "      background-color: #434B5C;\n",
              "      box-shadow: 0px 1px 3px 1px rgba(0, 0, 0, 0.15);\n",
              "      filter: drop-shadow(0px 1px 2px rgba(0, 0, 0, 0.3));\n",
              "      fill: #FFFFFF;\n",
              "    }\n",
              "  </style>\n",
              "\n",
              "      <script>\n",
              "        const buttonEl =\n",
              "          document.querySelector('#df-b163f6f7-1de8-4c02-a09f-85edb68bb410 button.colab-df-convert');\n",
              "        buttonEl.style.display =\n",
              "          google.colab.kernel.accessAllowed ? 'block' : 'none';\n",
              "\n",
              "        async function convertToInteractive(key) {\n",
              "          const element = document.querySelector('#df-b163f6f7-1de8-4c02-a09f-85edb68bb410');\n",
              "          const dataTable =\n",
              "            await google.colab.kernel.invokeFunction('convertToInteractive',\n",
              "                                                     [key], {});\n",
              "          if (!dataTable) return;\n",
              "\n",
              "          const docLinkHtml = 'Like what you see? Visit the ' +\n",
              "            '<a target=\"_blank\" href=https://colab.research.google.com/notebooks/data_table.ipynb>data table notebook</a>'\n",
              "            + ' to learn more about interactive tables.';\n",
              "          element.innerHTML = '';\n",
              "          dataTable['output_type'] = 'display_data';\n",
              "          await google.colab.output.renderOutput(dataTable, element);\n",
              "          const docLink = document.createElement('div');\n",
              "          docLink.innerHTML = docLinkHtml;\n",
              "          element.appendChild(docLink);\n",
              "        }\n",
              "      </script>\n",
              "    </div>\n",
              "  </div>\n",
              "  "
            ]
          },
          "metadata": {},
          "execution_count": 44
        }
      ]
    },
    {
      "cell_type": "code",
      "source": [
        "df1[\"deal_amount\"].sum()#------------Sum of amount invested by sharks"
      ],
      "metadata": {
        "colab": {
          "base_uri": "https://localhost:8080/"
        },
        "id": "wixdaLM1_wNl",
        "outputId": "6b2ac122-3d90-4fec-d12f-323615cd4b95"
      },
      "execution_count": null,
      "outputs": [
        {
          "output_type": "execute_result",
          "data": {
            "text/plain": [
              "3642.00106"
            ]
          },
          "metadata": {},
          "execution_count": 45
        }
      ]
    },
    {
      "cell_type": "code",
      "source": [
        "print(\"Highest amount invested per shark\",df1[\"amount_per_shark\"].max())#------------Highest amount invested per shark"
      ],
      "metadata": {
        "colab": {
          "base_uri": "https://localhost:8080/"
        },
        "id": "nzsObP8HAArI",
        "outputId": "f9a85799-83ce-4e7d-812f-a37f4ebc2b4c"
      },
      "execution_count": null,
      "outputs": [
        {
          "output_type": "stream",
          "name": "stdout",
          "text": [
            "Highest amount invested per shark 100.0\n"
          ]
        }
      ]
    },
    {
      "cell_type": "code",
      "source": [
        "print(\"Highest % of equity  per shark \",df1[\"equity_per_shark\"].max())#------------Highest no of equity by per shark"
      ],
      "metadata": {
        "colab": {
          "base_uri": "https://localhost:8080/"
        },
        "id": "7hn1aGstAObr",
        "outputId": "24e306b3-21ba-4846-8aca-72b342b1922f"
      },
      "execution_count": null,
      "outputs": [
        {
          "output_type": "stream",
          "name": "stdout",
          "text": [
            "Highest % of equity  per shark  75.0\n"
          ]
        }
      ]
    },
    {
      "cell_type": "code",
      "source": [],
      "metadata": {
        "id": "hceami_VAafZ"
      },
      "execution_count": null,
      "outputs": []
    }
  ]
}